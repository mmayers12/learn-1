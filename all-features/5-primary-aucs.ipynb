{
 "cells": [
  {
   "cell_type": "markdown",
   "metadata": {},
   "source": [
    "# Assess the marginal performance of every feature for primary observations"
   ]
  },
  {
   "cell_type": "code",
   "execution_count": 1,
   "metadata": {
    "collapsed": false
   },
   "outputs": [],
   "source": [
    "import math\n",
    "\n",
    "import pandas\n",
    "import sklearn.metrics\n",
    "import scipy.stats\n",
    "from statsmodels.sandbox.stats.multicomp import multipletests"
   ]
  },
  {
   "cell_type": "code",
   "execution_count": 2,
   "metadata": {
    "collapsed": false
   },
   "outputs": [],
   "source": [
    "feature_type_df = pandas.read_table('data/matrix/feature-type.tsv')\n",
    "feature_type_df = feature_type_df[['feature', 'feature_type']]\n",
    "feature_df = pandas.read_table('data/matrix/features.tsv.bz2')\n",
    "features = list(feature_type_df['feature'])"
   ]
  },
  {
   "cell_type": "code",
   "execution_count": 3,
   "metadata": {
    "collapsed": false
   },
   "outputs": [
    {
     "data": {
      "text/html": [
       "<div>\n",
       "<table border=\"1\" class=\"dataframe\">\n",
       "  <thead>\n",
       "    <tr style=\"text-align: right;\">\n",
       "      <th></th>\n",
       "      <th>hetnet</th>\n",
       "      <th>compound_id</th>\n",
       "      <th>disease_id</th>\n",
       "      <th>status</th>\n",
       "      <th>primary</th>\n",
       "      <th>disease_name</th>\n",
       "      <th>compound_name</th>\n",
       "      <th>prior_prob</th>\n",
       "      <th>CbG</th>\n",
       "      <th>CtD</th>\n",
       "      <th>...</th>\n",
       "      <th>DtC</th>\n",
       "      <th>CbGaD</th>\n",
       "      <th>CbGaDaGaD</th>\n",
       "      <th>CbGaDtCtD</th>\n",
       "      <th>CbGbCbGaD</th>\n",
       "      <th>CbGbCtD</th>\n",
       "      <th>CtDaGaD</th>\n",
       "      <th>CtDaGbCtD</th>\n",
       "      <th>CtDtCbGaD</th>\n",
       "      <th>CtDtCtD</th>\n",
       "    </tr>\n",
       "  </thead>\n",
       "  <tbody>\n",
       "    <tr>\n",
       "      <th>0</th>\n",
       "      <td>rephetio-v2.0_perm-2</td>\n",
       "      <td>DB00014</td>\n",
       "      <td>DOID:1024</td>\n",
       "      <td>0</td>\n",
       "      <td>1</td>\n",
       "      <td>leprosy</td>\n",
       "      <td>Goserelin</td>\n",
       "      <td>0.006101</td>\n",
       "      <td>2</td>\n",
       "      <td>2</td>\n",
       "      <td>...</td>\n",
       "      <td>2</td>\n",
       "      <td>0.0</td>\n",
       "      <td>0.000545</td>\n",
       "      <td>0.000299</td>\n",
       "      <td>0.001267</td>\n",
       "      <td>0.0</td>\n",
       "      <td>0.001198</td>\n",
       "      <td>0.003134</td>\n",
       "      <td>0.000000</td>\n",
       "      <td>0.014391</td>\n",
       "    </tr>\n",
       "    <tr>\n",
       "      <th>1</th>\n",
       "      <td>rephetio-v2.0_perm-1</td>\n",
       "      <td>DB00136</td>\n",
       "      <td>DOID:1024</td>\n",
       "      <td>0</td>\n",
       "      <td>1</td>\n",
       "      <td>leprosy</td>\n",
       "      <td>Calcitriol</td>\n",
       "      <td>0.002948</td>\n",
       "      <td>4</td>\n",
       "      <td>1</td>\n",
       "      <td>...</td>\n",
       "      <td>2</td>\n",
       "      <td>0.0</td>\n",
       "      <td>0.002510</td>\n",
       "      <td>0.000081</td>\n",
       "      <td>0.000907</td>\n",
       "      <td>0.0</td>\n",
       "      <td>0.004485</td>\n",
       "      <td>0.002194</td>\n",
       "      <td>0.000736</td>\n",
       "      <td>0.000000</td>\n",
       "    </tr>\n",
       "  </tbody>\n",
       "</table>\n",
       "<p>2 rows × 21 columns</p>\n",
       "</div>"
      ],
      "text/plain": [
       "                 hetnet compound_id disease_id  status  primary disease_name  \\\n",
       "0  rephetio-v2.0_perm-2     DB00014  DOID:1024       0        1      leprosy   \n",
       "1  rephetio-v2.0_perm-1     DB00136  DOID:1024       0        1      leprosy   \n",
       "\n",
       "  compound_name  prior_prob  CbG  CtD    ...     DtC  CbGaD  CbGaDaGaD  \\\n",
       "0     Goserelin    0.006101    2    2    ...       2    0.0   0.000545   \n",
       "1    Calcitriol    0.002948    4    1    ...       2    0.0   0.002510   \n",
       "\n",
       "   CbGaDtCtD  CbGbCbGaD  CbGbCtD   CtDaGaD  CtDaGbCtD  CtDtCbGaD   CtDtCtD  \n",
       "0   0.000299   0.001267      0.0  0.001198   0.003134   0.000000  0.014391  \n",
       "1   0.000081   0.000907      0.0  0.004485   0.002194   0.000736  0.000000  \n",
       "\n",
       "[2 rows x 21 columns]"
      ]
     },
     "execution_count": 3,
     "metadata": {},
     "output_type": "execute_result"
    }
   ],
   "source": [
    "feature_df.head(2)"
   ]
  },
  {
   "cell_type": "code",
   "execution_count": 4,
   "metadata": {
    "collapsed": false
   },
   "outputs": [],
   "source": [
    "def compute_metrics(y_true, y_score):\n",
    "    series = pandas.Series()\n",
    "    series['nonzero'] = (y_score > 0).mean()\n",
    "    series['auroc'] = sklearn.metrics.roc_auc_score(y_true, y_score)\n",
    "    series['auprc'] = sklearn.metrics.average_precision_score(y_true, y_score)\n",
    "    return series\n",
    "\n",
    "def columnar_performance(df):\n",
    "    y_true = df['status']\n",
    "    perf_df = df[features].apply(lambda x: compute_metrics(y_true, x), axis='index')\n",
    "    perf_df = perf_df.T\n",
    "    perf_df.index.name = 'feature'\n",
    "    return perf_df.reset_index()\n",
    "\n",
    "perf_df = feature_df.groupby('hetnet').apply(columnar_performance).reset_index(level='hetnet')\n",
    "perf_df = perf_df.merge(feature_type_df)\n",
    "perf_df['permuted'] = perf_df.hetnet.str.contains('_perm').astype(int)"
   ]
  },
  {
   "cell_type": "code",
   "execution_count": 5,
   "metadata": {
    "collapsed": false
   },
   "outputs": [
    {
     "data": {
      "text/html": [
       "<div>\n",
       "<table border=\"1\" class=\"dataframe\">\n",
       "  <thead>\n",
       "    <tr style=\"text-align: right;\">\n",
       "      <th></th>\n",
       "      <th>hetnet</th>\n",
       "      <th>feature</th>\n",
       "      <th>nonzero</th>\n",
       "      <th>auroc</th>\n",
       "      <th>auprc</th>\n",
       "      <th>feature_type</th>\n",
       "      <th>permuted</th>\n",
       "    </tr>\n",
       "  </thead>\n",
       "  <tbody>\n",
       "    <tr>\n",
       "      <th>0</th>\n",
       "      <td>rephetio-v2.0</td>\n",
       "      <td>prior_prob</td>\n",
       "      <td>1.0</td>\n",
       "      <td>0.841798</td>\n",
       "      <td>0.578950</td>\n",
       "      <td>prior</td>\n",
       "      <td>0</td>\n",
       "    </tr>\n",
       "    <tr>\n",
       "      <th>1</th>\n",
       "      <td>rephetio-v2.0_perm-1</td>\n",
       "      <td>prior_prob</td>\n",
       "      <td>1.0</td>\n",
       "      <td>0.798387</td>\n",
       "      <td>0.369178</td>\n",
       "      <td>prior</td>\n",
       "      <td>1</td>\n",
       "    </tr>\n",
       "    <tr>\n",
       "      <th>2</th>\n",
       "      <td>rephetio-v2.0_perm-2</td>\n",
       "      <td>prior_prob</td>\n",
       "      <td>1.0</td>\n",
       "      <td>0.800009</td>\n",
       "      <td>0.362820</td>\n",
       "      <td>prior</td>\n",
       "      <td>1</td>\n",
       "    </tr>\n",
       "    <tr>\n",
       "      <th>3</th>\n",
       "      <td>rephetio-v2.0_perm-3</td>\n",
       "      <td>prior_prob</td>\n",
       "      <td>1.0</td>\n",
       "      <td>0.797623</td>\n",
       "      <td>0.359071</td>\n",
       "      <td>prior</td>\n",
       "      <td>1</td>\n",
       "    </tr>\n",
       "    <tr>\n",
       "      <th>4</th>\n",
       "      <td>rephetio-v2.0_perm-4</td>\n",
       "      <td>prior_prob</td>\n",
       "      <td>1.0</td>\n",
       "      <td>0.800589</td>\n",
       "      <td>0.351372</td>\n",
       "      <td>prior</td>\n",
       "      <td>1</td>\n",
       "    </tr>\n",
       "  </tbody>\n",
       "</table>\n",
       "</div>"
      ],
      "text/plain": [
       "                 hetnet     feature  nonzero     auroc     auprc feature_type  \\\n",
       "0         rephetio-v2.0  prior_prob      1.0  0.841798  0.578950        prior   \n",
       "1  rephetio-v2.0_perm-1  prior_prob      1.0  0.798387  0.369178        prior   \n",
       "2  rephetio-v2.0_perm-2  prior_prob      1.0  0.800009  0.362820        prior   \n",
       "3  rephetio-v2.0_perm-3  prior_prob      1.0  0.797623  0.359071        prior   \n",
       "4  rephetio-v2.0_perm-4  prior_prob      1.0  0.800589  0.351372        prior   \n",
       "\n",
       "   permuted  \n",
       "0         0  \n",
       "1         1  \n",
       "2         1  \n",
       "3         1  \n",
       "4         1  "
      ]
     },
     "execution_count": 5,
     "metadata": {},
     "output_type": "execute_result"
    }
   ],
   "source": [
    "perf_df.merge(feature_type_df).head()"
   ]
  },
  {
   "cell_type": "code",
   "execution_count": 6,
   "metadata": {
    "collapsed": false
   },
   "outputs": [],
   "source": [
    "def compare_permutation(df):\n",
    "    unperm = df.query(\"permuted == 0\").iloc[0, :]\n",
    "    perm_df = df.query(\"permuted == 1\")\n",
    "    series = pandas.Series()\n",
    "    series['nonzero'] = unperm['nonzero']\n",
    "    series['auroc'] = unperm.auroc\n",
    "    series['auroc_permuted'] = perm_df.auroc.mean()\n",
    "    series['delta_auroc'] = series['auroc'] - series['auroc_permuted']\n",
    "    ttest = scipy.stats.ttest_1samp(perm_df.auroc, unperm.auroc)\n",
    "    pvalue = ttest.pvalue\n",
    "    series['pval_auroc'] = pvalue\n",
    "    #series['nlog10_pval_auroc'] = -math.log10(pvalue)\n",
    "    return(series)\n",
    "\n",
    "compare_df = perf_df.groupby(['feature_type', 'feature']).apply(compare_permutation).reset_index()\n",
    "reject, compare_df['fdr_pval_auroc'], alphacSidak, alphacBonf = multipletests(\n",
    "    pvals=compare_df.pval_auroc, method='fdr_bh')\n",
    "compare_df = feature_type_df.merge(compare_df)"
   ]
  },
  {
   "cell_type": "code",
   "execution_count": 7,
   "metadata": {
    "collapsed": false
   },
   "outputs": [
    {
     "data": {
      "text/html": [
       "<div>\n",
       "<table border=\"1\" class=\"dataframe\">\n",
       "  <thead>\n",
       "    <tr style=\"text-align: right;\">\n",
       "      <th></th>\n",
       "      <th>feature</th>\n",
       "      <th>feature_type</th>\n",
       "      <th>nonzero</th>\n",
       "      <th>auroc</th>\n",
       "      <th>auroc_permuted</th>\n",
       "      <th>delta_auroc</th>\n",
       "      <th>pval_auroc</th>\n",
       "      <th>fdr_pval_auroc</th>\n",
       "    </tr>\n",
       "  </thead>\n",
       "  <tbody>\n",
       "    <tr>\n",
       "      <th>0</th>\n",
       "      <td>prior_prob</td>\n",
       "      <td>prior</td>\n",
       "      <td>1.000000</td>\n",
       "      <td>0.841798</td>\n",
       "      <td>0.798573</td>\n",
       "      <td>0.043224</td>\n",
       "      <td>6.611432e-07</td>\n",
       "      <td>0.000004</td>\n",
       "    </tr>\n",
       "    <tr>\n",
       "      <th>1</th>\n",
       "      <td>CbG</td>\n",
       "      <td>degree</td>\n",
       "      <td>0.987642</td>\n",
       "      <td>0.537471</td>\n",
       "      <td>0.536827</td>\n",
       "      <td>0.000645</td>\n",
       "      <td>7.302797e-01</td>\n",
       "      <td>0.730280</td>\n",
       "    </tr>\n",
       "    <tr>\n",
       "      <th>2</th>\n",
       "      <td>CtD</td>\n",
       "      <td>degree</td>\n",
       "      <td>1.000000</td>\n",
       "      <td>0.690826</td>\n",
       "      <td>0.677169</td>\n",
       "      <td>0.013657</td>\n",
       "      <td>3.990638e-05</td>\n",
       "      <td>0.000062</td>\n",
       "    </tr>\n",
       "  </tbody>\n",
       "</table>\n",
       "</div>"
      ],
      "text/plain": [
       "      feature feature_type   nonzero     auroc  auroc_permuted  delta_auroc  \\\n",
       "0  prior_prob        prior  1.000000  0.841798        0.798573     0.043224   \n",
       "1         CbG       degree  0.987642  0.537471        0.536827     0.000645   \n",
       "2         CtD       degree  1.000000  0.690826        0.677169     0.013657   \n",
       "\n",
       "     pval_auroc  fdr_pval_auroc  \n",
       "0  6.611432e-07        0.000004  \n",
       "1  7.302797e-01        0.730280  \n",
       "2  3.990638e-05        0.000062  "
      ]
     },
     "execution_count": 7,
     "metadata": {},
     "output_type": "execute_result"
    }
   ],
   "source": [
    "compare_df.head(3)"
   ]
  },
  {
   "cell_type": "code",
   "execution_count": 8,
   "metadata": {
    "collapsed": true
   },
   "outputs": [],
   "source": [
    "# Save datasets\n",
    "perf_df.to_csv('data/feature-performance/primary-aucs.tsv', sep='\\t', index=False, float_format='%.5g')\n",
    "compare_df.to_csv('data/feature-performance/primary-aurocs.tsv', sep='\\t', index=False, float_format='%.5g')"
   ]
  }
 ],
 "metadata": {
  "kernelspec": {
   "display_name": "Python 3",
   "language": "python",
   "name": "python3"
  },
  "language_info": {
   "codemirror_mode": {
    "name": "ipython",
    "version": 3
   },
   "file_extension": ".py",
   "mimetype": "text/x-python",
   "name": "python",
   "nbconvert_exporter": "python",
   "pygments_lexer": "ipython3",
   "version": "3.5.1"
  }
 },
 "nbformat": 4,
 "nbformat_minor": 0
}
