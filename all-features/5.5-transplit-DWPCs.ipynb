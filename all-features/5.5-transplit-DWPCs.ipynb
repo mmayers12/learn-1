{
 "cells": [
  {
   "cell_type": "markdown",
   "metadata": {},
   "source": [
    "# Transform and split DWPCs, assess performance"
   ]
  },
  {
   "cell_type": "code",
   "execution_count": 1,
   "metadata": {
    "collapsed": true
   },
   "outputs": [],
   "source": [
    "import itertools\n",
    "import bz2\n",
    "\n",
    "import pandas\n",
    "import numpy\n",
    "import sklearn.metrics\n",
    "from scipy.special import logit"
   ]
  },
  {
   "cell_type": "code",
   "execution_count": 2,
   "metadata": {
    "collapsed": true
   },
   "outputs": [],
   "source": [
    "unperm_name = 'rephetio-v2.0'"
   ]
  },
  {
   "cell_type": "code",
   "execution_count": 3,
   "metadata": {
    "collapsed": true
   },
   "outputs": [],
   "source": [
    "feature_df = pandas.read_table('data/matrix/features.tsv.bz2')\n",
    "feature_type_df = pandas.read_table('data/matrix/feature-type.tsv')"
   ]
  },
  {
   "cell_type": "code",
   "execution_count": 4,
   "metadata": {
    "collapsed": false
   },
   "outputs": [
    {
     "data": {
      "text/html": [
       "<div>\n",
       "<table border=\"1\" class=\"dataframe\">\n",
       "  <thead>\n",
       "    <tr style=\"text-align: right;\">\n",
       "      <th></th>\n",
       "      <th>hetnet</th>\n",
       "      <th>compound_id</th>\n",
       "      <th>disease_id</th>\n",
       "      <th>status</th>\n",
       "      <th>primary</th>\n",
       "      <th>disease_name</th>\n",
       "      <th>compound_name</th>\n",
       "      <th>prior_prob</th>\n",
       "      <th>CbG</th>\n",
       "      <th>CtD</th>\n",
       "      <th>...</th>\n",
       "      <th>DtC</th>\n",
       "      <th>CbGaD</th>\n",
       "      <th>CbGaDaGaD</th>\n",
       "      <th>CbGaDtCtD</th>\n",
       "      <th>CbGbCbGaD</th>\n",
       "      <th>CbGbCtD</th>\n",
       "      <th>CtDaGaD</th>\n",
       "      <th>CtDaGbCtD</th>\n",
       "      <th>CtDtCbGaD</th>\n",
       "      <th>CtDtCtD</th>\n",
       "    </tr>\n",
       "  </thead>\n",
       "  <tbody>\n",
       "    <tr>\n",
       "      <th>0</th>\n",
       "      <td>rephetio-v2.0_perm-2</td>\n",
       "      <td>DB00014</td>\n",
       "      <td>DOID:1024</td>\n",
       "      <td>0</td>\n",
       "      <td>1</td>\n",
       "      <td>leprosy</td>\n",
       "      <td>Goserelin</td>\n",
       "      <td>0.006101</td>\n",
       "      <td>2</td>\n",
       "      <td>2</td>\n",
       "      <td>...</td>\n",
       "      <td>2</td>\n",
       "      <td>0.0</td>\n",
       "      <td>0.000545</td>\n",
       "      <td>0.000299</td>\n",
       "      <td>0.001267</td>\n",
       "      <td>0.0</td>\n",
       "      <td>0.001198</td>\n",
       "      <td>0.003134</td>\n",
       "      <td>0.000000</td>\n",
       "      <td>0.014391</td>\n",
       "    </tr>\n",
       "    <tr>\n",
       "      <th>1</th>\n",
       "      <td>rephetio-v2.0_perm-1</td>\n",
       "      <td>DB00136</td>\n",
       "      <td>DOID:1024</td>\n",
       "      <td>0</td>\n",
       "      <td>1</td>\n",
       "      <td>leprosy</td>\n",
       "      <td>Calcitriol</td>\n",
       "      <td>0.002948</td>\n",
       "      <td>4</td>\n",
       "      <td>1</td>\n",
       "      <td>...</td>\n",
       "      <td>2</td>\n",
       "      <td>0.0</td>\n",
       "      <td>0.002510</td>\n",
       "      <td>0.000081</td>\n",
       "      <td>0.000907</td>\n",
       "      <td>0.0</td>\n",
       "      <td>0.004485</td>\n",
       "      <td>0.002194</td>\n",
       "      <td>0.000736</td>\n",
       "      <td>0.000000</td>\n",
       "    </tr>\n",
       "  </tbody>\n",
       "</table>\n",
       "<p>2 rows × 21 columns</p>\n",
       "</div>"
      ],
      "text/plain": [
       "                 hetnet compound_id disease_id  status  primary disease_name  \\\n",
       "0  rephetio-v2.0_perm-2     DB00014  DOID:1024       0        1      leprosy   \n",
       "1  rephetio-v2.0_perm-1     DB00136  DOID:1024       0        1      leprosy   \n",
       "\n",
       "  compound_name  prior_prob  CbG  CtD    ...     DtC  CbGaD  CbGaDaGaD  \\\n",
       "0     Goserelin    0.006101    2    2    ...       2    0.0   0.000545   \n",
       "1    Calcitriol    0.002948    4    1    ...       2    0.0   0.002510   \n",
       "\n",
       "   CbGaDtCtD  CbGbCbGaD  CbGbCtD   CtDaGaD  CtDaGbCtD  CtDtCbGaD   CtDtCtD  \n",
       "0   0.000299   0.001267      0.0  0.001198   0.003134   0.000000  0.014391  \n",
       "1   0.000081   0.000907      0.0  0.004485   0.002194   0.000736  0.000000  \n",
       "\n",
       "[2 rows x 21 columns]"
      ]
     },
     "execution_count": 4,
     "metadata": {},
     "output_type": "execute_result"
    }
   ],
   "source": [
    "feature_df.head(2)"
   ]
  },
  {
   "cell_type": "code",
   "execution_count": 5,
   "metadata": {
    "collapsed": false
   },
   "outputs": [
    {
     "data": {
      "text/html": [
       "<div>\n",
       "<table border=\"1\" class=\"dataframe\">\n",
       "  <thead>\n",
       "    <tr style=\"text-align: right;\">\n",
       "      <th></th>\n",
       "      <th>feature</th>\n",
       "      <th>feature_type</th>\n",
       "      <th>unperm_mean</th>\n",
       "      <th>unperm_sd</th>\n",
       "    </tr>\n",
       "  </thead>\n",
       "  <tbody>\n",
       "    <tr>\n",
       "      <th>0</th>\n",
       "      <td>prior_prob</td>\n",
       "      <td>prior</td>\n",
       "      <td>0.037868</td>\n",
       "      <td>0.066775</td>\n",
       "    </tr>\n",
       "    <tr>\n",
       "      <th>1</th>\n",
       "      <td>CbG</td>\n",
       "      <td>degree</td>\n",
       "      <td>11.544000</td>\n",
       "      <td>12.697000</td>\n",
       "    </tr>\n",
       "    <tr>\n",
       "      <th>2</th>\n",
       "      <td>CtD</td>\n",
       "      <td>degree</td>\n",
       "      <td>2.232200</td>\n",
       "      <td>2.594900</td>\n",
       "    </tr>\n",
       "    <tr>\n",
       "      <th>3</th>\n",
       "      <td>DaG</td>\n",
       "      <td>degree</td>\n",
       "      <td>153.610000</td>\n",
       "      <td>152.490000</td>\n",
       "    </tr>\n",
       "    <tr>\n",
       "      <th>4</th>\n",
       "      <td>DtC</td>\n",
       "      <td>degree</td>\n",
       "      <td>10.246000</td>\n",
       "      <td>11.685000</td>\n",
       "    </tr>\n",
       "  </tbody>\n",
       "</table>\n",
       "</div>"
      ],
      "text/plain": [
       "      feature feature_type  unperm_mean   unperm_sd\n",
       "0  prior_prob        prior     0.037868    0.066775\n",
       "1         CbG       degree    11.544000   12.697000\n",
       "2         CtD       degree     2.232200    2.594900\n",
       "3         DaG       degree   153.610000  152.490000\n",
       "4         DtC       degree    10.246000   11.685000"
      ]
     },
     "execution_count": 5,
     "metadata": {},
     "output_type": "execute_result"
    }
   ],
   "source": [
    "feature_type_df.head()"
   ]
  },
  {
   "cell_type": "code",
   "execution_count": 6,
   "metadata": {
    "collapsed": false
   },
   "outputs": [],
   "source": [
    "def transform_dwpcs(x, scaler):\n",
    "    x = numpy.array(x)\n",
    "    return numpy.arcsinh(x / scaler)\n",
    "\n",
    "transformed_df = feature_df.copy()\n",
    "dwpc_features = feature_type_df.query(\"feature_type == 'dwpc'\").feature\n",
    "degree_features = feature_type_df.query(\"feature_type == 'degree'\").feature\n",
    "feature_to_scaler = dict(zip(feature_type_df.feature, feature_type_df.unperm_mean))\n",
    "for column in dwpc_features:\n",
    "    transformed_df[column] = transform_dwpcs(transformed_df[column], feature_to_scaler[column])"
   ]
  },
  {
   "cell_type": "code",
   "execution_count": 7,
   "metadata": {
    "collapsed": false
   },
   "outputs": [],
   "source": [
    "column_names = list()\n",
    "columns = list()\n",
    "for metapath in dwpc_features:\n",
    "    df = pandas.pivot_table(transformed_df, values=metapath, index=['compound_id', 'disease_id'], columns='hetnet')\n",
    "    df = df[df['rephetio-v2.0'].notnull()]\n",
    "    dwpc = df.iloc[:, 0]\n",
    "    pdwpc = df.iloc[:, 1:].mean(axis='columns')\n",
    "    rdwpc = dwpc - pdwpc\n",
    "    for column in dwpc, pdwpc, rdwpc:\n",
    "        columns.append(column)\n",
    "    for feature_type in 'dwpc', 'pdwpc', 'rdwpc':\n",
    "        column_names.append('{}_{}'.format(feature_type, metapath))\n",
    "\n",
    "split_df = pandas.concat(columns, axis=1)\n",
    "split_df.columns = column_names\n",
    "split_df.reset_index(inplace=True)"
   ]
  },
  {
   "cell_type": "code",
   "execution_count": 8,
   "metadata": {
    "collapsed": false
   },
   "outputs": [
    {
     "data": {
      "text/html": [
       "<div>\n",
       "<table border=\"1\" class=\"dataframe\">\n",
       "  <thead>\n",
       "    <tr style=\"text-align: right;\">\n",
       "      <th></th>\n",
       "      <th>compound_id</th>\n",
       "      <th>disease_id</th>\n",
       "      <th>dwpc_CbGaD</th>\n",
       "      <th>pdwpc_CbGaD</th>\n",
       "      <th>rdwpc_CbGaD</th>\n",
       "      <th>dwpc_CbGaDaGaD</th>\n",
       "      <th>pdwpc_CbGaDaGaD</th>\n",
       "      <th>rdwpc_CbGaDaGaD</th>\n",
       "      <th>dwpc_CbGaDtCtD</th>\n",
       "      <th>pdwpc_CbGaDtCtD</th>\n",
       "      <th>...</th>\n",
       "      <th>rdwpc_CtDaGaD</th>\n",
       "      <th>dwpc_CtDaGbCtD</th>\n",
       "      <th>pdwpc_CtDaGbCtD</th>\n",
       "      <th>rdwpc_CtDaGbCtD</th>\n",
       "      <th>dwpc_CtDtCbGaD</th>\n",
       "      <th>pdwpc_CtDtCbGaD</th>\n",
       "      <th>rdwpc_CtDtCbGaD</th>\n",
       "      <th>dwpc_CtDtCtD</th>\n",
       "      <th>pdwpc_CtDtCtD</th>\n",
       "      <th>rdwpc_CtDtCtD</th>\n",
       "    </tr>\n",
       "  </thead>\n",
       "  <tbody>\n",
       "    <tr>\n",
       "      <th>0</th>\n",
       "      <td>DB00014</td>\n",
       "      <td>DOID:10283</td>\n",
       "      <td>0.0</td>\n",
       "      <td>0.10931</td>\n",
       "      <td>-0.10931</td>\n",
       "      <td>0.903603</td>\n",
       "      <td>0.620670</td>\n",
       "      <td>0.282934</td>\n",
       "      <td>0.0</td>\n",
       "      <td>0.489436</td>\n",
       "      <td>...</td>\n",
       "      <td>0.162255</td>\n",
       "      <td>1.821218</td>\n",
       "      <td>1.241336</td>\n",
       "      <td>0.579881</td>\n",
       "      <td>1.602910</td>\n",
       "      <td>1.450227</td>\n",
       "      <td>0.152683</td>\n",
       "      <td>0.710316</td>\n",
       "      <td>0.810733</td>\n",
       "      <td>-0.100417</td>\n",
       "    </tr>\n",
       "    <tr>\n",
       "      <th>1</th>\n",
       "      <td>DB00014</td>\n",
       "      <td>DOID:11934</td>\n",
       "      <td>0.0</td>\n",
       "      <td>0.00000</td>\n",
       "      <td>0.00000</td>\n",
       "      <td>0.239307</td>\n",
       "      <td>0.204612</td>\n",
       "      <td>0.034695</td>\n",
       "      <td>0.0</td>\n",
       "      <td>0.189799</td>\n",
       "      <td>...</td>\n",
       "      <td>0.755596</td>\n",
       "      <td>1.112478</td>\n",
       "      <td>0.683351</td>\n",
       "      <td>0.429127</td>\n",
       "      <td>1.060563</td>\n",
       "      <td>0.459331</td>\n",
       "      <td>0.601232</td>\n",
       "      <td>1.505999</td>\n",
       "      <td>0.554617</td>\n",
       "      <td>0.951381</td>\n",
       "    </tr>\n",
       "  </tbody>\n",
       "</table>\n",
       "<p>2 rows × 29 columns</p>\n",
       "</div>"
      ],
      "text/plain": [
       "  compound_id  disease_id  dwpc_CbGaD  pdwpc_CbGaD  rdwpc_CbGaD  \\\n",
       "0     DB00014  DOID:10283         0.0      0.10931     -0.10931   \n",
       "1     DB00014  DOID:11934         0.0      0.00000      0.00000   \n",
       "\n",
       "   dwpc_CbGaDaGaD  pdwpc_CbGaDaGaD  rdwpc_CbGaDaGaD  dwpc_CbGaDtCtD  \\\n",
       "0        0.903603         0.620670         0.282934             0.0   \n",
       "1        0.239307         0.204612         0.034695             0.0   \n",
       "\n",
       "   pdwpc_CbGaDtCtD      ...        rdwpc_CtDaGaD  dwpc_CtDaGbCtD  \\\n",
       "0         0.489436      ...             0.162255        1.821218   \n",
       "1         0.189799      ...             0.755596        1.112478   \n",
       "\n",
       "   pdwpc_CtDaGbCtD  rdwpc_CtDaGbCtD  dwpc_CtDtCbGaD  pdwpc_CtDtCbGaD  \\\n",
       "0         1.241336         0.579881        1.602910         1.450227   \n",
       "1         0.683351         0.429127        1.060563         0.459331   \n",
       "\n",
       "   rdwpc_CtDtCbGaD  dwpc_CtDtCtD  pdwpc_CtDtCtD  rdwpc_CtDtCtD  \n",
       "0         0.152683      0.710316       0.810733      -0.100417  \n",
       "1         0.601232      1.505999       0.554617       0.951381  \n",
       "\n",
       "[2 rows x 29 columns]"
      ]
     },
     "execution_count": 8,
     "metadata": {},
     "output_type": "execute_result"
    }
   ],
   "source": [
    "split_df.head(2)"
   ]
  },
  {
   "cell_type": "code",
   "execution_count": 9,
   "metadata": {
    "collapsed": false
   },
   "outputs": [
    {
     "data": {
      "text/html": [
       "<div>\n",
       "<table border=\"1\" class=\"dataframe\">\n",
       "  <thead>\n",
       "    <tr style=\"text-align: right;\">\n",
       "      <th></th>\n",
       "      <th>compound_id</th>\n",
       "      <th>disease_id</th>\n",
       "      <th>status</th>\n",
       "      <th>disease_name</th>\n",
       "      <th>compound_name</th>\n",
       "      <th>prior_logit</th>\n",
       "      <th>degree_CbG</th>\n",
       "      <th>degree_CtD</th>\n",
       "      <th>degree_DaG</th>\n",
       "      <th>degree_DtC</th>\n",
       "      <th>...</th>\n",
       "      <th>rdwpc_CtDaGaD</th>\n",
       "      <th>dwpc_CtDaGbCtD</th>\n",
       "      <th>pdwpc_CtDaGbCtD</th>\n",
       "      <th>rdwpc_CtDaGbCtD</th>\n",
       "      <th>dwpc_CtDtCbGaD</th>\n",
       "      <th>pdwpc_CtDtCbGaD</th>\n",
       "      <th>rdwpc_CtDtCbGaD</th>\n",
       "      <th>dwpc_CtDtCtD</th>\n",
       "      <th>pdwpc_CtDtCtD</th>\n",
       "      <th>rdwpc_CtDtCtD</th>\n",
       "    </tr>\n",
       "  </thead>\n",
       "  <tbody>\n",
       "    <tr>\n",
       "      <th>0</th>\n",
       "      <td>DB00187</td>\n",
       "      <td>DOID:1024</td>\n",
       "      <td>0</td>\n",
       "      <td>leprosy</td>\n",
       "      <td>Esmolol</td>\n",
       "      <td>-5.82371</td>\n",
       "      <td>1.443635</td>\n",
       "      <td>0.881374</td>\n",
       "      <td>3.829114</td>\n",
       "      <td>1.443635</td>\n",
       "      <td>...</td>\n",
       "      <td>-0.150761</td>\n",
       "      <td>0.680314</td>\n",
       "      <td>0.066536</td>\n",
       "      <td>0.613779</td>\n",
       "      <td>0.0</td>\n",
       "      <td>0.266034</td>\n",
       "      <td>-0.266034</td>\n",
       "      <td>0.0</td>\n",
       "      <td>0.064124</td>\n",
       "      <td>-0.064124</td>\n",
       "    </tr>\n",
       "    <tr>\n",
       "      <th>1</th>\n",
       "      <td>DB00195</td>\n",
       "      <td>DOID:1024</td>\n",
       "      <td>0</td>\n",
       "      <td>leprosy</td>\n",
       "      <td>Betaxolol</td>\n",
       "      <td>-5.82371</td>\n",
       "      <td>2.094713</td>\n",
       "      <td>0.881374</td>\n",
       "      <td>3.829114</td>\n",
       "      <td>1.443635</td>\n",
       "      <td>...</td>\n",
       "      <td>-0.130838</td>\n",
       "      <td>0.680314</td>\n",
       "      <td>0.123345</td>\n",
       "      <td>0.556969</td>\n",
       "      <td>0.0</td>\n",
       "      <td>0.219626</td>\n",
       "      <td>-0.219626</td>\n",
       "      <td>0.0</td>\n",
       "      <td>0.064124</td>\n",
       "      <td>-0.064124</td>\n",
       "    </tr>\n",
       "  </tbody>\n",
       "</table>\n",
       "<p>2 rows × 37 columns</p>\n",
       "</div>"
      ],
      "text/plain": [
       "  compound_id disease_id  status disease_name compound_name  prior_logit  \\\n",
       "0     DB00187  DOID:1024       0      leprosy       Esmolol     -5.82371   \n",
       "1     DB00195  DOID:1024       0      leprosy     Betaxolol     -5.82371   \n",
       "\n",
       "   degree_CbG  degree_CtD  degree_DaG  degree_DtC      ...        \\\n",
       "0    1.443635    0.881374    3.829114    1.443635      ...         \n",
       "1    2.094713    0.881374    3.829114    1.443635      ...         \n",
       "\n",
       "   rdwpc_CtDaGaD  dwpc_CtDaGbCtD  pdwpc_CtDaGbCtD  rdwpc_CtDaGbCtD  \\\n",
       "0      -0.150761        0.680314         0.066536         0.613779   \n",
       "1      -0.130838        0.680314         0.123345         0.556969   \n",
       "\n",
       "   dwpc_CtDtCbGaD  pdwpc_CtDtCbGaD  rdwpc_CtDtCbGaD  dwpc_CtDtCtD  \\\n",
       "0             0.0         0.266034        -0.266034           0.0   \n",
       "1             0.0         0.219626        -0.219626           0.0   \n",
       "\n",
       "   pdwpc_CtDtCtD  rdwpc_CtDtCtD  \n",
       "0       0.064124      -0.064124  \n",
       "1       0.064124      -0.064124  \n",
       "\n",
       "[2 rows x 37 columns]"
      ]
     },
     "execution_count": 9,
     "metadata": {},
     "output_type": "execute_result"
    }
   ],
   "source": [
    "base_df = feature_df.query(\"hetnet == @unperm_name\").copy()\n",
    "base_df.insert(8, 'prior_logit', logit(base_df['prior_prob']))\n",
    "for metaege in degree_features:\n",
    "    base_df['degree_{}'.format(metaege)] = numpy.arcsinh(base_df[metaege])\n",
    "base_df.drop(\n",
    "    ['hetnet', 'primary', 'prior_prob'] + list(degree_features) + list(dwpc_features),\n",
    "    axis='columns', inplace=True)\n",
    "transformed_df = base_df.merge(split_df)\n",
    "transformed_df.head(2)"
   ]
  },
  {
   "cell_type": "code",
   "execution_count": 10,
   "metadata": {
    "collapsed": false
   },
   "outputs": [],
   "source": [
    "path = 'data/matrix/rephetio-v2.0/transformed-features.tsv.bz2'\n",
    "with bz2.open(path, 'wt') as write_file:\n",
    "    transformed_df.to_csv(write_file, sep='\\t', index=False, float_format='%.5g')"
   ]
  },
  {
   "cell_type": "markdown",
   "metadata": {},
   "source": [
    "### Compute performance"
   ]
  },
  {
   "cell_type": "code",
   "execution_count": 11,
   "metadata": {
    "collapsed": false,
    "scrolled": true
   },
   "outputs": [
    {
     "data": {
      "text/html": [
       "<div>\n",
       "<table border=\"1\" class=\"dataframe\">\n",
       "  <thead>\n",
       "    <tr style=\"text-align: right;\">\n",
       "      <th>feature_type</th>\n",
       "      <th>metapath</th>\n",
       "      <th>dwpc_auroc</th>\n",
       "      <th>pdwpc_auroc</th>\n",
       "      <th>rdwpc_auroc</th>\n",
       "    </tr>\n",
       "  </thead>\n",
       "  <tbody>\n",
       "    <tr>\n",
       "      <th>0</th>\n",
       "      <td>CbGaD</td>\n",
       "      <td>0.716491</td>\n",
       "      <td>0.602462</td>\n",
       "      <td>0.701777</td>\n",
       "    </tr>\n",
       "    <tr>\n",
       "      <th>1</th>\n",
       "      <td>CbGaDaGaD</td>\n",
       "      <td>0.687493</td>\n",
       "      <td>0.632354</td>\n",
       "      <td>0.632860</td>\n",
       "    </tr>\n",
       "  </tbody>\n",
       "</table>\n",
       "</div>"
      ],
      "text/plain": [
       "feature_type   metapath  dwpc_auroc  pdwpc_auroc  rdwpc_auroc\n",
       "0                 CbGaD    0.716491     0.602462     0.701777\n",
       "1             CbGaDaGaD    0.687493     0.632354     0.632860"
      ]
     },
     "execution_count": 11,
     "metadata": {},
     "output_type": "execute_result"
    }
   ],
   "source": [
    "rows  = list()\n",
    "for column in transformed_df.columns[transformed_df.columns.str.contains('dwpc')]:\n",
    "    feature_type, metapath = column.split('_', 1)\n",
    "    auroc = sklearn.metrics.roc_auc_score(transformed_df.status, transformed_df[column])\n",
    "    rows.append([feature_type + '_auroc', metapath, auroc])\n",
    "auroc_df = pandas.DataFrame(rows, columns=['feature_type', 'metapath', 'auroc'])\n",
    "auroc_df = auroc_df.pivot_table(values='auroc', index='metapath', columns='feature_type').reset_index()\n",
    "auroc_df.head(2)"
   ]
  },
  {
   "cell_type": "code",
   "execution_count": 12,
   "metadata": {
    "collapsed": false
   },
   "outputs": [
    {
     "data": {
      "text/html": [
       "<div>\n",
       "<table border=\"1\" class=\"dataframe\">\n",
       "  <thead>\n",
       "    <tr style=\"text-align: right;\">\n",
       "      <th></th>\n",
       "      <th>metapath</th>\n",
       "      <th>dwpc_auroc</th>\n",
       "      <th>pdwpc_auroc</th>\n",
       "      <th>rdwpc_auroc</th>\n",
       "      <th>nonzero</th>\n",
       "      <th>pdwpc_primary_auroc</th>\n",
       "      <th>delta_auroc</th>\n",
       "      <th>pval_delta_auroc</th>\n",
       "    </tr>\n",
       "  </thead>\n",
       "  <tbody>\n",
       "    <tr>\n",
       "      <th>0</th>\n",
       "      <td>CbGaD</td>\n",
       "      <td>0.716491</td>\n",
       "      <td>0.602462</td>\n",
       "      <td>0.701777</td>\n",
       "      <td>0.32650</td>\n",
       "      <td>0.56621</td>\n",
       "      <td>0.150280</td>\n",
       "      <td>7.561300e-07</td>\n",
       "    </tr>\n",
       "    <tr>\n",
       "      <th>1</th>\n",
       "      <td>CbGaDaGaD</td>\n",
       "      <td>0.687493</td>\n",
       "      <td>0.632354</td>\n",
       "      <td>0.632860</td>\n",
       "      <td>0.97854</td>\n",
       "      <td>0.60799</td>\n",
       "      <td>0.079507</td>\n",
       "      <td>8.209200e-06</td>\n",
       "    </tr>\n",
       "  </tbody>\n",
       "</table>\n",
       "</div>"
      ],
      "text/plain": [
       "    metapath  dwpc_auroc  pdwpc_auroc  rdwpc_auroc  nonzero  \\\n",
       "0      CbGaD    0.716491     0.602462     0.701777  0.32650   \n",
       "1  CbGaDaGaD    0.687493     0.632354     0.632860  0.97854   \n",
       "\n",
       "   pdwpc_primary_auroc  delta_auroc  pval_delta_auroc  \n",
       "0              0.56621     0.150280      7.561300e-07  \n",
       "1              0.60799     0.079507      8.209200e-06  "
      ]
     },
     "execution_count": 12,
     "metadata": {},
     "output_type": "execute_result"
    }
   ],
   "source": [
    "primary_auroc_df = pandas.read_table('data/feature-performance/primary-aurocs.tsv')\n",
    "primary_auroc_df = primary_auroc_df.rename(columns={'feature': 'metapath', 'auroc_permuted': 'pdwpc_primary_auroc', 'pval_auroc': 'pval_delta_auroc'})\n",
    "primary_auroc_df = primary_auroc_df[['metapath', 'nonzero', 'pdwpc_primary_auroc', 'delta_auroc', 'pval_delta_auroc']]\n",
    "auroc_df = auroc_df.merge(primary_auroc_df)\n",
    "auroc_df.head(2)"
   ]
  },
  {
   "cell_type": "code",
   "execution_count": 13,
   "metadata": {
    "collapsed": true
   },
   "outputs": [],
   "source": [
    "auroc_df.to_csv('data/feature-performance/auroc.tsv', sep='\\t', index=False, float_format='%.5g')"
   ]
  },
  {
   "cell_type": "code",
   "execution_count": 14,
   "metadata": {
    "collapsed": false,
    "scrolled": true
   },
   "outputs": [
    {
     "data": {
      "text/html": [
       "<div>\n",
       "<table border=\"1\" class=\"dataframe\">\n",
       "  <thead>\n",
       "    <tr style=\"text-align: right;\">\n",
       "      <th></th>\n",
       "      <th>metapath</th>\n",
       "      <th>dwpc_auroc</th>\n",
       "      <th>pdwpc_auroc</th>\n",
       "      <th>rdwpc_auroc</th>\n",
       "      <th>nonzero</th>\n",
       "      <th>pdwpc_primary_auroc</th>\n",
       "      <th>delta_auroc</th>\n",
       "      <th>pval_delta_auroc</th>\n",
       "    </tr>\n",
       "  </thead>\n",
       "  <tbody>\n",
       "    <tr>\n",
       "      <th>0</th>\n",
       "      <td>CbGaD</td>\n",
       "      <td>0.716491</td>\n",
       "      <td>0.602462</td>\n",
       "      <td>0.701777</td>\n",
       "      <td>0.32650</td>\n",
       "      <td>0.56621</td>\n",
       "      <td>0.150280</td>\n",
       "      <td>7.561300e-07</td>\n",
       "    </tr>\n",
       "    <tr>\n",
       "      <th>3</th>\n",
       "      <td>CbGbCbGaD</td>\n",
       "      <td>0.690508</td>\n",
       "      <td>0.648705</td>\n",
       "      <td>0.649169</td>\n",
       "      <td>0.91089</td>\n",
       "      <td>0.62966</td>\n",
       "      <td>0.060851</td>\n",
       "      <td>2.970600e-04</td>\n",
       "    </tr>\n",
       "    <tr>\n",
       "      <th>1</th>\n",
       "      <td>CbGaDaGaD</td>\n",
       "      <td>0.687493</td>\n",
       "      <td>0.632354</td>\n",
       "      <td>0.632860</td>\n",
       "      <td>0.97854</td>\n",
       "      <td>0.60799</td>\n",
       "      <td>0.079507</td>\n",
       "      <td>8.209200e-06</td>\n",
       "    </tr>\n",
       "  </tbody>\n",
       "</table>\n",
       "</div>"
      ],
      "text/plain": [
       "    metapath  dwpc_auroc  pdwpc_auroc  rdwpc_auroc  nonzero  \\\n",
       "0      CbGaD    0.716491     0.602462     0.701777  0.32650   \n",
       "3  CbGbCbGaD    0.690508     0.648705     0.649169  0.91089   \n",
       "1  CbGaDaGaD    0.687493     0.632354     0.632860  0.97854   \n",
       "\n",
       "   pdwpc_primary_auroc  delta_auroc  pval_delta_auroc  \n",
       "0              0.56621     0.150280      7.561300e-07  \n",
       "3              0.62966     0.060851      2.970600e-04  \n",
       "1              0.60799     0.079507      8.209200e-06  "
      ]
     },
     "execution_count": 14,
     "metadata": {},
     "output_type": "execute_result"
    }
   ],
   "source": [
    "#auroc_df.sort_values('rdwpc_auroc', ascending = False)\n",
    "auroc_df[-auroc_df.metapath.str.contains('CtD')].sort_values('rdwpc_auroc', ascending = False).head()"
   ]
  }
 ],
 "metadata": {
  "kernelspec": {
   "display_name": "Python 3",
   "language": "python",
   "name": "python3"
  },
  "language_info": {
   "codemirror_mode": {
    "name": "ipython",
    "version": 3
   },
   "file_extension": ".py",
   "mimetype": "text/x-python",
   "name": "python",
   "nbconvert_exporter": "python",
   "pygments_lexer": "ipython3",
   "version": "3.5.1"
  }
 },
 "nbformat": 4,
 "nbformat_minor": 0
}
