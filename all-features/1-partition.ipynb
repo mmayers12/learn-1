{
 "cells": [
  {
   "cell_type": "markdown",
   "metadata": {},
   "source": [
    "# Assign positives and negatives "
   ]
  },
  {
   "cell_type": "code",
   "execution_count": 1,
   "metadata": {
    "collapsed": true
   },
   "outputs": [],
   "source": [
    "import itertools\n",
    "import random\n",
    "import sys\n",
    "import json\n",
    "\n",
    "import py2neo\n",
    "import pandas"
   ]
  },
  {
   "cell_type": "markdown",
   "metadata": {},
   "source": [
    "## Startup neo4j and connections"
   ]
  },
  {
   "cell_type": "code",
   "execution_count": 2,
   "metadata": {
    "collapsed": false
   },
   "outputs": [
    {
     "data": {
      "text/plain": [
       "['rephetio-v2.0',\n",
       " 'rephetio-v2.0_perm-1',\n",
       " 'rephetio-v2.0_perm-2',\n",
       " 'rephetio-v2.0_perm-3',\n",
       " 'rephetio-v2.0_perm-4',\n",
       " 'rephetio-v2.0_perm-5']"
      ]
     },
     "execution_count": 2,
     "metadata": {},
     "output_type": "execute_result"
    }
   ],
   "source": [
    "with open('servers.json') as read_file:\n",
    "    instances = json.load(read_file)\n",
    "\n",
    "for instance in instances:\n",
    "    uri = 'http://localhost:{}/db/data/'.format(instance['port'])\n",
    "    instance['py2neo'] = py2neo.Graph(uri)\n",
    "    if instance['name'] == 'rephetio-v2.0':\n",
    "        neo_unperm = instance['py2neo']\n",
    "\n",
    "hetnets = [x['name'] for x in instances]\n",
    "hetnets"
   ]
  },
  {
   "cell_type": "markdown",
   "metadata": {},
   "source": [
    "## Create partitions"
   ]
  },
  {
   "cell_type": "code",
   "execution_count": 3,
   "metadata": {
    "collapsed": true
   },
   "outputs": [],
   "source": [
    "def to_df(record_list):\n",
    "    \"\"\"Convert a py2neo RecordList to a dataframe\"\"\"\n",
    "    return pandas.DataFrame(record_list.records, columns = record_list.columns)"
   ]
  },
  {
   "cell_type": "code",
   "execution_count": 4,
   "metadata": {
    "collapsed": true
   },
   "outputs": [],
   "source": [
    "compound_df = pandas.read_table('../summary/compounds.tsv')\n",
    "disease_df = pandas.read_table('../summary/diseases.tsv')"
   ]
  },
  {
   "cell_type": "code",
   "execution_count": 5,
   "metadata": {
    "collapsed": false
   },
   "outputs": [
    {
     "data": {
      "text/plain": [
       "'134 compounds × 1393 diseases = 186662 pairs'"
      ]
     },
     "execution_count": 5,
     "metadata": {},
     "output_type": "execute_result"
    }
   ],
   "source": [
    "'{} compounds × {} diseases = {} pairs'.format(\n",
    "    len(disease_df), len(compound_df), len(disease_df) * len(compound_df))"
   ]
  },
  {
   "cell_type": "code",
   "execution_count": 6,
   "metadata": {
    "collapsed": true
   },
   "outputs": [],
   "source": [
    "nonzero_prior_pairs = set(itertools.product(\n",
    "    compound_df.query(\"treats > 0\").compound_id,\n",
    "    disease_df.query(\"treats > 0\").disease_id)\n",
    ")"
   ]
  },
  {
   "cell_type": "code",
   "execution_count": 7,
   "metadata": {
    "collapsed": false
   },
   "outputs": [],
   "source": [
    "indication_query = '''\n",
    "MATCH (compound:Compound)-[treatment:TREATS_CtD]->(disease:Disease)\n",
    "RETURN\n",
    "  compound.identifier AS compound_id,\n",
    "  disease.identifier AS disease_id\n",
    "ORDER BY\n",
    "  compound_id, disease_id\n",
    "'''\n",
    "\n",
    "def partition(neo):\n",
    "    \"\"\"\n",
    "    Extract negative and positive compound-disease pairs from a py2neo.Graph.\n",
    "    \"\"\"\n",
    "    \n",
    "    # query hetnet for all positive drug-treat-disease examples\n",
    "    # query hetnet for all potential drug-disease pairs\n",
    "    # randomly sample 4x the number of non-positive examples for use as negative examples\n",
    "\n",
    "    \n",
    "    # Use TREATS_CtD as positives\n",
    "    indication_df = to_df(neo.cypher.execute(indication_query))\n",
    "    positives = set(zip(indication_df.compound_id, indication_df.disease_id))\n",
    "\n",
    "    # Use nonzero-prior pairs excluding non-negatives as negatives\n",
    "    negatives = nonzero_prior_pairs - positives\n",
    "    negatives = random.sample(negatives, k=len(positives) * 4)\n",
    "    rows = list()\n",
    "    for status, pairs in (0, negatives), (1, positives):\n",
    "        for drug, disease in pairs:\n",
    "            rows.append((drug, disease, status))\n",
    "    df = pandas.DataFrame(rows, columns=['compound_id', 'disease_id', 'status'])\n",
    "    df = df.sort_values(['disease_id', 'status', 'compound_id'])\n",
    "    return df"
   ]
  },
  {
   "cell_type": "code",
   "execution_count": 8,
   "metadata": {
    "collapsed": false
   },
   "outputs": [],
   "source": [
    "part_dfs = list()\n",
    "for seed, instance in enumerate(instances):\n",
    "    random.seed(seed, version=2)\n",
    "    part_df = partition(instance['py2neo'])\n",
    "    part_df.insert(0, 'hetnet', instance['name'])\n",
    "    part_dfs.append(part_df)\n",
    "part_df = pandas.concat(part_dfs)"
   ]
  },
  {
   "cell_type": "code",
   "execution_count": 9,
   "metadata": {
    "collapsed": false
   },
   "outputs": [
    {
     "data": {
      "text/html": [
       "<div>\n",
       "<table border=\"1\" class=\"dataframe\">\n",
       "  <thead>\n",
       "    <tr style=\"text-align: right;\">\n",
       "      <th></th>\n",
       "      <th>hetnet</th>\n",
       "      <th>compound_id</th>\n",
       "      <th>disease_id</th>\n",
       "      <th>status</th>\n",
       "    </tr>\n",
       "  </thead>\n",
       "  <tbody>\n",
       "    <tr>\n",
       "      <th>837</th>\n",
       "      <td>rephetio-v2.0</td>\n",
       "      <td>DB00178</td>\n",
       "      <td>DOID:0050741</td>\n",
       "      <td>0</td>\n",
       "    </tr>\n",
       "    <tr>\n",
       "      <th>547</th>\n",
       "      <td>rephetio-v2.0</td>\n",
       "      <td>DB00242</td>\n",
       "      <td>DOID:0050741</td>\n",
       "      <td>0</td>\n",
       "    </tr>\n",
       "    <tr>\n",
       "      <th>205</th>\n",
       "      <td>rephetio-v2.0</td>\n",
       "      <td>DB00264</td>\n",
       "      <td>DOID:0050741</td>\n",
       "      <td>0</td>\n",
       "    </tr>\n",
       "    <tr>\n",
       "      <th>798</th>\n",
       "      <td>rephetio-v2.0</td>\n",
       "      <td>DB00275</td>\n",
       "      <td>DOID:0050741</td>\n",
       "      <td>0</td>\n",
       "    </tr>\n",
       "    <tr>\n",
       "      <th>542</th>\n",
       "      <td>rephetio-v2.0</td>\n",
       "      <td>DB00394</td>\n",
       "      <td>DOID:0050741</td>\n",
       "      <td>0</td>\n",
       "    </tr>\n",
       "  </tbody>\n",
       "</table>\n",
       "</div>"
      ],
      "text/plain": [
       "            hetnet compound_id    disease_id  status\n",
       "837  rephetio-v2.0     DB00178  DOID:0050741       0\n",
       "547  rephetio-v2.0     DB00242  DOID:0050741       0\n",
       "205  rephetio-v2.0     DB00264  DOID:0050741       0\n",
       "798  rephetio-v2.0     DB00275  DOID:0050741       0\n",
       "542  rephetio-v2.0     DB00394  DOID:0050741       0"
      ]
     },
     "execution_count": 9,
     "metadata": {},
     "output_type": "execute_result"
    }
   ],
   "source": [
    "part_df.head()"
   ]
  },
  {
   "cell_type": "code",
   "execution_count": 10,
   "metadata": {
    "collapsed": false
   },
   "outputs": [
    {
     "data": {
      "text/plain": [
       "hetnet                status\n",
       "rephetio-v2.0         0         2460\n",
       "                      1          615\n",
       "rephetio-v2.0_perm-1  0         2460\n",
       "                      1          615\n",
       "rephetio-v2.0_perm-2  0         2460\n",
       "                      1          615\n",
       "rephetio-v2.0_perm-3  0         2460\n",
       "                      1          615\n",
       "rephetio-v2.0_perm-4  0         2460\n",
       "                      1          615\n",
       "rephetio-v2.0_perm-5  0         2460\n",
       "                      1          615\n",
       "dtype: int64"
      ]
     },
     "execution_count": 10,
     "metadata": {},
     "output_type": "execute_result"
    }
   ],
   "source": [
    "part_df.groupby(\"hetnet\")[\"status\"].value_counts()"
   ]
  },
  {
   "cell_type": "code",
   "execution_count": 11,
   "metadata": {
    "collapsed": false
   },
   "outputs": [
    {
     "data": {
      "text/html": [
       "<div>\n",
       "<table border=\"1\" class=\"dataframe\">\n",
       "  <thead>\n",
       "    <tr style=\"text-align: right;\">\n",
       "      <th></th>\n",
       "      <th>hetnet</th>\n",
       "      <th>compound_id</th>\n",
       "      <th>disease_id</th>\n",
       "      <th>status</th>\n",
       "    </tr>\n",
       "  </thead>\n",
       "  <tbody>\n",
       "    <tr>\n",
       "      <th>11</th>\n",
       "      <td>rephetio-v2.0_perm-1</td>\n",
       "      <td>DB01048</td>\n",
       "      <td>DOID:0060073</td>\n",
       "      <td>0</td>\n",
       "    </tr>\n",
       "    <tr>\n",
       "      <th>12</th>\n",
       "      <td>rephetio-v2.0_perm-1</td>\n",
       "      <td>DB01048</td>\n",
       "      <td>DOID:10283</td>\n",
       "      <td>0</td>\n",
       "    </tr>\n",
       "  </tbody>\n",
       "</table>\n",
       "</div>"
      ],
      "text/plain": [
       "                  hetnet compound_id    disease_id  status\n",
       "11  rephetio-v2.0_perm-1     DB01048  DOID:0060073       0\n",
       "12  rephetio-v2.0_perm-1     DB01048    DOID:10283       0"
      ]
     },
     "execution_count": 11,
     "metadata": {},
     "output_type": "execute_result"
    }
   ],
   "source": [
    "## Create an even-matrix for unpermuted observations\n",
    "template_df = pandas.DataFrame(list(itertools.product(hetnets, compound_df.compound_id)), columns=['hetnet', 'compound_id'])\n",
    "unperm_pair_df = part_df.query(\"hetnet == 'rephetio-v2.0'\")[['compound_id', 'disease_id']]\n",
    "unperm_pair_df = template_df.merge(unperm_pair_df)\n",
    "unperm_pair_df = unperm_pair_df.merge(part_df, how='left')\n",
    "unperm_pair_df = unperm_pair_df[unperm_pair_df.status.isnull()]\n",
    "unperm_pair_df.status = unperm_pair_df.status.fillna(0).astype(int)\n",
    "unperm_pair_df.head(2)"
   ]
  },
  {
   "cell_type": "code",
   "execution_count": 12,
   "metadata": {
    "collapsed": false,
    "scrolled": true
   },
   "outputs": [
    {
     "data": {
      "text/html": [
       "<div>\n",
       "<table border=\"1\" class=\"dataframe\">\n",
       "  <thead>\n",
       "    <tr style=\"text-align: right;\">\n",
       "      <th></th>\n",
       "      <th>hetnet</th>\n",
       "      <th>compound_id</th>\n",
       "      <th>disease_id</th>\n",
       "      <th>status</th>\n",
       "      <th>primary</th>\n",
       "    </tr>\n",
       "  </thead>\n",
       "  <tbody>\n",
       "    <tr>\n",
       "      <th>1752</th>\n",
       "      <td>rephetio-v2.0_perm-2</td>\n",
       "      <td>DB00014</td>\n",
       "      <td>DOID:1024</td>\n",
       "      <td>0</td>\n",
       "      <td>1</td>\n",
       "    </tr>\n",
       "    <tr>\n",
       "      <th>2788</th>\n",
       "      <td>rephetio-v2.0</td>\n",
       "      <td>DB00014</td>\n",
       "      <td>DOID:10283</td>\n",
       "      <td>1</td>\n",
       "      <td>1</td>\n",
       "    </tr>\n",
       "    <tr>\n",
       "      <th>7917</th>\n",
       "      <td>rephetio-v2.0_perm-1</td>\n",
       "      <td>DB00014</td>\n",
       "      <td>DOID:10283</td>\n",
       "      <td>0</td>\n",
       "      <td>0</td>\n",
       "    </tr>\n",
       "    <tr>\n",
       "      <th>7926</th>\n",
       "      <td>rephetio-v2.0_perm-2</td>\n",
       "      <td>DB00014</td>\n",
       "      <td>DOID:10283</td>\n",
       "      <td>0</td>\n",
       "      <td>0</td>\n",
       "    </tr>\n",
       "    <tr>\n",
       "      <th>7935</th>\n",
       "      <td>rephetio-v2.0_perm-3</td>\n",
       "      <td>DB00014</td>\n",
       "      <td>DOID:10283</td>\n",
       "      <td>0</td>\n",
       "      <td>0</td>\n",
       "    </tr>\n",
       "  </tbody>\n",
       "</table>\n",
       "</div>"
      ],
      "text/plain": [
       "                    hetnet compound_id  disease_id  status  primary\n",
       "1752  rephetio-v2.0_perm-2     DB00014   DOID:1024       0        1\n",
       "2788         rephetio-v2.0     DB00014  DOID:10283       1        1\n",
       "7917  rephetio-v2.0_perm-1     DB00014  DOID:10283       0        0\n",
       "7926  rephetio-v2.0_perm-2     DB00014  DOID:10283       0        0\n",
       "7935  rephetio-v2.0_perm-3     DB00014  DOID:10283       0        0"
      ]
     },
     "execution_count": 12,
     "metadata": {},
     "output_type": "execute_result"
    }
   ],
   "source": [
    "part_df['primary'] = 1\n",
    "unperm_pair_df['primary'] = 0\n",
    "full_part_df = pandas.concat([part_df, unperm_pair_df])\n",
    "full_part_df = full_part_df.sort_values(['compound_id', 'disease_id', 'hetnet'])\n",
    "full_part_df.head(5)"
   ]
  },
  {
   "cell_type": "code",
   "execution_count": 13,
   "metadata": {
    "collapsed": true
   },
   "outputs": [],
   "source": [
    "full_part_df.to_csv('data/partitions.tsv', sep='\\t', index=False)"
   ]
  },
  {
   "cell_type": "code",
   "execution_count": 14,
   "metadata": {
    "collapsed": false
   },
   "outputs": [
    {
     "data": {
      "text/plain": [
       "31752"
      ]
     },
     "execution_count": 14,
     "metadata": {},
     "output_type": "execute_result"
    }
   ],
   "source": [
    "# Number of hetnet-compound-disease pairs\n",
    "len(full_part_df)"
   ]
  },
  {
   "cell_type": "code",
   "execution_count": 15,
   "metadata": {
    "collapsed": false
   },
   "outputs": [
    {
     "data": {
      "text/html": [
       "<div>\n",
       "<table border=\"1\" class=\"dataframe\">\n",
       "  <thead>\n",
       "    <tr style=\"text-align: right;\">\n",
       "      <th>status</th>\n",
       "      <th>0</th>\n",
       "      <th>1</th>\n",
       "    </tr>\n",
       "    <tr>\n",
       "      <th>primary</th>\n",
       "      <th></th>\n",
       "      <th></th>\n",
       "    </tr>\n",
       "  </thead>\n",
       "  <tbody>\n",
       "    <tr>\n",
       "      <th>0</th>\n",
       "      <td>13302</td>\n",
       "      <td>0</td>\n",
       "    </tr>\n",
       "    <tr>\n",
       "      <th>1</th>\n",
       "      <td>14760</td>\n",
       "      <td>3690</td>\n",
       "    </tr>\n",
       "  </tbody>\n",
       "</table>\n",
       "</div>"
      ],
      "text/plain": [
       "status       0     1\n",
       "primary             \n",
       "0        13302     0\n",
       "1        14760  3690"
      ]
     },
     "execution_count": 15,
     "metadata": {},
     "output_type": "execute_result"
    }
   ],
   "source": [
    "# Number of positives and negatives per purpose\n",
    "pandas.crosstab(full_part_df.primary, full_part_df.status)"
   ]
  },
  {
   "cell_type": "code",
   "execution_count": 16,
   "metadata": {
    "collapsed": false
   },
   "outputs": [
    {
     "data": {
      "text/html": [
       "<div>\n",
       "<table border=\"1\" class=\"dataframe\">\n",
       "  <thead>\n",
       "    <tr style=\"text-align: right;\">\n",
       "      <th>status</th>\n",
       "      <th>0</th>\n",
       "      <th>1</th>\n",
       "    </tr>\n",
       "    <tr>\n",
       "      <th>hetnet</th>\n",
       "      <th></th>\n",
       "      <th></th>\n",
       "    </tr>\n",
       "  </thead>\n",
       "  <tbody>\n",
       "    <tr>\n",
       "      <th>rephetio-v2.0</th>\n",
       "      <td>2460</td>\n",
       "      <td>615</td>\n",
       "    </tr>\n",
       "    <tr>\n",
       "      <th>rephetio-v2.0_perm-1</th>\n",
       "      <td>5115</td>\n",
       "      <td>615</td>\n",
       "    </tr>\n",
       "    <tr>\n",
       "      <th>rephetio-v2.0_perm-2</th>\n",
       "      <td>5138</td>\n",
       "      <td>615</td>\n",
       "    </tr>\n",
       "    <tr>\n",
       "      <th>rephetio-v2.0_perm-3</th>\n",
       "      <td>5114</td>\n",
       "      <td>615</td>\n",
       "    </tr>\n",
       "    <tr>\n",
       "      <th>rephetio-v2.0_perm-4</th>\n",
       "      <td>5120</td>\n",
       "      <td>615</td>\n",
       "    </tr>\n",
       "    <tr>\n",
       "      <th>rephetio-v2.0_perm-5</th>\n",
       "      <td>5115</td>\n",
       "      <td>615</td>\n",
       "    </tr>\n",
       "  </tbody>\n",
       "</table>\n",
       "</div>"
      ],
      "text/plain": [
       "status                   0    1\n",
       "hetnet                         \n",
       "rephetio-v2.0         2460  615\n",
       "rephetio-v2.0_perm-1  5115  615\n",
       "rephetio-v2.0_perm-2  5138  615\n",
       "rephetio-v2.0_perm-3  5114  615\n",
       "rephetio-v2.0_perm-4  5120  615\n",
       "rephetio-v2.0_perm-5  5115  615"
      ]
     },
     "execution_count": 16,
     "metadata": {},
     "output_type": "execute_result"
    }
   ],
   "source": [
    "# Number of positives and negatives per hetnet\n",
    "pandas.crosstab(full_part_df.hetnet, full_part_df.status)"
   ]
  }
 ],
 "metadata": {
  "kernelspec": {
   "display_name": "Python 3",
   "language": "python",
   "name": "python3"
  },
  "language_info": {
   "codemirror_mode": {
    "name": "ipython",
    "version": 3
   },
   "file_extension": ".py",
   "mimetype": "text/x-python",
   "name": "python",
   "nbconvert_exporter": "python",
   "pygments_lexer": "ipython3",
   "version": "3.5.1"
  }
 },
 "nbformat": 4,
 "nbformat_minor": 0
}
