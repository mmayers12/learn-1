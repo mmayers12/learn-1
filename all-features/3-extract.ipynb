{
 "cells": [
  {
   "cell_type": "markdown",
   "metadata": {},
   "source": [
    "# Assign positives and negatives "
   ]
  },
  {
   "cell_type": "code",
   "execution_count": 1,
   "metadata": {
    "collapsed": true
   },
   "outputs": [],
   "source": [
    "import json\n",
    "import threading\n",
    "import concurrent.futures\n",
    "import bz2\n",
    "import csv\n",
    "import time\n",
    "import multiprocessing as mp\n",
    "\n",
    "import pandas\n",
    "import py2neo"
   ]
  },
  {
   "cell_type": "code",
   "execution_count": 2,
   "metadata": {
    "collapsed": true
   },
   "outputs": [],
   "source": [
    "from tqdm import tqdm"
   ]
  },
  {
   "cell_type": "markdown",
   "metadata": {},
   "source": [
    "## Connect to neo4j server"
   ]
  },
  {
   "cell_type": "code",
   "execution_count": 3,
   "metadata": {
    "collapsed": true
   },
   "outputs": [],
   "source": [
    "# Override the default py2neo timeout\n",
    "py2neo.packages.httpstream.http.socket_timeout = 1e8"
   ]
  },
  {
   "cell_type": "code",
   "execution_count": 4,
   "metadata": {
    "collapsed": false
   },
   "outputs": [],
   "source": [
    "with open('servers.json') as read_file:\n",
    "    instances = json.load(read_file)\n",
    "\n",
    "name_to_neo = dict()\n",
    "for instance in instances:\n",
    "    neo = py2neo.Graph(\n",
    "        host=\"localhost\", http_port=instance['port']+1,\n",
    "        bolt_port=instance['port'], bolt=True\n",
    "    )\n",
    "    \n",
    "    name_to_neo[instance['name']] = neo\n",
    "    \n",
    "#     uri = 'http://localhost:{}/db/data/'.format(instance['port'])\n",
    "#     name_to_neo[instance['name']] = py2neo.Graph(uri)"
   ]
  },
  {
   "cell_type": "markdown",
   "metadata": {},
   "source": [
    "## Read metapaths"
   ]
  },
  {
   "cell_type": "code",
   "execution_count": 5,
   "metadata": {
    "collapsed": false
   },
   "outputs": [
    {
     "data": {
      "text/plain": [
       "9"
      ]
     },
     "execution_count": 5,
     "metadata": {},
     "output_type": "execute_result"
    }
   ],
   "source": [
    "with open('data/metapaths.json') as read_file:\n",
    "    metapaths = json.load(read_file)\n",
    "\n",
    "metapaths.sort(key=lambda x: x['join_complexities'][0])\n",
    "len(metapaths)"
   ]
  },
  {
   "cell_type": "markdown",
   "metadata": {},
   "source": [
    "## Read hetnet-compound-disease pairs"
   ]
  },
  {
   "cell_type": "code",
   "execution_count": 6,
   "metadata": {
    "collapsed": false
   },
   "outputs": [
    {
     "data": {
      "text/html": [
       "<div>\n",
       "<table border=\"1\" class=\"dataframe\">\n",
       "  <thead>\n",
       "    <tr style=\"text-align: right;\">\n",
       "      <th></th>\n",
       "      <th>hetnet</th>\n",
       "      <th>compound_id</th>\n",
       "      <th>disease_id</th>\n",
       "      <th>status</th>\n",
       "      <th>primary</th>\n",
       "      <th>neo</th>\n",
       "    </tr>\n",
       "  </thead>\n",
       "  <tbody>\n",
       "    <tr>\n",
       "      <th>0</th>\n",
       "      <td>rephetio-v2.0</td>\n",
       "      <td>DB00014</td>\n",
       "      <td>DOID:10283</td>\n",
       "      <td>1</td>\n",
       "      <td>1</td>\n",
       "      <td>&lt;Graph uri='http://localhost:7501/db/data/'&gt;</td>\n",
       "    </tr>\n",
       "    <tr>\n",
       "      <th>1</th>\n",
       "      <td>rephetio-v2.0_perm-1</td>\n",
       "      <td>DB00014</td>\n",
       "      <td>DOID:10283</td>\n",
       "      <td>0</td>\n",
       "      <td>0</td>\n",
       "      <td>&lt;Graph uri='http://localhost:7511/db/data/'&gt;</td>\n",
       "    </tr>\n",
       "  </tbody>\n",
       "</table>\n",
       "</div>"
      ],
      "text/plain": [
       "                 hetnet compound_id  disease_id  status  primary  \\\n",
       "0         rephetio-v2.0     DB00014  DOID:10283       1        1   \n",
       "1  rephetio-v2.0_perm-1     DB00014  DOID:10283       0        0   \n",
       "\n",
       "                                            neo  \n",
       "0  <Graph uri='http://localhost:7501/db/data/'>  \n",
       "1  <Graph uri='http://localhost:7511/db/data/'>  "
      ]
     },
     "execution_count": 6,
     "metadata": {},
     "output_type": "execute_result"
    }
   ],
   "source": [
    "part_df = pandas.read_table('data/partitions.tsv')\n",
    "part_df['neo'] = part_df.hetnet.map(name_to_neo)\n",
    "parts = list(part_df.itertuples())\n",
    "part_df.head(2)"
   ]
  },
  {
   "cell_type": "markdown",
   "metadata": {},
   "source": [
    "## Set up queries"
   ]
  },
  {
   "cell_type": "code",
   "execution_count": 7,
   "metadata": {
    "collapsed": false
   },
   "outputs": [
    {
     "data": {
      "text/plain": [
       "'271,575'"
      ]
     },
     "execution_count": 7,
     "metadata": {},
     "output_type": "execute_result"
    }
   ],
   "source": [
    "# Total number of queries\n",
    "total_queries = len(metapaths) * len(part_df)\n",
    "'{:,}'.format(total_queries)"
   ]
  },
  {
   "cell_type": "code",
   "execution_count": 8,
   "metadata": {
    "collapsed": false
   },
   "outputs": [],
   "source": [
    "parts = [row for row in part_df.itertuples()]\n",
    "\n",
    "def generate_parameters(max_elems=None):\n",
    "    \"\"\"Generate compound, disease, metapath combinations\"\"\"\n",
    "    n = 0\n",
    "    for metapath_dict in metapaths:\n",
    "        metapath = metapath_dict['abbreviation']\n",
    "        query = metapath_dict['dwpc_query']\n",
    "        for part_info in parts:\n",
    "            if max_elems is not None and n == max_elems:\n",
    "                break\n",
    "            yield {\n",
    "                'neo': part_info.neo,\n",
    "                'hetnet': part_info.hetnet,\n",
    "                'compound_id': part_info.compound_id,\n",
    "                'disease_id': part_info.disease_id,\n",
    "                'metapath': metapath,\n",
    "                'query': query,\n",
    "                'w': 0.4,\n",
    "            }\n",
    "            n += 1"
   ]
  },
  {
   "cell_type": "code",
   "execution_count": 9,
   "metadata": {
    "collapsed": true
   },
   "outputs": [],
   "source": [
    "def compute_dwpc(neo, hetnet, query, metapath, compound_id, disease_id, w):\n",
    "    \"\"\"Execute the neo4j query and write results to file\"\"\"\n",
    "    start = time.time()\n",
    "    results = neo.run(query, source=compound_id, target=disease_id, w=w)\n",
    "    record = results.one\n",
    "    seconds = '{0:.4g}'.format(time.time() - start)\n",
    "    row = hetnet, compound_id, disease_id, metapath, record['PC'], w, '{0:.6g}'.format(record['DWPC']), seconds\n",
    "    with writer_lock:\n",
    "        writer.writerow(row)"
   ]
  },
  {
   "cell_type": "markdown",
   "metadata": {},
   "source": [
    "## Execute queries"
   ]
  },
  {
   "cell_type": "code",
   "execution_count": 10,
   "metadata": {
    "collapsed": false,
    "scrolled": false
   },
   "outputs": [
    {
     "name": "stderr",
     "output_type": "stream",
     "text": [
      "100%|██████████| 271575/271575 [08:02<00:00, 563.30it/s] \n"
     ]
    },
    {
     "name": "stdout",
     "output_type": "stream",
     "text": [
      "CPU times: user 5min 40s, sys: 19.5 s, total: 6min\n",
      "Wall time: 8min 50s\n"
     ]
    }
   ],
   "source": [
    "%%time\n",
    "\n",
    "# Parameters\n",
    "workers = mp.cpu_count()\n",
    "max_elems = None\n",
    "\n",
    "# Prepare writer\n",
    "path = 'data/dwpc.tsv.bz2'\n",
    "write_file = bz2.open(path, 'wt')\n",
    "writer = csv.writer(write_file, delimiter='\\t')\n",
    "writer.writerow(['hetnet', 'compound_id', 'disease_id', 'metapath', 'PC', 'w', 'DWPC', 'seconds'])\n",
    "\n",
    "# Create ThreadPoolExecutor\n",
    "executor = concurrent.futures.ThreadPoolExecutor(max_workers=workers)\n",
    "writer_lock = threading.Lock()\n",
    "\n",
    "# Submit jobs\n",
    "n_queries = 0\n",
    "for params in tqdm(generate_parameters(max_elems), total = total_queries):\n",
    "    while executor._work_queue.qsize() > 10000:\n",
    "#         print('Submitted queries: {} ({:.4%})'.format(n_queries, n_queries / total_queries), end='\\r')\n",
    "        time.sleep(1)\n",
    "    executor.submit(compute_dwpc, **params)\n",
    "    n_queries += 1\n",
    "\n",
    "# Shutdown and close\n",
    "executor.shutdown()\n",
    "write_file.close()"
   ]
  },
  {
   "cell_type": "code",
   "execution_count": 11,
   "metadata": {
    "collapsed": false
   },
   "outputs": [
    {
     "data": {
      "text/plain": [
       "271575"
      ]
     },
     "execution_count": 11,
     "metadata": {},
     "output_type": "execute_result"
    }
   ],
   "source": [
    "n_queries"
   ]
  }
 ],
 "metadata": {
  "kernelspec": {
   "display_name": "Python 3",
   "language": "python",
   "name": "python3"
  },
  "language_info": {
   "codemirror_mode": {
    "name": "ipython",
    "version": 3
   },
   "file_extension": ".py",
   "mimetype": "text/x-python",
   "name": "python",
   "nbconvert_exporter": "python",
   "pygments_lexer": "ipython3",
   "version": "3.5.2"
  }
 },
 "nbformat": 4,
 "nbformat_minor": 0
}
