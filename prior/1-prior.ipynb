{
 "cells": [
  {
   "cell_type": "markdown",
   "metadata": {},
   "source": [
    "# Compute the prior probability of treatment using permutation "
   ]
  },
  {
   "cell_type": "code",
   "execution_count": 1,
   "metadata": {
    "collapsed": true
   },
   "outputs": [],
   "source": [
    "import itertools\n",
    "import statistics\n",
    "\n",
    "import pandas\n",
    "\n",
    "from hetio.permute import permute_pair_list"
   ]
  },
  {
   "cell_type": "code",
   "execution_count": 2,
   "metadata": {
    "collapsed": true
   },
   "outputs": [],
   "source": [
    "from tqdm import tqdm"
   ]
  },
  {
   "cell_type": "markdown",
   "metadata": {},
   "source": [
    "## Read treatments"
   ]
  },
  {
   "cell_type": "code",
   "execution_count": 3,
   "metadata": {
    "collapsed": false
   },
   "outputs": [
    {
     "data": {
      "text/html": [
       "<div>\n",
       "<table border=\"1\" class=\"dataframe\">\n",
       "  <thead>\n",
       "    <tr style=\"text-align: right;\">\n",
       "      <th></th>\n",
       "      <th>compound_id</th>\n",
       "      <th>compound_name</th>\n",
       "      <th>disease_id</th>\n",
       "      <th>disease_name</th>\n",
       "      <th>rel_type</th>\n",
       "    </tr>\n",
       "  </thead>\n",
       "  <tbody>\n",
       "    <tr>\n",
       "      <th>0</th>\n",
       "      <td>DB01048</td>\n",
       "      <td>Abacavir</td>\n",
       "      <td>DOID:635</td>\n",
       "      <td>acquired immunodeficiency syndrome</td>\n",
       "      <td>TREATS_CtD</td>\n",
       "    </tr>\n",
       "    <tr>\n",
       "      <th>1</th>\n",
       "      <td>DB05812</td>\n",
       "      <td>Abiraterone</td>\n",
       "      <td>DOID:10283</td>\n",
       "      <td>prostate cancer</td>\n",
       "      <td>TREATS_CtD</td>\n",
       "    </tr>\n",
       "  </tbody>\n",
       "</table>\n",
       "</div>"
      ],
      "text/plain": [
       "  compound_id compound_name  disease_id                        disease_name  \\\n",
       "0     DB01048      Abacavir    DOID:635  acquired immunodeficiency syndrome   \n",
       "1     DB05812   Abiraterone  DOID:10283                     prostate cancer   \n",
       "\n",
       "     rel_type  \n",
       "0  TREATS_CtD  \n",
       "1  TREATS_CtD  "
      ]
     },
     "execution_count": 3,
     "metadata": {},
     "output_type": "execute_result"
    }
   ],
   "source": [
    "treatment_df = pandas.read_table('../summary/indications.tsv')\n",
    "treatment_df = treatment_df.query(\"rel_type == 'TREATS_CtD'\")\n",
    "treatment_df.head(2)"
   ]
  },
  {
   "cell_type": "code",
   "execution_count": 4,
   "metadata": {
    "collapsed": false
   },
   "outputs": [
    {
     "data": {
      "text/plain": [
       "(592, 5)"
      ]
     },
     "execution_count": 4,
     "metadata": {},
     "output_type": "execute_result"
    }
   ],
   "source": [
    "treatment_df.shape"
   ]
  },
  {
   "cell_type": "code",
   "execution_count": 5,
   "metadata": {
    "collapsed": false
   },
   "outputs": [],
   "source": [
    "# Create node to degree dictionaries\n",
    "compound_to_degree = dict(treatment_df.compound_id.value_counts())\n",
    "disease_to_degree = dict(treatment_df.disease_id.value_counts())"
   ]
  },
  {
   "cell_type": "code",
   "execution_count": 6,
   "metadata": {
    "collapsed": false
   },
   "outputs": [],
   "source": [
    "# A degree (compound_degree, disease_degree) to all potential edges with that degree\n",
    "degree_to_edges = dict()\n",
    "\n",
    "rows = list()\n",
    "for (c, c_deg), (d, d_deg) in itertools.product(compound_to_degree.items(), disease_to_degree.items()):\n",
    "    rows.append((c, d, c_deg, d_deg))\n",
    "    degree = c_deg, d_deg\n",
    "    edge = c, d\n",
    "    degree_to_edges.setdefault(degree, set()).add(edge)\n",
    "\n",
    "pair_df = pandas.DataFrame(rows, columns=['compound_id', 'disease_id', 'compound_treats', 'disease_treats'])\n",
    "pair_df = pair_df.sort_values(['compound_id', 'disease_id'])"
   ]
  },
  {
   "cell_type": "code",
   "execution_count": 7,
   "metadata": {
    "collapsed": false
   },
   "outputs": [
    {
     "data": {
      "text/plain": [
       "(23579, 4)"
      ]
     },
     "execution_count": 7,
     "metadata": {},
     "output_type": "execute_result"
    }
   ],
   "source": [
    "pair_df.shape"
   ]
  },
  {
   "cell_type": "code",
   "execution_count": 8,
   "metadata": {
    "collapsed": false
   },
   "outputs": [
    {
     "data": {
      "text/html": [
       "<div>\n",
       "<table border=\"1\" class=\"dataframe\">\n",
       "  <thead>\n",
       "    <tr style=\"text-align: right;\">\n",
       "      <th></th>\n",
       "      <th>compound_id</th>\n",
       "      <th>disease_id</th>\n",
       "      <th>compound_treats</th>\n",
       "      <th>disease_treats</th>\n",
       "    </tr>\n",
       "  </thead>\n",
       "  <tbody>\n",
       "    <tr>\n",
       "      <th>13401</th>\n",
       "      <td>DB00014</td>\n",
       "      <td>DOID:0050741</td>\n",
       "      <td>1</td>\n",
       "      <td>3</td>\n",
       "    </tr>\n",
       "    <tr>\n",
       "      <th>13376</th>\n",
       "      <td>DB00014</td>\n",
       "      <td>DOID:0050742</td>\n",
       "      <td>1</td>\n",
       "      <td>1</td>\n",
       "    </tr>\n",
       "    <tr>\n",
       "      <th>13367</th>\n",
       "      <td>DB00014</td>\n",
       "      <td>DOID:0060073</td>\n",
       "      <td>1</td>\n",
       "      <td>9</td>\n",
       "    </tr>\n",
       "    <tr>\n",
       "      <th>13430</th>\n",
       "      <td>DB00014</td>\n",
       "      <td>DOID:1024</td>\n",
       "      <td>1</td>\n",
       "      <td>2</td>\n",
       "    </tr>\n",
       "    <tr>\n",
       "      <th>13370</th>\n",
       "      <td>DB00014</td>\n",
       "      <td>DOID:10283</td>\n",
       "      <td>1</td>\n",
       "      <td>15</td>\n",
       "    </tr>\n",
       "  </tbody>\n",
       "</table>\n",
       "</div>"
      ],
      "text/plain": [
       "      compound_id    disease_id  compound_treats  disease_treats\n",
       "13401     DB00014  DOID:0050741                1               3\n",
       "13376     DB00014  DOID:0050742                1               1\n",
       "13367     DB00014  DOID:0060073                1               9\n",
       "13430     DB00014     DOID:1024                1               2\n",
       "13370     DB00014    DOID:10283                1              15"
      ]
     },
     "execution_count": 8,
     "metadata": {},
     "output_type": "execute_result"
    }
   ],
   "source": [
    "pair_df.head()"
   ]
  },
  {
   "cell_type": "markdown",
   "metadata": {},
   "source": [
    "Not sure whether to filter this pair_df down to just the relation pairs which are found in the training set. Will leave it as is at the moment and return to determine if this contaminates the data at all."
   ]
  },
  {
   "cell_type": "code",
   "execution_count": 9,
   "metadata": {
    "collapsed": true
   },
   "outputs": [],
   "source": [
    "treatments = list(zip(treatment_df.compound_id, treatment_df.disease_id))"
   ]
  },
  {
   "cell_type": "code",
   "execution_count": 10,
   "metadata": {
    "collapsed": false
   },
   "outputs": [
    {
     "data": {
      "text/html": [
       "<div>\n",
       "<table border=\"1\" class=\"dataframe\">\n",
       "  <thead>\n",
       "    <tr style=\"text-align: right;\">\n",
       "      <th></th>\n",
       "      <th>attempts</th>\n",
       "      <th>complete</th>\n",
       "      <th>cumulative_attempts</th>\n",
       "      <th>duplicate</th>\n",
       "      <th>excluded</th>\n",
       "      <th>same_edge</th>\n",
       "      <th>self_loop</th>\n",
       "      <th>unchanged</th>\n",
       "      <th>undirected_duplicate</th>\n",
       "    </tr>\n",
       "  </thead>\n",
       "  <tbody>\n",
       "    <tr>\n",
       "      <th>0</th>\n",
       "      <td>593</td>\n",
       "      <td>0.100169</td>\n",
       "      <td>592</td>\n",
       "      <td>0.165261</td>\n",
       "      <td>0</td>\n",
       "      <td>0.001686</td>\n",
       "      <td>0</td>\n",
       "      <td>0.221284</td>\n",
       "      <td>0</td>\n",
       "    </tr>\n",
       "    <tr>\n",
       "      <th>1</th>\n",
       "      <td>592</td>\n",
       "      <td>0.200169</td>\n",
       "      <td>1184</td>\n",
       "      <td>0.172297</td>\n",
       "      <td>0</td>\n",
       "      <td>0.003378</td>\n",
       "      <td>0</td>\n",
       "      <td>0.103041</td>\n",
       "      <td>0</td>\n",
       "    </tr>\n",
       "    <tr>\n",
       "      <th>2</th>\n",
       "      <td>592</td>\n",
       "      <td>0.300169</td>\n",
       "      <td>1776</td>\n",
       "      <td>0.204392</td>\n",
       "      <td>0</td>\n",
       "      <td>0.001689</td>\n",
       "      <td>0</td>\n",
       "      <td>0.101351</td>\n",
       "      <td>0</td>\n",
       "    </tr>\n",
       "    <tr>\n",
       "      <th>3</th>\n",
       "      <td>592</td>\n",
       "      <td>0.400169</td>\n",
       "      <td>2368</td>\n",
       "      <td>0.180743</td>\n",
       "      <td>0</td>\n",
       "      <td>0.001689</td>\n",
       "      <td>0</td>\n",
       "      <td>0.103041</td>\n",
       "      <td>0</td>\n",
       "    </tr>\n",
       "    <tr>\n",
       "      <th>4</th>\n",
       "      <td>592</td>\n",
       "      <td>0.500169</td>\n",
       "      <td>2960</td>\n",
       "      <td>0.160473</td>\n",
       "      <td>0</td>\n",
       "      <td>0.001689</td>\n",
       "      <td>0</td>\n",
       "      <td>0.104730</td>\n",
       "      <td>0</td>\n",
       "    </tr>\n",
       "    <tr>\n",
       "      <th>5</th>\n",
       "      <td>592</td>\n",
       "      <td>0.600169</td>\n",
       "      <td>3552</td>\n",
       "      <td>0.168919</td>\n",
       "      <td>0</td>\n",
       "      <td>0.000000</td>\n",
       "      <td>0</td>\n",
       "      <td>0.113176</td>\n",
       "      <td>0</td>\n",
       "    </tr>\n",
       "    <tr>\n",
       "      <th>6</th>\n",
       "      <td>592</td>\n",
       "      <td>0.700169</td>\n",
       "      <td>4144</td>\n",
       "      <td>0.172297</td>\n",
       "      <td>0</td>\n",
       "      <td>0.003378</td>\n",
       "      <td>0</td>\n",
       "      <td>0.118243</td>\n",
       "      <td>0</td>\n",
       "    </tr>\n",
       "    <tr>\n",
       "      <th>7</th>\n",
       "      <td>592</td>\n",
       "      <td>0.800169</td>\n",
       "      <td>4736</td>\n",
       "      <td>0.175676</td>\n",
       "      <td>0</td>\n",
       "      <td>0.001689</td>\n",
       "      <td>0</td>\n",
       "      <td>0.118243</td>\n",
       "      <td>0</td>\n",
       "    </tr>\n",
       "    <tr>\n",
       "      <th>8</th>\n",
       "      <td>592</td>\n",
       "      <td>0.900169</td>\n",
       "      <td>5328</td>\n",
       "      <td>0.165541</td>\n",
       "      <td>0</td>\n",
       "      <td>0.001689</td>\n",
       "      <td>0</td>\n",
       "      <td>0.106419</td>\n",
       "      <td>0</td>\n",
       "    </tr>\n",
       "    <tr>\n",
       "      <th>9</th>\n",
       "      <td>591</td>\n",
       "      <td>1.000000</td>\n",
       "      <td>5919</td>\n",
       "      <td>0.194585</td>\n",
       "      <td>0</td>\n",
       "      <td>0.001692</td>\n",
       "      <td>0</td>\n",
       "      <td>0.114865</td>\n",
       "      <td>0</td>\n",
       "    </tr>\n",
       "  </tbody>\n",
       "</table>\n",
       "</div>"
      ],
      "text/plain": [
       "   attempts  complete  cumulative_attempts  duplicate  excluded  same_edge  \\\n",
       "0       593  0.100169                  592   0.165261         0   0.001686   \n",
       "1       592  0.200169                 1184   0.172297         0   0.003378   \n",
       "2       592  0.300169                 1776   0.204392         0   0.001689   \n",
       "3       592  0.400169                 2368   0.180743         0   0.001689   \n",
       "4       592  0.500169                 2960   0.160473         0   0.001689   \n",
       "5       592  0.600169                 3552   0.168919         0   0.000000   \n",
       "6       592  0.700169                 4144   0.172297         0   0.003378   \n",
       "7       592  0.800169                 4736   0.175676         0   0.001689   \n",
       "8       592  0.900169                 5328   0.165541         0   0.001689   \n",
       "9       591  1.000000                 5919   0.194585         0   0.001692   \n",
       "\n",
       "   self_loop  unchanged  undirected_duplicate  \n",
       "0          0   0.221284                     0  \n",
       "1          0   0.103041                     0  \n",
       "2          0   0.101351                     0  \n",
       "3          0   0.103041                     0  \n",
       "4          0   0.104730                     0  \n",
       "5          0   0.113176                     0  \n",
       "6          0   0.118243                     0  \n",
       "7          0   0.118243                     0  \n",
       "8          0   0.106419                     0  \n",
       "9          0   0.114865                     0  "
      ]
     },
     "execution_count": 10,
     "metadata": {},
     "output_type": "execute_result"
    }
   ],
   "source": [
    "# Burn In\n",
    "pair_list, stats = permute_pair_list(treatments, multiplier=10)\n",
    "pandas.DataFrame(stats)"
   ]
  },
  {
   "cell_type": "code",
   "execution_count": 11,
   "metadata": {
    "collapsed": true
   },
   "outputs": [],
   "source": [
    "# Set the multiplier based on the burn in stats\n",
    "multiplier = 3"
   ]
  },
  {
   "cell_type": "code",
   "execution_count": 12,
   "metadata": {
    "collapsed": false
   },
   "outputs": [
    {
     "data": {
      "text/plain": [
       "589475"
      ]
     },
     "execution_count": 12,
     "metadata": {},
     "output_type": "execute_result"
    }
   ],
   "source": [
    "# Calculate the number of perms\n",
    "n_perm = treatment_df.compound_id.nunique() * treatment_df.disease_id.nunique()\n",
    "n_perm = int(n_perm * 25)\n",
    "n_perm"
   ]
  },
  {
   "cell_type": "code",
   "execution_count": 13,
   "metadata": {
    "collapsed": false
   },
   "outputs": [
    {
     "name": "stderr",
     "output_type": "stream",
     "text": [
      "100%|██████████| 589475/589475 [1:43:07<00:00, 95.27it/s]"
     ]
    },
    {
     "name": "stdout",
     "output_type": "stream",
     "text": [
      "CPU times: user 1h 43min 10s, sys: 15.2 s, total: 1h 43min 25s\n",
      "Wall time: 1h 43min 7s\n"
     ]
    },
    {
     "name": "stderr",
     "output_type": "stream",
     "text": [
      "\n"
     ]
    }
   ],
   "source": [
    "%%time\n",
    "\n",
    "# Initialize a dictionary of degree to empirical probability list\n",
    "degree_to_probs = {x: list() for x in degree_to_edges}\n",
    "\n",
    "# Perform n_perm permutations\n",
    "for i in tqdm(range(n_perm)):\n",
    "    # Permute\n",
    "    pair_list, stats = permute_pair_list(pair_list, multiplier=multiplier, seed=i)\n",
    "    \n",
    "    # Update\n",
    "    pair_set = set(pair_list)\n",
    "    \n",
    "    # modifies the original degree_to_probs dictionary\n",
    "    \n",
    "    for degree, probs in degree_to_probs.items():\n",
    "        edges = degree_to_edges[degree]\n",
    "        probs.append(len(edges & pair_set) / len(edges))"
   ]
  },
  {
   "cell_type": "code",
   "execution_count": 14,
   "metadata": {
    "collapsed": false
   },
   "outputs": [
    {
     "name": "stderr",
     "output_type": "stream",
     "text": [
      "100%|██████████| 273/273 [19:35<00:00,  4.29s/it]"
     ]
    },
    {
     "name": "stdout",
     "output_type": "stream",
     "text": [
      "CPU times: user 19min 29s, sys: 6.2 s, total: 19min 35s\n",
      "Wall time: 19min 35s\n"
     ]
    },
    {
     "name": "stderr",
     "output_type": "stream",
     "text": [
      "\n"
     ]
    }
   ],
   "source": [
    "%%time\n",
    "rows = list()\n",
    "for (c_deg, d_deg), probs in tqdm(degree_to_probs.items()):\n",
    "    mean = statistics.mean(probs)\n",
    "    std_error = statistics.stdev(probs) / len(probs) ** 0.5\n",
    "    rows.append((c_deg, d_deg, mean, std_error))\n",
    "perm_df = pandas.DataFrame(rows, columns=['compound_treats', 'disease_treats', 'prior_perm', 'prior_perm_stderr'])\n",
    "perm_df = perm_df.sort_values(['compound_treats', 'disease_treats'])"
   ]
  },
  {
   "cell_type": "code",
   "execution_count": 15,
   "metadata": {
    "collapsed": false
   },
   "outputs": [],
   "source": [
    "# Add unpermuted treatment prevalence columns\n",
    "rows = list()\n",
    "treatment_set = set(treatments)\n",
    "for (c_deg, d_deg), edges in degree_to_edges.items():\n",
    "    n_treatments = len(edges & treatment_set)\n",
    "    rows.append((c_deg, d_deg, n_treatments, len(edges)))\n",
    "degree_prior_df = pandas.DataFrame(rows, columns=['compound_treats', 'disease_treats', 'n_treatments', 'n_possible'])\n",
    "degree_prior_df = perm_df.merge(degree_prior_df)\n",
    "degree_prior_df = degree_prior_df.sort_values(['compound_treats', 'disease_treats'])"
   ]
  },
  {
   "cell_type": "code",
   "execution_count": 16,
   "metadata": {
    "collapsed": false
   },
   "outputs": [
    {
     "data": {
      "text/html": [
       "<div>\n",
       "<table border=\"1\" class=\"dataframe\">\n",
       "  <thead>\n",
       "    <tr style=\"text-align: right;\">\n",
       "      <th></th>\n",
       "      <th>compound_treats</th>\n",
       "      <th>disease_treats</th>\n",
       "      <th>prior_perm</th>\n",
       "      <th>prior_perm_stderr</th>\n",
       "      <th>n_treatments</th>\n",
       "      <th>n_possible</th>\n",
       "    </tr>\n",
       "  </thead>\n",
       "  <tbody>\n",
       "    <tr>\n",
       "      <th>271</th>\n",
       "      <td>17</td>\n",
       "      <td>39</td>\n",
       "      <td>0.688496</td>\n",
       "      <td>0.000603</td>\n",
       "      <td>1</td>\n",
       "      <td>1</td>\n",
       "    </tr>\n",
       "    <tr>\n",
       "      <th>272</th>\n",
       "      <td>17</td>\n",
       "      <td>59</td>\n",
       "      <td>0.784715</td>\n",
       "      <td>0.000535</td>\n",
       "      <td>1</td>\n",
       "      <td>1</td>\n",
       "    </tr>\n",
       "  </tbody>\n",
       "</table>\n",
       "</div>"
      ],
      "text/plain": [
       "     compound_treats  disease_treats  prior_perm  prior_perm_stderr  \\\n",
       "271               17              39    0.688496           0.000603   \n",
       "272               17              59    0.784715           0.000535   \n",
       "\n",
       "     n_treatments  n_possible  \n",
       "271             1           1  \n",
       "272             1           1  "
      ]
     },
     "execution_count": 16,
     "metadata": {},
     "output_type": "execute_result"
    }
   ],
   "source": [
    "degree_prior_df.tail(2)"
   ]
  },
  {
   "cell_type": "code",
   "execution_count": 17,
   "metadata": {
    "collapsed": true
   },
   "outputs": [],
   "source": [
    "degree_prior_df.to_csv('data/degree-prior.tsv', sep='\\t', index=False, float_format='%.6g')"
   ]
  },
  {
   "cell_type": "code",
   "execution_count": 18,
   "metadata": {
    "collapsed": false
   },
   "outputs": [],
   "source": [
    "obs_prior_df = pair_df.merge(perm_df)"
   ]
  },
  {
   "cell_type": "code",
   "execution_count": 19,
   "metadata": {
    "collapsed": false
   },
   "outputs": [
    {
     "data": {
      "text/html": [
       "<div>\n",
       "<table border=\"1\" class=\"dataframe\">\n",
       "  <thead>\n",
       "    <tr style=\"text-align: right;\">\n",
       "      <th></th>\n",
       "      <th>compound_id</th>\n",
       "      <th>disease_id</th>\n",
       "      <th>compound_treats</th>\n",
       "      <th>disease_treats</th>\n",
       "      <th>prior_perm</th>\n",
       "      <th>prior_perm_stderr</th>\n",
       "    </tr>\n",
       "  </thead>\n",
       "  <tbody>\n",
       "    <tr>\n",
       "      <th>0</th>\n",
       "      <td>DB00014</td>\n",
       "      <td>DOID:0050741</td>\n",
       "      <td>1</td>\n",
       "      <td>3</td>\n",
       "      <td>0.004618</td>\n",
       "      <td>0.000002</td>\n",
       "    </tr>\n",
       "    <tr>\n",
       "      <th>1</th>\n",
       "      <td>DB00014</td>\n",
       "      <td>DOID:11934</td>\n",
       "      <td>1</td>\n",
       "      <td>3</td>\n",
       "      <td>0.004618</td>\n",
       "      <td>0.000002</td>\n",
       "    </tr>\n",
       "  </tbody>\n",
       "</table>\n",
       "</div>"
      ],
      "text/plain": [
       "  compound_id    disease_id  compound_treats  disease_treats  prior_perm  \\\n",
       "0     DB00014  DOID:0050741                1               3    0.004618   \n",
       "1     DB00014    DOID:11934                1               3    0.004618   \n",
       "\n",
       "   prior_perm_stderr  \n",
       "0           0.000002  \n",
       "1           0.000002  "
      ]
     },
     "execution_count": 19,
     "metadata": {},
     "output_type": "execute_result"
    }
   ],
   "source": [
    "obs_prior_df.head(2)"
   ]
  },
  {
   "cell_type": "code",
   "execution_count": 20,
   "metadata": {
    "collapsed": false
   },
   "outputs": [
    {
     "data": {
      "text/plain": [
       "23579"
      ]
     },
     "execution_count": 20,
     "metadata": {},
     "output_type": "execute_result"
    }
   ],
   "source": [
    "len(obs_prior_df)"
   ]
  },
  {
   "cell_type": "code",
   "execution_count": 21,
   "metadata": {
    "collapsed": true
   },
   "outputs": [],
   "source": [
    "obs_prior_df.to_csv('data/observation-prior.tsv', sep='\\t', index=False, float_format='%.6g')"
   ]
  }
 ],
 "metadata": {
  "kernelspec": {
   "display_name": "Python 3",
   "language": "python",
   "name": "python3"
  },
  "language_info": {
   "codemirror_mode": {
    "name": "ipython",
    "version": 3
   },
   "file_extension": ".py",
   "mimetype": "text/x-python",
   "name": "python",
   "nbconvert_exporter": "python",
   "pygments_lexer": "ipython3",
   "version": "3.5.1"
  }
 },
 "nbformat": 4,
 "nbformat_minor": 0
}
