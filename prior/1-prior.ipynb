{
 "cells": [
  {
   "cell_type": "markdown",
   "metadata": {},
   "source": [
    "# Compute the prior probability of treatment using permutation "
   ]
  },
  {
   "cell_type": "code",
   "execution_count": 1,
   "metadata": {
    "collapsed": true
   },
   "outputs": [],
   "source": [
    "import itertools\n",
    "import statistics\n",
    "\n",
    "import pandas\n",
    "\n",
    "from hetio.permute import permute_pair_list"
   ]
  },
  {
   "cell_type": "code",
   "execution_count": 2,
   "metadata": {
    "collapsed": true
   },
   "outputs": [],
   "source": [
    "from tqdm import tqdm"
   ]
  },
  {
   "cell_type": "code",
   "execution_count": 3,
   "metadata": {
    "collapsed": false
   },
   "outputs": [
    {
     "data": {
      "text/html": [
       "<div>\n",
       "<table border=\"1\" class=\"dataframe\">\n",
       "  <thead>\n",
       "    <tr style=\"text-align: right;\">\n",
       "      <th></th>\n",
       "      <th>compound_id</th>\n",
       "      <th>compound_name</th>\n",
       "      <th>disease_id</th>\n",
       "      <th>disease_name</th>\n",
       "      <th>rel_type</th>\n",
       "    </tr>\n",
       "  </thead>\n",
       "  <tbody>\n",
       "    <tr>\n",
       "      <th>0</th>\n",
       "      <td>DB01048</td>\n",
       "      <td>Abacavir</td>\n",
       "      <td>DOID:635</td>\n",
       "      <td>acquired immunodeficiency syndrome</td>\n",
       "      <td>TREATS_CtD</td>\n",
       "    </tr>\n",
       "    <tr>\n",
       "      <th>1</th>\n",
       "      <td>DB05812</td>\n",
       "      <td>Abiraterone</td>\n",
       "      <td>DOID:10283</td>\n",
       "      <td>prostate cancer</td>\n",
       "      <td>TREATS_CtD</td>\n",
       "    </tr>\n",
       "  </tbody>\n",
       "</table>\n",
       "</div>"
      ],
      "text/plain": [
       "  compound_id compound_name  disease_id                        disease_name  \\\n",
       "0     DB01048      Abacavir    DOID:635  acquired immunodeficiency syndrome   \n",
       "1     DB05812   Abiraterone  DOID:10283                     prostate cancer   \n",
       "\n",
       "     rel_type  \n",
       "0  TREATS_CtD  \n",
       "1  TREATS_CtD  "
      ]
     },
     "execution_count": 3,
     "metadata": {},
     "output_type": "execute_result"
    }
   ],
   "source": [
    "# Read treatments\n",
    "treatment_df = pandas.read_table('../summary/indications.tsv')\n",
    "treatment_df = treatment_df.query(\"rel_type == 'TREATS_CtD'\")\n",
    "treatment_df.head(2)"
   ]
  },
  {
   "cell_type": "code",
   "execution_count": 4,
   "metadata": {
    "collapsed": false
   },
   "outputs": [],
   "source": [
    "# Create node to degree dictionaries\n",
    "compound_to_degree = dict(treatment_df.compound_id.value_counts())\n",
    "disease_to_degree = dict(treatment_df.disease_id.value_counts())"
   ]
  },
  {
   "cell_type": "code",
   "execution_count": 5,
   "metadata": {
    "collapsed": false
   },
   "outputs": [],
   "source": [
    "# A degree (compound_degree, disease_degree) to all potential edges with that degree\n",
    "degree_to_edges = dict()\n",
    "\n",
    "rows = list()\n",
    "for (c, c_deg), (d, d_deg) in itertools.product(compound_to_degree.items(), disease_to_degree.items()):\n",
    "    rows.append((c, d, c_deg, d_deg))\n",
    "    degree = c_deg, d_deg\n",
    "    edge = c, d\n",
    "    degree_to_edges.setdefault(degree, set()).add(edge)\n",
    "\n",
    "pair_df = pandas.DataFrame(rows, columns=['compound_id', 'disease_id', 'compound_treats', 'disease_treats'])\n",
    "pair_df = pair_df.sort_values(['compound_id', 'disease_id'])"
   ]
  },
  {
   "cell_type": "code",
   "execution_count": 6,
   "metadata": {
    "collapsed": true
   },
   "outputs": [],
   "source": [
    "treatments = list(zip(treatment_df.compound_id, treatment_df.disease_id))"
   ]
  },
  {
   "cell_type": "code",
   "execution_count": 7,
   "metadata": {
    "collapsed": false
   },
   "outputs": [
    {
     "data": {
      "text/html": [
       "<div>\n",
       "<table border=\"1\" class=\"dataframe\">\n",
       "  <thead>\n",
       "    <tr style=\"text-align: right;\">\n",
       "      <th></th>\n",
       "      <th>attempts</th>\n",
       "      <th>complete</th>\n",
       "      <th>cumulative_attempts</th>\n",
       "      <th>duplicate</th>\n",
       "      <th>excluded</th>\n",
       "      <th>same_edge</th>\n",
       "      <th>self_loop</th>\n",
       "      <th>unchanged</th>\n",
       "      <th>undirected_duplicate</th>\n",
       "    </tr>\n",
       "  </thead>\n",
       "  <tbody>\n",
       "    <tr>\n",
       "      <th>0</th>\n",
       "      <td>616</td>\n",
       "      <td>0.100163</td>\n",
       "      <td>615</td>\n",
       "      <td>0.185065</td>\n",
       "      <td>0</td>\n",
       "      <td>0.000000</td>\n",
       "      <td>0</td>\n",
       "      <td>0.230894</td>\n",
       "      <td>0</td>\n",
       "    </tr>\n",
       "    <tr>\n",
       "      <th>1</th>\n",
       "      <td>615</td>\n",
       "      <td>0.200163</td>\n",
       "      <td>1230</td>\n",
       "      <td>0.178862</td>\n",
       "      <td>0</td>\n",
       "      <td>0.000000</td>\n",
       "      <td>0</td>\n",
       "      <td>0.126829</td>\n",
       "      <td>0</td>\n",
       "    </tr>\n",
       "    <tr>\n",
       "      <th>2</th>\n",
       "      <td>615</td>\n",
       "      <td>0.300163</td>\n",
       "      <td>1845</td>\n",
       "      <td>0.203252</td>\n",
       "      <td>0</td>\n",
       "      <td>0.001626</td>\n",
       "      <td>0</td>\n",
       "      <td>0.089431</td>\n",
       "      <td>0</td>\n",
       "    </tr>\n",
       "    <tr>\n",
       "      <th>3</th>\n",
       "      <td>615</td>\n",
       "      <td>0.400163</td>\n",
       "      <td>2460</td>\n",
       "      <td>0.191870</td>\n",
       "      <td>0</td>\n",
       "      <td>0.003252</td>\n",
       "      <td>0</td>\n",
       "      <td>0.076423</td>\n",
       "      <td>0</td>\n",
       "    </tr>\n",
       "    <tr>\n",
       "      <th>4</th>\n",
       "      <td>615</td>\n",
       "      <td>0.500163</td>\n",
       "      <td>3075</td>\n",
       "      <td>0.204878</td>\n",
       "      <td>0</td>\n",
       "      <td>0.000000</td>\n",
       "      <td>0</td>\n",
       "      <td>0.110569</td>\n",
       "      <td>0</td>\n",
       "    </tr>\n",
       "    <tr>\n",
       "      <th>5</th>\n",
       "      <td>615</td>\n",
       "      <td>0.600163</td>\n",
       "      <td>3690</td>\n",
       "      <td>0.185366</td>\n",
       "      <td>0</td>\n",
       "      <td>0.000000</td>\n",
       "      <td>0</td>\n",
       "      <td>0.105691</td>\n",
       "      <td>0</td>\n",
       "    </tr>\n",
       "    <tr>\n",
       "      <th>6</th>\n",
       "      <td>615</td>\n",
       "      <td>0.700163</td>\n",
       "      <td>4305</td>\n",
       "      <td>0.185366</td>\n",
       "      <td>0</td>\n",
       "      <td>0.004878</td>\n",
       "      <td>0</td>\n",
       "      <td>0.091057</td>\n",
       "      <td>0</td>\n",
       "    </tr>\n",
       "    <tr>\n",
       "      <th>7</th>\n",
       "      <td>615</td>\n",
       "      <td>0.800163</td>\n",
       "      <td>4920</td>\n",
       "      <td>0.185366</td>\n",
       "      <td>0</td>\n",
       "      <td>0.000000</td>\n",
       "      <td>0</td>\n",
       "      <td>0.097561</td>\n",
       "      <td>0</td>\n",
       "    </tr>\n",
       "    <tr>\n",
       "      <th>8</th>\n",
       "      <td>615</td>\n",
       "      <td>0.900163</td>\n",
       "      <td>5535</td>\n",
       "      <td>0.160976</td>\n",
       "      <td>0</td>\n",
       "      <td>0.000000</td>\n",
       "      <td>0</td>\n",
       "      <td>0.089431</td>\n",
       "      <td>0</td>\n",
       "    </tr>\n",
       "    <tr>\n",
       "      <th>9</th>\n",
       "      <td>614</td>\n",
       "      <td>1.000000</td>\n",
       "      <td>6149</td>\n",
       "      <td>0.188925</td>\n",
       "      <td>0</td>\n",
       "      <td>0.003257</td>\n",
       "      <td>0</td>\n",
       "      <td>0.097561</td>\n",
       "      <td>0</td>\n",
       "    </tr>\n",
       "  </tbody>\n",
       "</table>\n",
       "</div>"
      ],
      "text/plain": [
       "   attempts  complete  cumulative_attempts  duplicate  excluded  same_edge  \\\n",
       "0       616  0.100163                  615   0.185065         0   0.000000   \n",
       "1       615  0.200163                 1230   0.178862         0   0.000000   \n",
       "2       615  0.300163                 1845   0.203252         0   0.001626   \n",
       "3       615  0.400163                 2460   0.191870         0   0.003252   \n",
       "4       615  0.500163                 3075   0.204878         0   0.000000   \n",
       "5       615  0.600163                 3690   0.185366         0   0.000000   \n",
       "6       615  0.700163                 4305   0.185366         0   0.004878   \n",
       "7       615  0.800163                 4920   0.185366         0   0.000000   \n",
       "8       615  0.900163                 5535   0.160976         0   0.000000   \n",
       "9       614  1.000000                 6149   0.188925         0   0.003257   \n",
       "\n",
       "   self_loop  unchanged  undirected_duplicate  \n",
       "0          0   0.230894                     0  \n",
       "1          0   0.126829                     0  \n",
       "2          0   0.089431                     0  \n",
       "3          0   0.076423                     0  \n",
       "4          0   0.110569                     0  \n",
       "5          0   0.105691                     0  \n",
       "6          0   0.091057                     0  \n",
       "7          0   0.097561                     0  \n",
       "8          0   0.089431                     0  \n",
       "9          0   0.097561                     0  "
      ]
     },
     "execution_count": 7,
     "metadata": {},
     "output_type": "execute_result"
    }
   ],
   "source": [
    "# Burn In\n",
    "pair_list, stats = permute_pair_list(treatments, multiplier=10)\n",
    "pandas.DataFrame(stats)"
   ]
  },
  {
   "cell_type": "code",
   "execution_count": 8,
   "metadata": {
    "collapsed": true
   },
   "outputs": [],
   "source": [
    "# Set the multiplier based on the burn in stats\n",
    "multiplier = 3"
   ]
  },
  {
   "cell_type": "code",
   "execution_count": 9,
   "metadata": {
    "collapsed": false
   },
   "outputs": [
    {
     "data": {
      "text/plain": [
       "616850"
      ]
     },
     "execution_count": 9,
     "metadata": {},
     "output_type": "execute_result"
    }
   ],
   "source": [
    "# Calculate the number of perms\n",
    "n_perm = treatment_df.compound_id.nunique() * treatment_df.disease_id.nunique()\n",
    "n_perm = int(n_perm * 25)\n",
    "n_perm"
   ]
  },
  {
   "cell_type": "code",
   "execution_count": 10,
   "metadata": {
    "collapsed": false
   },
   "outputs": [
    {
     "name": "stderr",
     "output_type": "stream",
     "text": [
      "100%|██████████| 616850/616850 [1:50:38<00:00, 92.92it/s]"
     ]
    },
    {
     "name": "stdout",
     "output_type": "stream",
     "text": [
      "CPU times: user 1h 50min 43s, sys: 9.14 s, total: 1h 50min 52s\n",
      "Wall time: 1h 50min 38s\n"
     ]
    },
    {
     "name": "stderr",
     "output_type": "stream",
     "text": [
      "\n"
     ]
    }
   ],
   "source": [
    "%%time\n",
    "\n",
    "# Initialize a dictionary of degree to empirical probability list\n",
    "degree_to_probs = {x: list() for x in degree_to_edges}\n",
    "\n",
    "# Perform n_perm permutations\n",
    "for i in tqdm(range(n_perm)):\n",
    "    # Permute\n",
    "    pair_list, stats = permute_pair_list(pair_list, multiplier=multiplier, seed=i)\n",
    "    \n",
    "    # Update\n",
    "    pair_set = set(pair_list)\n",
    "    \n",
    "    # modifies the original degree_to_probs dictionary\n",
    "    \n",
    "    for degree, probs in degree_to_probs.items():\n",
    "        edges = degree_to_edges[degree]\n",
    "        probs.append(len(edges & pair_set) / len(edges))"
   ]
  },
  {
   "cell_type": "code",
   "execution_count": 11,
   "metadata": {
    "collapsed": false
   },
   "outputs": [
    {
     "name": "stderr",
     "output_type": "stream",
     "text": [
      "100%|██████████| 286/286 [21:18<00:00,  4.37s/it]"
     ]
    },
    {
     "name": "stdout",
     "output_type": "stream",
     "text": [
      "CPU times: user 21min 18s, sys: 72 ms, total: 21min 19s\n",
      "Wall time: 21min 18s\n"
     ]
    },
    {
     "name": "stderr",
     "output_type": "stream",
     "text": [
      "\n"
     ]
    }
   ],
   "source": [
    "%%time\n",
    "rows = list()\n",
    "for (c_deg, d_deg), probs in tqdm(degree_to_probs.items()):\n",
    "    mean = statistics.mean(probs)\n",
    "    std_error = statistics.stdev(probs) / len(probs) ** 0.5\n",
    "    rows.append((c_deg, d_deg, mean, std_error))\n",
    "perm_df = pandas.DataFrame(rows, columns=['compound_treats', 'disease_treats', 'prior_perm', 'prior_perm_stderr'])\n",
    "perm_df = perm_df.sort_values(['compound_treats', 'disease_treats'])"
   ]
  },
  {
   "cell_type": "code",
   "execution_count": 12,
   "metadata": {
    "collapsed": false
   },
   "outputs": [],
   "source": [
    "# Add unpermuted treatment prevalence columns\n",
    "rows = list()\n",
    "treatment_set = set(treatments)\n",
    "for (c_deg, d_deg), edges in degree_to_edges.items():\n",
    "    n_treatments = len(edges & treatment_set)\n",
    "    rows.append((c_deg, d_deg, n_treatments, len(edges)))\n",
    "degree_prior_df = pandas.DataFrame(rows, columns=['compound_treats', 'disease_treats', 'n_treatments', 'n_possible'])\n",
    "degree_prior_df = perm_df.merge(degree_prior_df)\n",
    "degree_prior_df = degree_prior_df.sort_values(['compound_treats', 'disease_treats'])"
   ]
  },
  {
   "cell_type": "code",
   "execution_count": 13,
   "metadata": {
    "collapsed": false
   },
   "outputs": [
    {
     "data": {
      "text/html": [
       "<div>\n",
       "<table border=\"1\" class=\"dataframe\">\n",
       "  <thead>\n",
       "    <tr style=\"text-align: right;\">\n",
       "      <th></th>\n",
       "      <th>compound_treats</th>\n",
       "      <th>disease_treats</th>\n",
       "      <th>prior_perm</th>\n",
       "      <th>prior_perm_stderr</th>\n",
       "      <th>n_treatments</th>\n",
       "      <th>n_possible</th>\n",
       "    </tr>\n",
       "  </thead>\n",
       "  <tbody>\n",
       "    <tr>\n",
       "      <th>284</th>\n",
       "      <td>15</td>\n",
       "      <td>44</td>\n",
       "      <td>0.669608</td>\n",
       "      <td>0.000599</td>\n",
       "      <td>0</td>\n",
       "      <td>1</td>\n",
       "    </tr>\n",
       "    <tr>\n",
       "      <th>285</th>\n",
       "      <td>15</td>\n",
       "      <td>56</td>\n",
       "      <td>0.730101</td>\n",
       "      <td>0.000565</td>\n",
       "      <td>1</td>\n",
       "      <td>1</td>\n",
       "    </tr>\n",
       "  </tbody>\n",
       "</table>\n",
       "</div>"
      ],
      "text/plain": [
       "     compound_treats  disease_treats  prior_perm  prior_perm_stderr  \\\n",
       "284               15              44    0.669608           0.000599   \n",
       "285               15              56    0.730101           0.000565   \n",
       "\n",
       "     n_treatments  n_possible  \n",
       "284             0           1  \n",
       "285             1           1  "
      ]
     },
     "execution_count": 13,
     "metadata": {},
     "output_type": "execute_result"
    }
   ],
   "source": [
    "degree_prior_df.tail(2)"
   ]
  },
  {
   "cell_type": "code",
   "execution_count": 14,
   "metadata": {
    "collapsed": true
   },
   "outputs": [],
   "source": [
    "degree_prior_df.to_csv('data/degree-prior.tsv', sep='\\t', index=False, float_format='%.6g')"
   ]
  },
  {
   "cell_type": "code",
   "execution_count": 15,
   "metadata": {
    "collapsed": false
   },
   "outputs": [],
   "source": [
    "obs_prior_df = pair_df.merge(perm_df)"
   ]
  },
  {
   "cell_type": "code",
   "execution_count": 16,
   "metadata": {
    "collapsed": false
   },
   "outputs": [
    {
     "data": {
      "text/html": [
       "<div>\n",
       "<table border=\"1\" class=\"dataframe\">\n",
       "  <thead>\n",
       "    <tr style=\"text-align: right;\">\n",
       "      <th></th>\n",
       "      <th>compound_id</th>\n",
       "      <th>disease_id</th>\n",
       "      <th>compound_treats</th>\n",
       "      <th>disease_treats</th>\n",
       "      <th>prior_perm</th>\n",
       "      <th>prior_perm_stderr</th>\n",
       "    </tr>\n",
       "  </thead>\n",
       "  <tbody>\n",
       "    <tr>\n",
       "      <th>0</th>\n",
       "      <td>DB00014</td>\n",
       "      <td>DOID:0050741</td>\n",
       "      <td>2</td>\n",
       "      <td>2</td>\n",
       "      <td>0.006101</td>\n",
       "      <td>0.000005</td>\n",
       "    </tr>\n",
       "    <tr>\n",
       "      <th>1</th>\n",
       "      <td>DB00014</td>\n",
       "      <td>DOID:1024</td>\n",
       "      <td>2</td>\n",
       "      <td>2</td>\n",
       "      <td>0.006101</td>\n",
       "      <td>0.000005</td>\n",
       "    </tr>\n",
       "  </tbody>\n",
       "</table>\n",
       "</div>"
      ],
      "text/plain": [
       "  compound_id    disease_id  compound_treats  disease_treats  prior_perm  \\\n",
       "0     DB00014  DOID:0050741                2               2    0.006101   \n",
       "1     DB00014     DOID:1024                2               2    0.006101   \n",
       "\n",
       "   prior_perm_stderr  \n",
       "0           0.000005  \n",
       "1           0.000005  "
      ]
     },
     "execution_count": 16,
     "metadata": {},
     "output_type": "execute_result"
    }
   ],
   "source": [
    "obs_prior_df.head(2)"
   ]
  },
  {
   "cell_type": "code",
   "execution_count": 17,
   "metadata": {
    "collapsed": false
   },
   "outputs": [
    {
     "data": {
      "text/plain": [
       "24674"
      ]
     },
     "execution_count": 17,
     "metadata": {},
     "output_type": "execute_result"
    }
   ],
   "source": [
    "len(obs_prior_df)"
   ]
  },
  {
   "cell_type": "code",
   "execution_count": 18,
   "metadata": {
    "collapsed": true
   },
   "outputs": [],
   "source": [
    "obs_prior_df.to_csv('data/observation-prior.tsv', sep='\\t', index=False, float_format='%.6g')"
   ]
  }
 ],
 "metadata": {
  "kernelspec": {
   "display_name": "Python 3",
   "language": "python",
   "name": "python3"
  },
  "language_info": {
   "codemirror_mode": {
    "name": "ipython",
    "version": 3
   },
   "file_extension": ".py",
   "mimetype": "text/x-python",
   "name": "python",
   "nbconvert_exporter": "python",
   "pygments_lexer": "ipython3",
   "version": "3.5.1"
  }
 },
 "nbformat": 4,
 "nbformat_minor": 0
}
