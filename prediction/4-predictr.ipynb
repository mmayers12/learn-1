{
 "cells": [
  {
   "cell_type": "markdown",
   "metadata": {},
   "source": [
    "# Fit the final model and make predictions"
   ]
  },
  {
   "cell_type": "code",
   "execution_count": 1,
   "metadata": {
    "collapsed": true
   },
   "outputs": [],
   "source": [
    "library(magrittr)"
   ]
  },
  {
   "cell_type": "markdown",
   "metadata": {},
   "source": [
    "## Prepare datasets"
   ]
  },
  {
   "cell_type": "markdown",
   "metadata": {},
   "source": [
    "## Take all features which aren't part of an arbitrary blacklist?"
   ]
  },
  {
   "cell_type": "code",
   "execution_count": 2,
   "metadata": {
    "collapsed": false
   },
   "outputs": [
    {
     "name": "stderr",
     "output_type": "stream",
     "text": [
      "Parsed with column specification:\n",
      "cols(\n",
      "  feature = col_character()\n",
      ")\n",
      "Parsed with column specification:\n",
      "cols(\n",
      "  compound_id = col_character(),\n",
      "  compound_name = col_character(),\n",
      "  disease_id = col_character(),\n",
      "  disease_name = col_character(),\n",
      "  category = col_character(),\n",
      "  status = col_integer(),\n",
      "  prior_prob = col_double(),\n",
      "  prior_logit = col_double(),\n",
      "  degree_CbG = col_double(),\n",
      "  degree_CtD = col_double(),\n",
      "  degree_DaG = col_double(),\n",
      "  degree_DtC = col_double(),\n",
      "  dwpc_CbGaD = col_double(),\n",
      "  dwpc_CbGaDaGaD = col_double(),\n",
      "  dwpc_CbGaDtCtD = col_double(),\n",
      "  dwpc_CbGbCbGaD = col_double(),\n",
      "  dwpc_CbGbCtD = col_double(),\n",
      "  dwpc_CtDtCtD = col_double()\n",
      ")\n",
      "Warning message in dplyr::one_of(blacklist):\n",
      "“Unknown variables: `dwpc_CtDtCrCtD`, `dwpc_CtDrDtCtD`, `dwpc_CcSEcCrCtD`, `dwpc_CrCtDlAlD`, `dwpc_CrCtDaGaD`, `dwpc_CrCdGdCtD`, `dwpc_CrCtDpSpD`, `dwpc_CrCuGuCtD`, `dwpc_CrCtDuGaD`, `dwpc_CrCtDdGaD`, `dwpc_CrCcSEcCtD`, `dwpc_CrCrCtDrD`, `dwpc_CdGdCrCtD`, `dwpc_CpDpCrCtD`, `dwpc_CrCtDrDrD`, `dwpc_CuGuCrCtD`, `dwpc_CrCtDdGdD`, `dwpc_CrCtDrD`”"
     ]
    }
   ],
   "source": [
    "blacklist = readr::read_tsv('features/blacklist.tsv')$feature\n",
    "feature_df = readr::read_tsv('features/transformed-features.tsv.bz2') %>%\n",
    "  dplyr::select(-dplyr::one_of(blacklist))"
   ]
  },
  {
   "cell_type": "code",
   "execution_count": 3,
   "metadata": {
    "collapsed": false
   },
   "outputs": [
    {
     "data": {
      "text/html": [
       "<table>\n",
       "<thead><tr><th scope=col>compound_id</th><th scope=col>compound_name</th><th scope=col>disease_id</th><th scope=col>disease_name</th><th scope=col>category</th><th scope=col>status</th><th scope=col>prior_prob</th><th scope=col>prior_logit</th><th scope=col>degree_CbG</th><th scope=col>degree_DaG</th><th scope=col>dwpc_CbGaD</th><th scope=col>dwpc_CbGaDaGaD</th><th scope=col>dwpc_CbGbCbGaD</th><th scope=col>dwpc_CbGbCtD</th><th scope=col>dwpc_CtDtCtD</th></tr></thead>\n",
       "<tbody>\n",
       "\t<tr><td>DB01048            </td><td>Abacavir           </td><td>DOID:10652         </td><td>Alzheimer's disease</td><td>NA                 </td><td>0                  </td><td>0.004455           </td><td>-5.409             </td><td>-0.5939            </td><td>1.076              </td><td>-0.3796            </td><td>1.187              </td><td>-0.05063           </td><td>-0.5227            </td><td>-0.1685            </td></tr>\n",
       "\t<tr><td>DB05812            </td><td>Abiraterone        </td><td>DOID:10652         </td><td>Alzheimer's disease</td><td>NA                 </td><td>0                  </td><td>0.004455           </td><td>-5.409             </td><td> 0.4237            </td><td>1.076              </td><td> 1.0780            </td><td>1.360              </td><td> 1.54400           </td><td> 0.8474            </td><td>-0.1685            </td></tr>\n",
       "</tbody>\n",
       "</table>\n"
      ],
      "text/latex": [
       "\\begin{tabular}{r|lllllllllllllll}\n",
       " compound\\_id & compound\\_name & disease\\_id & disease\\_name & category & status & prior\\_prob & prior\\_logit & degree\\_CbG & degree\\_DaG & dwpc\\_CbGaD & dwpc\\_CbGaDaGaD & dwpc\\_CbGbCbGaD & dwpc\\_CbGbCtD & dwpc\\_CtDtCtD\\\\\n",
       "\\hline\n",
       "\t DB01048             & Abacavir            & DOID:10652          & Alzheimer's disease & NA                  & 0                   & 0.004455            & -5.409              & -0.5939             & 1.076               & -0.3796             & 1.187               & -0.05063            & -0.5227             & -0.1685            \\\\\n",
       "\t DB05812             & Abiraterone         & DOID:10652          & Alzheimer's disease & NA                  & 0                   & 0.004455            & -5.409              &  0.4237             & 1.076               &  1.0780             & 1.360               &  1.54400            &  0.8474             & -0.1685            \\\\\n",
       "\\end{tabular}\n"
      ],
      "text/plain": [
       "  compound_id compound_name disease_id disease_name        category status\n",
       "1 DB01048     Abacavir      DOID:10652 Alzheimer's disease NA       0     \n",
       "2 DB05812     Abiraterone   DOID:10652 Alzheimer's disease NA       0     \n",
       "  prior_prob prior_logit degree_CbG degree_DaG dwpc_CbGaD dwpc_CbGaDaGaD\n",
       "1 0.004455   -5.409      -0.5939    1.076      -0.3796    1.187         \n",
       "2 0.004455   -5.409       0.4237    1.076       1.0780    1.360         \n",
       "  dwpc_CbGbCbGaD dwpc_CbGbCtD dwpc_CtDtCtD\n",
       "1 -0.05063       -0.5227      -0.1685     \n",
       "2  1.54400        0.8474      -0.1685     "
      ]
     },
     "metadata": {},
     "output_type": "display_data"
    }
   ],
   "source": [
    "head(feature_df, 2)"
   ]
  },
  {
   "cell_type": "code",
   "execution_count": 4,
   "metadata": {
    "collapsed": false
   },
   "outputs": [
    {
     "data": {
      "text/html": [
       "<ol class=list-inline>\n",
       "\t<li>24674</li>\n",
       "\t<li>8</li>\n",
       "</ol>\n"
      ],
      "text/latex": [
       "\\begin{enumerate*}\n",
       "\\item 24674\n",
       "\\item 8\n",
       "\\end{enumerate*}\n"
      ],
      "text/markdown": [
       "1. 24674\n",
       "2. 8\n",
       "\n",
       "\n"
      ],
      "text/plain": [
       "[1] 24674     8"
      ]
     },
     "metadata": {},
     "output_type": "display_data"
    }
   ],
   "source": [
    "train_df = feature_df %>%\n",
    "  dplyr::filter(prior_prob > 0)\n",
    "\n",
    "X_train = train_df %>%\n",
    "  dplyr::select(prior_logit, dplyr::starts_with('degree_'), dplyr::starts_with('dwpc_')) %>%\n",
    "  as.matrix()\n",
    "dim(X_train)\n",
    "\n",
    "y_train = train_df$status"
   ]
  },
  {
   "cell_type": "code",
   "execution_count": 5,
   "metadata": {
    "collapsed": false
   },
   "outputs": [
    {
     "data": {
      "text/html": [
       "<table>\n",
       "<thead><tr><th scope=col>compound_id</th><th scope=col>compound_name</th><th scope=col>disease_id</th><th scope=col>disease_name</th><th scope=col>category</th><th scope=col>status</th><th scope=col>prior_prob</th><th scope=col>prior_logit</th><th scope=col>degree_CbG</th><th scope=col>degree_DaG</th><th scope=col>dwpc_CbGaD</th><th scope=col>dwpc_CbGaDaGaD</th><th scope=col>dwpc_CbGbCbGaD</th><th scope=col>dwpc_CbGbCtD</th><th scope=col>dwpc_CtDtCtD</th></tr></thead>\n",
       "<tbody>\n",
       "\t<tr><td>DB01048            </td><td>Abacavir           </td><td>DOID:10652         </td><td>Alzheimer's disease</td><td>NA                 </td><td>0                  </td><td>0.004455           </td><td>-5.409             </td><td>-0.59390           </td><td>1.076              </td><td>-0.3796            </td><td> 1.1870            </td><td>-0.05063           </td><td>-0.52270           </td><td>-0.1685            </td></tr>\n",
       "\t<tr><td>DB05812            </td><td>Abiraterone        </td><td>DOID:10652         </td><td>Alzheimer's disease</td><td>NA                 </td><td>0                  </td><td>0.004455           </td><td>-5.409             </td><td> 0.42370           </td><td>1.076              </td><td> 1.0780            </td><td> 1.3600            </td><td> 1.54400           </td><td> 0.84740           </td><td>-0.1685            </td></tr>\n",
       "\t<tr><td>DB00659            </td><td>Acamprosate        </td><td>DOID:10652         </td><td>Alzheimer's disease</td><td>NA                 </td><td>0                  </td><td>0.004455           </td><td>-5.409             </td><td> 0.85210           </td><td>1.076              </td><td> 2.4360            </td><td> 2.6020            </td><td> 1.76800           </td><td> 4.11400           </td><td>-0.1685            </td></tr>\n",
       "\t<tr><td>DB00284            </td><td>Acarbose           </td><td>DOID:10652         </td><td>Alzheimer's disease</td><td>NA                 </td><td>0                  </td><td>0.004455           </td><td>-5.409             </td><td> 0.28310           </td><td>1.076              </td><td>-0.3796            </td><td>-0.5106            </td><td>-0.81130           </td><td>-0.52270           </td><td>-0.1685            </td></tr>\n",
       "\t<tr><td>DB01193            </td><td>Acebutolol         </td><td>DOID:10652         </td><td>Alzheimer's disease</td><td>NA                 </td><td>0                  </td><td>0.004455           </td><td>-5.409             </td><td>-0.06919           </td><td>1.076              </td><td> 1.2700            </td><td> 1.0690            </td><td> 1.28200           </td><td> 0.56600           </td><td>-0.1685            </td></tr>\n",
       "\t<tr><td>DB00819            </td><td>Acetazolamide      </td><td>DOID:10652         </td><td>Alzheimer's disease</td><td>NA                 </td><td>0                  </td><td>0.009194           </td><td>-4.680             </td><td> 1.01500           </td><td>1.076              </td><td> 2.3650            </td><td> 1.5040            </td><td> 2.42500           </td><td>-0.01443           </td><td>-0.1685            </td></tr>\n",
       "</tbody>\n",
       "</table>\n"
      ],
      "text/latex": [
       "\\begin{tabular}{r|lllllllllllllll}\n",
       " compound\\_id & compound\\_name & disease\\_id & disease\\_name & category & status & prior\\_prob & prior\\_logit & degree\\_CbG & degree\\_DaG & dwpc\\_CbGaD & dwpc\\_CbGaDaGaD & dwpc\\_CbGbCbGaD & dwpc\\_CbGbCtD & dwpc\\_CtDtCtD\\\\\n",
       "\\hline\n",
       "\t DB01048             & Abacavir            & DOID:10652          & Alzheimer's disease & NA                  & 0                   & 0.004455            & -5.409              & -0.59390            & 1.076               & -0.3796             &  1.1870             & -0.05063            & -0.52270            & -0.1685            \\\\\n",
       "\t DB05812             & Abiraterone         & DOID:10652          & Alzheimer's disease & NA                  & 0                   & 0.004455            & -5.409              &  0.42370            & 1.076               &  1.0780             &  1.3600             &  1.54400            &  0.84740            & -0.1685            \\\\\n",
       "\t DB00659             & Acamprosate         & DOID:10652          & Alzheimer's disease & NA                  & 0                   & 0.004455            & -5.409              &  0.85210            & 1.076               &  2.4360             &  2.6020             &  1.76800            &  4.11400            & -0.1685            \\\\\n",
       "\t DB00284             & Acarbose            & DOID:10652          & Alzheimer's disease & NA                  & 0                   & 0.004455            & -5.409              &  0.28310            & 1.076               & -0.3796             & -0.5106             & -0.81130            & -0.52270            & -0.1685            \\\\\n",
       "\t DB01193             & Acebutolol          & DOID:10652          & Alzheimer's disease & NA                  & 0                   & 0.004455            & -5.409              & -0.06919            & 1.076               &  1.2700             &  1.0690             &  1.28200            &  0.56600            & -0.1685            \\\\\n",
       "\t DB00819             & Acetazolamide       & DOID:10652          & Alzheimer's disease & NA                  & 0                   & 0.009194            & -4.680              &  1.01500            & 1.076               &  2.3650             &  1.5040             &  2.42500            & -0.01443            & -0.1685            \\\\\n",
       "\\end{tabular}\n"
      ],
      "text/plain": [
       "  compound_id compound_name disease_id disease_name        category status\n",
       "1 DB01048     Abacavir      DOID:10652 Alzheimer's disease NA       0     \n",
       "2 DB05812     Abiraterone   DOID:10652 Alzheimer's disease NA       0     \n",
       "3 DB00659     Acamprosate   DOID:10652 Alzheimer's disease NA       0     \n",
       "4 DB00284     Acarbose      DOID:10652 Alzheimer's disease NA       0     \n",
       "5 DB01193     Acebutolol    DOID:10652 Alzheimer's disease NA       0     \n",
       "6 DB00819     Acetazolamide DOID:10652 Alzheimer's disease NA       0     \n",
       "  prior_prob prior_logit degree_CbG degree_DaG dwpc_CbGaD dwpc_CbGaDaGaD\n",
       "1 0.004455   -5.409      -0.59390   1.076      -0.3796     1.1870       \n",
       "2 0.004455   -5.409       0.42370   1.076       1.0780     1.3600       \n",
       "3 0.004455   -5.409       0.85210   1.076       2.4360     2.6020       \n",
       "4 0.004455   -5.409       0.28310   1.076      -0.3796    -0.5106       \n",
       "5 0.004455   -5.409      -0.06919   1.076       1.2700     1.0690       \n",
       "6 0.009194   -4.680       1.01500   1.076       2.3650     1.5040       \n",
       "  dwpc_CbGbCbGaD dwpc_CbGbCtD dwpc_CtDtCtD\n",
       "1 -0.05063       -0.52270     -0.1685     \n",
       "2  1.54400        0.84740     -0.1685     \n",
       "3  1.76800        4.11400     -0.1685     \n",
       "4 -0.81130       -0.52270     -0.1685     \n",
       "5  1.28200        0.56600     -0.1685     \n",
       "6  2.42500       -0.01443     -0.1685     "
      ]
     },
     "metadata": {},
     "output_type": "display_data"
    }
   ],
   "source": [
    "head(train_df)"
   ]
  },
  {
   "cell_type": "code",
   "execution_count": 6,
   "metadata": {
    "collapsed": false
   },
   "outputs": [
    {
     "data": {
      "text/html": [
       "615"
      ],
      "text/latex": [
       "615"
      ],
      "text/markdown": [
       "615"
      ],
      "text/plain": [
       "[1] 615"
      ]
     },
     "metadata": {},
     "output_type": "display_data"
    }
   ],
   "source": [
    "sum(train_df$status)"
   ]
  },
  {
   "cell_type": "markdown",
   "metadata": {},
   "source": [
    "## Fit Model"
   ]
  },
  {
   "cell_type": "code",
   "execution_count": 7,
   "metadata": {
    "collapsed": true
   },
   "outputs": [],
   "source": [
    "lambda = 'lambda.1se'\n",
    "penalty = ifelse(colnames(X_train) == 'prior_logit', 0, 1)"
   ]
  },
  {
   "cell_type": "code",
   "execution_count": 8,
   "metadata": {
    "collapsed": false
   },
   "outputs": [
    {
     "name": "stderr",
     "output_type": "stream",
     "text": [
      "Loading required package: Matrix\n",
      "Loading required package: foreach\n",
      "Loaded glmnet 2.0-5\n",
      "\n"
     ]
    }
   ],
   "source": [
    "fit = hetior::glmnet_train(X = X_train, y = y_train, alpha = 0.2, s = lambda, cores = 10, seed = 0,\n",
    "  penalty.factor=penalty, lambda.min.ratio=1e-8, nlambda=150, standardize=TRUE)"
   ]
  },
  {
   "cell_type": "code",
   "execution_count": 9,
   "metadata": {
    "collapsed": false
   },
   "outputs": [
    {
     "data": {
      "text/html": [
       "0.0095423064999141"
      ],
      "text/latex": [
       "0.0095423064999141"
      ],
      "text/markdown": [
       "0.0095423064999141"
      ],
      "text/plain": [
       "[1] 0.009542306"
      ]
     },
     "metadata": {},
     "output_type": "display_data"
    },
    {
     "data": {
      "image/png": "[encoded data removed]",
      "text/plain": [
       "plot without title"
      ]
     },
     "metadata": {},
     "output_type": "display_data"
    }
   ],
   "source": [
    "par(mfrow = c(2,1), oma = c(5,4,0,0) + 0.1, mar = c(0,0,1,1) + 0.1)\n",
    "plot(fit$cv_model$glmnet.fit, xvar = \"lambda\", label = TRUE)\n",
    "plot(fit$cv_model)\n",
    "fit$cv_model[[lambda]]"
   ]
  },
  {
   "cell_type": "code",
   "execution_count": 10,
   "metadata": {
    "collapsed": false
   },
   "outputs": [
    {
     "data": {
      "text/html": [
       "0.657695875560569"
      ],
      "text/latex": [
       "0.657695875560569"
      ],
      "text/markdown": [
       "0.657695875560569"
      ],
      "text/plain": [
       "[1] 0.6576959"
      ]
     },
     "metadata": {},
     "output_type": "display_data"
    }
   ],
   "source": [
    "# The coefficient for prior_logit should be around 1 for our approach to work well\n",
    "dplyr::filter(fit$coef_df, feature == 'prior_logit')$coef"
   ]
  },
  {
   "cell_type": "code",
   "execution_count": 11,
   "metadata": {
    "collapsed": false
   },
   "outputs": [
    {
     "data": {
      "text/plain": [
       ".\n",
       "-1  1 \n",
       " 3  4 "
      ]
     },
     "metadata": {},
     "output_type": "display_data"
    }
   ],
   "source": [
    "# Number of negative and positive coefficients\n",
    "fit$coef_df %>%\n",
    "  dplyr::filter(feature != 'intercept', zcoef != 0) %>%\n",
    "  .[['zcoef']] %>% sign %>% table"
   ]
  },
  {
   "cell_type": "code",
   "execution_count": 12,
   "metadata": {
    "collapsed": false
   },
   "outputs": [
    {
     "data": {
      "text/html": [
       "615.006678"
      ],
      "text/latex": [
       "615.006678"
      ],
      "text/markdown": [
       "615.006678"
      ],
      "text/plain": [
       "[1] 615.0067"
      ]
     },
     "metadata": {},
     "output_type": "display_data"
    },
    {
     "data": {
      "text/html": [
       "'0.329%'"
      ],
      "text/latex": [
       "'0.329\\%'"
      ],
      "text/markdown": [
       "'0.329%'"
      ],
      "text/plain": [
       "[1] \"0.329%\""
      ]
     },
     "metadata": {},
     "output_type": "display_data"
    }
   ],
   "source": [
    "# Sum of prior (should sum to the number of treatments)\n",
    "sum(feature_df$prior_prob)\n",
    "\n",
    "# Prevalence of positives as percent\n",
    "scales::percent(mean(feature_df$status))"
   ]
  },
  {
   "cell_type": "code",
   "execution_count": 13,
   "metadata": {
    "collapsed": false
   },
   "outputs": [
    {
     "data": {
      "text/html": [
       "'0.31%'"
      ],
      "text/latex": [
       "'0.31\\%'"
      ],
      "text/markdown": [
       "'0.31%'"
      ],
      "text/plain": [
       "[1] \"0.31%\""
      ]
     },
     "metadata": {},
     "output_type": "display_data"
    }
   ],
   "source": [
    "X_all = feature_df %>%\n",
    "  dplyr::mutate(prior_logit = boot::logit(mean(status))) %>%\n",
    "  dplyr::select(dplyr::one_of(colnames(X_train))) %>%\n",
    "  as.matrix()\n",
    "\n",
    "y_predicted = hetior::glmnet_predict(fit$cv_model, X = X_all, s = lambda)\n",
    "y_predicted %>% mean() %>% scales::percent()"
   ]
  },
  {
   "cell_type": "code",
   "execution_count": 14,
   "metadata": {
    "collapsed": false
   },
   "outputs": [
    {
     "name": "stderr",
     "output_type": "stream",
     "text": [
      "Joining, by = c(\"compound_id\", \"disease_id\")\n",
      "Parsed with column specification:\n",
      "cols(\n",
      "  compound_id = col_character(),\n",
      "  compound_name = col_character(),\n",
      "  disease_id = col_character(),\n",
      "  disease_name = col_character(),\n",
      "  n_trials = col_integer(),\n",
      "  status_trials = col_integer(),\n",
      "  status_drugcentral = col_integer()\n",
      ")\n",
      "Joining, by = c(\"compound_id\", \"compound_name\", \"disease_id\", \"disease_name\")\n"
     ]
    }
   ],
   "source": [
    "train_pred_df = train_df %>%\n",
    "  dplyr::select(compound_id, disease_id) %>%\n",
    "  dplyr::bind_cols(dplyr::data_frame(training_prediction = fit$y_pred))\n",
    "\n",
    "predict_df = feature_df %>%\n",
    "  dplyr::select(compound_id:prior_prob, dplyr::starts_with('status')) %>%\n",
    "  dplyr::mutate(prediction = y_predicted) %>%\n",
    "  dplyr::left_join(train_pred_df) %>%\n",
    "  dplyr::group_by(compound_id) %>%\n",
    "  dplyr::mutate(compound_percentile = dplyr::cume_dist(prediction)) %>%\n",
    "  dplyr::ungroup() %>%\n",
    "  dplyr::group_by(disease_id) %>%\n",
    "  dplyr::mutate(disease_percentile = dplyr::cume_dist(prediction)) %>%\n",
    "  dplyr::ungroup() %>%\n",
    "  dplyr::left_join(readr::read_tsv('../validate/validation-statuses.tsv'))"
   ]
  },
  {
   "cell_type": "code",
   "execution_count": 15,
   "metadata": {
    "collapsed": false
   },
   "outputs": [
    {
     "data": {
      "text/html": [
       "<table>\n",
       "<thead><tr><th scope=col>compound_id</th><th scope=col>compound_name</th><th scope=col>disease_id</th><th scope=col>disease_name</th><th scope=col>category</th><th scope=col>status</th><th scope=col>prior_prob</th><th scope=col>prediction</th><th scope=col>training_prediction</th><th scope=col>compound_percentile</th><th scope=col>disease_percentile</th><th scope=col>n_trials</th><th scope=col>status_trials</th><th scope=col>status_drugcentral</th></tr></thead>\n",
       "<tbody>\n",
       "\t<tr><td>DB00630     </td><td>Alendronate </td><td>DOID:11476  </td><td>osteoporosis</td><td>DM          </td><td>1           </td><td>0.03166     </td><td>0.1585357   </td><td>0.4596783   </td><td>1           </td><td>1.0000000   </td><td>NA          </td><td>NA          </td><td>NA          </td></tr>\n",
       "\t<tr><td>DB00884     </td><td>Risedronate </td><td>DOID:11476  </td><td>osteoporosis</td><td>DM          </td><td>1           </td><td>0.03166     </td><td>0.1385349   </td><td>0.4206790   </td><td>1           </td><td>0.9992821   </td><td>NA          </td><td>NA          </td><td>NA          </td></tr>\n",
       "</tbody>\n",
       "</table>\n"
      ],
      "text/latex": [
       "\\begin{tabular}{r|llllllllllllll}\n",
       " compound\\_id & compound\\_name & disease\\_id & disease\\_name & category & status & prior\\_prob & prediction & training\\_prediction & compound\\_percentile & disease\\_percentile & n\\_trials & status\\_trials & status\\_drugcentral\\\\\n",
       "\\hline\n",
       "\t DB00630      & Alendronate  & DOID:11476   & osteoporosis & DM           & 1            & 0.03166      & 0.1585357    & 0.4596783    & 1            & 1.0000000    & NA           & NA           & NA          \\\\\n",
       "\t DB00884      & Risedronate  & DOID:11476   & osteoporosis & DM           & 1            & 0.03166      & 0.1385349    & 0.4206790    & 1            & 0.9992821    & NA           & NA           & NA          \\\\\n",
       "\\end{tabular}\n"
      ],
      "text/plain": [
       "  compound_id compound_name disease_id disease_name category status prior_prob\n",
       "1 DB00630     Alendronate   DOID:11476 osteoporosis DM       1      0.03166   \n",
       "2 DB00884     Risedronate   DOID:11476 osteoporosis DM       1      0.03166   \n",
       "  prediction training_prediction compound_percentile disease_percentile\n",
       "1 0.1585357  0.4596783           1                   1.0000000         \n",
       "2 0.1385349  0.4206790           1                   0.9992821         \n",
       "  n_trials status_trials status_drugcentral\n",
       "1 NA       NA            NA                \n",
       "2 NA       NA            NA                "
      ]
     },
     "metadata": {},
     "output_type": "display_data"
    }
   ],
   "source": [
    "predict_df %>%\n",
    "  dplyr::arrange(desc(prediction)) %>%\n",
    "  head(2)"
   ]
  },
  {
   "cell_type": "markdown",
   "metadata": {},
   "source": [
    "## Calculate performance"
   ]
  },
  {
   "cell_type": "code",
   "execution_count": 16,
   "metadata": {
    "collapsed": false
   },
   "outputs": [
    {
     "data": {
      "text/html": [
       "<table>\n",
       "<thead><tr><th scope=col>y_true_var</th><th scope=col>y_pred_var</th><th scope=col>n_pos</th><th scope=col>n_neg</th><th scope=col>auroc</th><th scope=col>auprc</th><th scope=col>tjur</th></tr></thead>\n",
       "<tbody>\n",
       "\t<tr><td>status             </td><td>compound_percentile</td><td> 615               </td><td>186047             </td><td>0.9125759          </td><td>0.033792941        </td><td>0.412813212        </td></tr>\n",
       "\t<tr><td>status_drugcentral </td><td>compound_percentile</td><td> 198               </td><td>185079             </td><td>0.8210061          </td><td>0.007700997        </td><td>0.321443619        </td></tr>\n",
       "\t<tr><td>status_trials      </td><td>compound_percentile</td><td>5474               </td><td>179803             </td><td>0.6312144          </td><td>0.055786362        </td><td>0.131181409        </td></tr>\n",
       "\t<tr><td>status             </td><td>disease_percentile </td><td> 615               </td><td>186047             </td><td>0.9005177          </td><td>0.036191529        </td><td>0.404736341        </td></tr>\n",
       "\t<tr><td>status_drugcentral </td><td>disease_percentile </td><td> 198               </td><td>185079             </td><td>0.8080846          </td><td>0.005790800        </td><td>0.310570612        </td></tr>\n",
       "\t<tr><td>status_trials      </td><td>disease_percentile </td><td>5474               </td><td>179803             </td><td>0.6110012          </td><td>0.050927756        </td><td>0.111826886        </td></tr>\n",
       "\t<tr><td>status             </td><td>prediction         </td><td> 615               </td><td>186047             </td><td>0.9502601          </td><td>0.178277960        </td><td>0.021927498        </td></tr>\n",
       "\t<tr><td>status_drugcentral </td><td>prediction         </td><td> 198               </td><td>185079             </td><td>0.8653077          </td><td>0.028145192        </td><td>0.013098055        </td></tr>\n",
       "\t<tr><td>status_trials      </td><td>prediction         </td><td>5474               </td><td>179803             </td><td>0.6681484          </td><td>0.093584080        </td><td>0.003402008        </td></tr>\n",
       "\t<tr><td>status             </td><td>prior_prob         </td><td> 615               </td><td>186047             </td><td>0.9794506          </td><td>0.142409097        </td><td>0.094237444        </td></tr>\n",
       "\t<tr><td>status_drugcentral </td><td>prior_prob         </td><td> 198               </td><td>185079             </td><td>0.5429180          </td><td>0.003172844        </td><td>0.014723178        </td></tr>\n",
       "\t<tr><td>status_trials      </td><td>prior_prob         </td><td>5474               </td><td>179803             </td><td>0.6135732          </td><td>0.087428963        </td><td>0.012210609        </td></tr>\n",
       "\t<tr><td>status             </td><td>training_prediction</td><td> 615               </td><td> 24059             </td><td>0.9065816          </td><td>0.315270888        </td><td>0.156276672        </td></tr>\n",
       "\t<tr><td>status_drugcentral </td><td>training_prediction</td><td>  39               </td><td> 23785             </td><td>0.8580187          </td><td>0.014460764        </td><td>0.088346289        </td></tr>\n",
       "\t<tr><td>status_trials      </td><td>training_prediction</td><td>1835               </td><td> 21989             </td><td>0.7154738          </td><td>0.215178077        </td><td>0.038702121        </td></tr>\n",
       "</tbody>\n",
       "</table>\n"
      ],
      "text/latex": [
       "\\begin{tabular}{r|lllllll}\n",
       " y\\_true\\_var & y\\_pred\\_var & n\\_pos & n\\_neg & auroc & auprc & tjur\\\\\n",
       "\\hline\n",
       "\t status                & compound\\_percentile &  615                  & 186047                & 0.9125759             & 0.033792941           & 0.412813212          \\\\\n",
       "\t status\\_drugcentral  & compound\\_percentile &  198                  & 185079                & 0.8210061             & 0.007700997           & 0.321443619          \\\\\n",
       "\t status\\_trials       & compound\\_percentile & 5474                  & 179803                & 0.6312144             & 0.055786362           & 0.131181409          \\\\\n",
       "\t status                & disease\\_percentile  &  615                  & 186047                & 0.9005177             & 0.036191529           & 0.404736341          \\\\\n",
       "\t status\\_drugcentral  & disease\\_percentile  &  198                  & 185079                & 0.8080846             & 0.005790800           & 0.310570612          \\\\\n",
       "\t status\\_trials       & disease\\_percentile  & 5474                  & 179803                & 0.6110012             & 0.050927756           & 0.111826886          \\\\\n",
       "\t status              & prediction          &  615                & 186047              & 0.9502601           & 0.178277960         & 0.021927498        \\\\\n",
       "\t status\\_drugcentral & prediction           &  198                 & 185079               & 0.8653077            & 0.028145192          & 0.013098055         \\\\\n",
       "\t status\\_trials      & prediction           & 5474                 & 179803               & 0.6681484            & 0.093584080          & 0.003402008         \\\\\n",
       "\t status                & prior\\_prob          &  615                  & 186047                & 0.9794506             & 0.142409097           & 0.094237444          \\\\\n",
       "\t status\\_drugcentral  & prior\\_prob          &  198                  & 185079                & 0.5429180             & 0.003172844           & 0.014723178          \\\\\n",
       "\t status\\_trials       & prior\\_prob          & 5474                  & 179803                & 0.6135732             & 0.087428963           & 0.012210609          \\\\\n",
       "\t status                & training\\_prediction &  615                  &  24059                & 0.9065816             & 0.315270888           & 0.156276672          \\\\\n",
       "\t status\\_drugcentral  & training\\_prediction &   39                  &  23785                & 0.8580187             & 0.014460764           & 0.088346289          \\\\\n",
       "\t status\\_trials       & training\\_prediction & 1835                  &  21989                & 0.7154738             & 0.215178077           & 0.038702121          \\\\\n",
       "\\end{tabular}\n"
      ],
      "text/plain": [
       "   y_true_var         y_pred_var          n_pos n_neg  auroc     auprc      \n",
       "1  status             compound_percentile  615  186047 0.9125759 0.033792941\n",
       "2  status_drugcentral compound_percentile  198  185079 0.8210061 0.007700997\n",
       "3  status_trials      compound_percentile 5474  179803 0.6312144 0.055786362\n",
       "4  status             disease_percentile   615  186047 0.9005177 0.036191529\n",
       "5  status_drugcentral disease_percentile   198  185079 0.8080846 0.005790800\n",
       "6  status_trials      disease_percentile  5474  179803 0.6110012 0.050927756\n",
       "7  status             prediction           615  186047 0.9502601 0.178277960\n",
       "8  status_drugcentral prediction           198  185079 0.8653077 0.028145192\n",
       "9  status_trials      prediction          5474  179803 0.6681484 0.093584080\n",
       "10 status             prior_prob           615  186047 0.9794506 0.142409097\n",
       "11 status_drugcentral prior_prob           198  185079 0.5429180 0.003172844\n",
       "12 status_trials      prior_prob          5474  179803 0.6135732 0.087428963\n",
       "13 status             training_prediction  615   24059 0.9065816 0.315270888\n",
       "14 status_drugcentral training_prediction   39   23785 0.8580187 0.014460764\n",
       "15 status_trials      training_prediction 1835   21989 0.7154738 0.215178077\n",
       "   tjur       \n",
       "1  0.412813212\n",
       "2  0.321443619\n",
       "3  0.131181409\n",
       "4  0.404736341\n",
       "5  0.310570612\n",
       "6  0.111826886\n",
       "7  0.021927498\n",
       "8  0.013098055\n",
       "9  0.003402008\n",
       "10 0.094237444\n",
       "11 0.014723178\n",
       "12 0.012210609\n",
       "13 0.156276672\n",
       "14 0.088346289\n",
       "15 0.038702121"
      ]
     },
     "metadata": {},
     "output_type": "display_data"
    }
   ],
   "source": [
    "get_metrics = function(params) {\n",
    "  y_true_var = params$y_true_var\n",
    "  y_pred_var = params$y_pred_var\n",
    "  vtm_df = predict_df[, c(y_true_var, y_pred_var)] %>% na.omit()\n",
    "  y_true = vtm_df[[1]]\n",
    "  vtm = hetior::calc_vtms(y_true = y_true, y_pred = vtm_df[[2]], is_prob = T)\n",
    "  dplyr::data_frame(\n",
    "      y_true_var = y_true_var, y_pred_var = y_pred_var,\n",
    "      n_pos = sum(y_true == 1), n_neg = sum(y_true == 0),\n",
    "      auroc = vtm$auroc, auprc = vtm$auprc, tjur = vtm$tjur\n",
    "  ) %>% return()\n",
    "}\n",
    "\n",
    "perf_df = tidyr::crossing(\n",
    "  y_pred_var = c('prediction', 'compound_percentile', 'disease_percentile', 'training_prediction', 'prior_prob'),\n",
    "  y_true_var = c('status', 'status_drugcentral', 'status_trials')\n",
    ") %>%\n",
    "  dplyr::rowwise() %>%\n",
    "  dplyr::do(get_metrics(.))\n",
    "\n",
    "perf_df"
   ]
  },
  {
   "cell_type": "markdown",
   "metadata": {},
   "source": [
    "## Write results to TSVs"
   ]
  },
  {
   "cell_type": "code",
   "execution_count": 17,
   "metadata": {
    "collapsed": false
   },
   "outputs": [],
   "source": [
    "perf_df %>% readr::write_tsv('predictions/performance.tsv')\n",
    "fit$coef_df %>% readr::write_tsv('model/coefficient.tsv')\n",
    "predict_df %>% readr::write_tsv('predictions/probabilities.tsv', na = '')"
   ]
  },
  {
   "cell_type": "markdown",
   "metadata": {},
   "source": [
    "## Write an xlsx with top predictions"
   ]
  },
  {
   "cell_type": "code",
   "execution_count": 18,
   "metadata": {
    "collapsed": false
   },
   "outputs": [
    {
     "name": "stderr",
     "output_type": "stream",
     "text": [
      "Parsed with column specification:\n",
      "cols(\n",
      "  nct_id = col_character(),\n",
      "  compound_id = col_character(),\n",
      "  compound_name = col_character(),\n",
      "  disease_id = col_character(),\n",
      "  disease_name = col_character()\n",
      ")\n",
      "Joining, by = c(\"compound_id\", \"disease_id\")\n",
      "Warning message:\n",
      "“Overwriting existing cell data.”Warning message:\n",
      "“Overwriting existing cell data.”"
     ]
    }
   ],
   "source": [
    "# Read trials\n",
    "url = 'https://github.com/dhimmel/clintrials/blob/7c65dec7b69322ca2f8ba2b170c1b3dbd92ebff8/data/DrugBank-DO-slim.tsv?raw=true'\n",
    "trial_df = readr::read_tsv(url) %>%\n",
    "  dplyr::group_by(compound_id, disease_id) %>%\n",
    "  dplyr::summarize(n_trials = n()) %>%\n",
    "  dplyr::ungroup()\n",
    "\n",
    "# Extract most pertinent columns and top predictions\n",
    "top_df = predict_df %>%\n",
    "  dplyr::arrange(desc(prediction)) %>%\n",
    "  dplyr::select(compound_id, disease_id, compound_name, disease_name, category, prediction, compound_percentile, disease_percentile, prior_prob) %>%\n",
    "  dplyr::filter((prediction > 0.01)) %>%\n",
    "  dplyr::left_join(trial_df) %>%\n",
    "  dplyr::mutate(n_trials = ifelse(is.na(n_trials), 0, n_trials))\n",
    "\n",
    "compound_hyperlink = setNames(paste0('http://www.drugbank.ca/drugs/', top_df$compound_id), top_df$compound_name)\n",
    "disease_hyperlink = setNames(paste0('http://www.disease-ontology.org/?id=', top_df$disease_id), top_df$disease_name)\n",
    "class(compound_hyperlink) = 'hyperlink'\n",
    "class(disease_hyperlink) = 'hyperlink'\n",
    "top_df %<>% dplyr::select(-dplyr::ends_with('_id'))\n",
    "\n",
    "# Convert columns to percent for pretty formatting\n",
    "percent_cols = c('prediction', 'compound_percentile', 'disease_percentile', 'prior_prob')\n",
    "for (percent_col in percent_cols) {\n",
    "  class(top_df[[percent_col]]) = 'percentage'\n",
    "}\n",
    "\n",
    "# Write to an excel file\n",
    "workbook = openxlsx::createWorkbook('Project Rephetio')\n",
    "sheet = 'Top Predictions'\n",
    "openxlsx::addWorksheet(workbook, sheet)\n",
    "openxlsx::writeDataTable(workbook, sheet, top_df)\n",
    "openxlsx::writeData(workbook, sheet, compound_hyperlink, startCol = 1, startRow = 2)\n",
    "openxlsx::writeData(workbook, sheet, disease_hyperlink, startCol = 2, startRow = 2)\n",
    "openxlsx::freezePane(workbook, sheet, firstRow = T)\n",
    "openxlsx::setColWidths(workbook, sheet, cols=1:7, widths='auto')\n",
    "openxlsx::saveWorkbook(workbook, './predictions/top-predictions.xlsx', overwrite = T)"
   ]
  },
  {
   "cell_type": "code",
   "execution_count": null,
   "metadata": {
    "collapsed": true
   },
   "outputs": [],
   "source": []
  }
 ],
 "metadata": {
  "kernelspec": {
   "display_name": "R",
   "language": "R",
   "name": "ir"
  },
  "language_info": {
   "codemirror_mode": "r",
   "file_extension": ".r",
   "mimetype": "text/x-r-source",
   "name": "R",
   "pygments_lexer": "r",
   "version": "3.3.2"
  }
 },
 "nbformat": 4,
 "nbformat_minor": 0
}
