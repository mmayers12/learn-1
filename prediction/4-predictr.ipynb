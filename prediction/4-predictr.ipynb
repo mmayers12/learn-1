{
 "cells": [
  {
   "cell_type": "markdown",
   "metadata": {},
   "source": [
    "# Fit the final model and make predictions"
   ]
  },
  {
   "cell_type": "code",
   "execution_count": 1,
   "metadata": {
    "collapsed": true
   },
   "outputs": [],
   "source": [
    "library(magrittr)"
   ]
  },
  {
   "cell_type": "markdown",
   "metadata": {},
   "source": [
    "## Prepare datasets"
   ]
  },
  {
   "cell_type": "code",
   "execution_count": 3,
   "metadata": {
    "collapsed": false
   },
   "outputs": [
    {
     "name": "stderr",
     "output_type": "stream",
     "text": [
      "Parsed with column specification:\n",
      "cols(\n",
      "  feature = col_character()\n",
      ")\n",
      "Parsed with column specification:\n",
      "cols(\n",
      "  compound_id = col_character(),\n",
      "  compound_name = col_character(),\n",
      "  disease_id = col_character(),\n",
      "  disease_name = col_character(),\n",
      "  category = col_character(),\n",
      "  status = col_integer(),\n",
      "  prior_prob = col_double(),\n",
      "  prior_logit = col_double(),\n",
      "  degree_CbG = col_double(),\n",
      "  degree_CtD = col_double(),\n",
      "  degree_DaG = col_double(),\n",
      "  degree_DtC = col_double(),\n",
      "  dwpc_CbGaD = col_double(),\n",
      "  dwpc_CbGaDaGaD = col_double(),\n",
      "  dwpc_CbGaDtCtD = col_double(),\n",
      "  dwpc_CbGbCbGaD = col_double(),\n",
      "  dwpc_CbGbCtD = col_double(),\n",
      "  dwpc_CtDtCtD = col_double()\n",
      ")\n",
      "Warning message in dplyr::one_of(blacklist):\n",
      "“Unknown variables: `dwpc_CtDtCrCtD`, `dwpc_CtDrDtCtD`, `dwpc_CcSEcCrCtD`, `dwpc_CrCtDlAlD`, `dwpc_CrCtDaGaD`, `dwpc_CrCdGdCtD`, `dwpc_CrCtDpSpD`, `dwpc_CrCuGuCtD`, `dwpc_CrCtDuGaD`, `dwpc_CrCtDdGaD`, `dwpc_CrCcSEcCtD`, `dwpc_CrCrCtDrD`, `dwpc_CdGdCrCtD`, `dwpc_CpDpCrCtD`, `dwpc_CrCtDrDrD`, `dwpc_CuGuCrCtD`, `dwpc_CrCtDdGdD`, `dwpc_CrCtDrD`”"
     ]
    }
   ],
   "source": [
    "blacklist = readr::read_tsv('features/blacklist.tsv')$feature\n",
    "feature_df = readr::read_tsv('features/transformed-features.tsv.bz2') %>%\n",
    "  dplyr::select(-dplyr::one_of(blacklist))"
   ]
  },
  {
   "cell_type": "code",
   "execution_count": 4,
   "metadata": {
    "collapsed": false
   },
   "outputs": [
    {
     "data": {
      "text/html": [
       "<table>\n",
       "<thead><tr><th scope=col>compound_id</th><th scope=col>compound_name</th><th scope=col>disease_id</th><th scope=col>disease_name</th><th scope=col>category</th><th scope=col>status</th><th scope=col>prior_prob</th><th scope=col>prior_logit</th><th scope=col>degree_CbG</th><th scope=col>degree_DaG</th><th scope=col>dwpc_CbGaD</th><th scope=col>dwpc_CbGaDaGaD</th><th scope=col>dwpc_CbGbCbGaD</th><th scope=col>dwpc_CbGbCtD</th><th scope=col>dwpc_CtDtCtD</th></tr></thead>\n",
       "<tbody>\n",
       "\t<tr><td>DB01048            </td><td>Abacavir           </td><td>DOID:10652         </td><td>Alzheimer's disease</td><td>NA                 </td><td>0                  </td><td>0.004455           </td><td>-5.409             </td><td>-0.5939            </td><td>1.076              </td><td>-0.3796            </td><td>1.187              </td><td>-0.05063           </td><td>-0.5227            </td><td>-0.1685            </td></tr>\n",
       "\t<tr><td>DB05812            </td><td>Abiraterone        </td><td>DOID:10652         </td><td>Alzheimer's disease</td><td>NA                 </td><td>0                  </td><td>0.004455           </td><td>-5.409             </td><td> 0.4237            </td><td>1.076              </td><td> 1.0780            </td><td>1.360              </td><td> 1.54400           </td><td> 0.8474            </td><td>-0.1685            </td></tr>\n",
       "</tbody>\n",
       "</table>\n"
      ],
      "text/latex": [
       "\\begin{tabular}{r|lllllllllllllll}\n",
       " compound\\_id & compound\\_name & disease\\_id & disease\\_name & category & status & prior\\_prob & prior\\_logit & degree\\_CbG & degree\\_DaG & dwpc\\_CbGaD & dwpc\\_CbGaDaGaD & dwpc\\_CbGbCbGaD & dwpc\\_CbGbCtD & dwpc\\_CtDtCtD\\\\\n",
       "\\hline\n",
       "\t DB01048             & Abacavir            & DOID:10652          & Alzheimer's disease & NA                  & 0                   & 0.004455            & -5.409              & -0.5939             & 1.076               & -0.3796             & 1.187               & -0.05063            & -0.5227             & -0.1685            \\\\\n",
       "\t DB05812             & Abiraterone         & DOID:10652          & Alzheimer's disease & NA                  & 0                   & 0.004455            & -5.409              &  0.4237             & 1.076               &  1.0780             & 1.360               &  1.54400            &  0.8474             & -0.1685            \\\\\n",
       "\\end{tabular}\n"
      ],
      "text/plain": [
       "  compound_id compound_name disease_id disease_name        category status\n",
       "1 DB01048     Abacavir      DOID:10652 Alzheimer's disease NA       0     \n",
       "2 DB05812     Abiraterone   DOID:10652 Alzheimer's disease NA       0     \n",
       "  prior_prob prior_logit degree_CbG degree_DaG dwpc_CbGaD dwpc_CbGaDaGaD\n",
       "1 0.004455   -5.409      -0.5939    1.076      -0.3796    1.187         \n",
       "2 0.004455   -5.409       0.4237    1.076       1.0780    1.360         \n",
       "  dwpc_CbGbCbGaD dwpc_CbGbCtD dwpc_CtDtCtD\n",
       "1 -0.05063       -0.5227      -0.1685     \n",
       "2  1.54400        0.8474      -0.1685     "
      ]
     },
     "metadata": {},
     "output_type": "display_data"
    }
   ],
   "source": [
    "head(feature_df, 2)"
   ]
  },
  {
   "cell_type": "code",
   "execution_count": 6,
   "metadata": {
    "collapsed": false
   },
   "outputs": [
    {
     "data": {
      "text/html": [
       "<ol class=list-inline>\n",
       "\t<li>24674</li>\n",
       "\t<li>8</li>\n",
       "</ol>\n"
      ],
      "text/latex": [
       "\\begin{enumerate*}\n",
       "\\item 24674\n",
       "\\item 8\n",
       "\\end{enumerate*}\n"
      ],
      "text/markdown": [
       "1. 24674\n",
       "2. 8\n",
       "\n",
       "\n"
      ],
      "text/plain": [
       "[1] 24674     8"
      ]
     },
     "metadata": {},
     "output_type": "display_data"
    }
   ],
   "source": [
    "train_df = feature_df %>%\n",
    "  dplyr::filter(prior_prob > 0)\n",
    "\n",
    "X_train = train_df %>%\n",
    "  dplyr::select(prior_logit, dplyr::starts_with('degree_'), dplyr::starts_with('dwpc_')) %>%\n",
    "  as.matrix()\n",
    "dim(X_train)\n",
    "\n",
    "y_train = train_df$status"
   ]
  },
  {
   "cell_type": "markdown",
   "metadata": {},
   "source": [
    "## Fit Model"
   ]
  },
  {
   "cell_type": "code",
   "execution_count": 7,
   "metadata": {
    "collapsed": true
   },
   "outputs": [],
   "source": [
    "lambda = 'lambda.1se'\n",
    "penalty = ifelse(colnames(X_train) == 'prior_logit', 0, 1)"
   ]
  },
  {
   "cell_type": "code",
   "execution_count": 8,
   "metadata": {
    "collapsed": false
   },
   "outputs": [
    {
     "name": "stderr",
     "output_type": "stream",
     "text": [
      "Loading required package: Matrix\n",
      "Loading required package: foreach\n",
      "Loaded glmnet 2.0-5\n",
      "\n"
     ]
    }
   ],
   "source": [
    "fit = hetior::glmnet_train(X = X_train, y = y_train, alpha = 0.2, s = lambda, cores = 10, seed = 0,\n",
    "  penalty.factor=penalty, lambda.min.ratio=1e-8, nlambda=150, standardize=TRUE)"
   ]
  },
  {
   "cell_type": "code",
   "execution_count": 9,
   "metadata": {
    "collapsed": false
   },
   "outputs": [
    {
     "data": {
      "text/html": [
       "0.00989246551929853"
      ],
      "text/latex": [
       "0.00989246551929853"
      ],
      "text/markdown": [
       "0.00989246551929853"
      ],
      "text/plain": [
       "[1] 0.009892466"
      ]
     },
     "metadata": {},
     "output_type": "display_data"
    },
    {
     "data": {
      "image/png": "[encoded data removed]",
      "text/plain": [
       "plot without title"
      ]
     },
     "metadata": {},
     "output_type": "display_data"
    }
   ],
   "source": [
    "par(mfrow = c(2,1), oma = c(5,4,0,0) + 0.1, mar = c(0,0,1,1) + 0.1)\n",
    "plot(fit$cv_model$glmnet.fit, xvar = \"lambda\", label = TRUE)\n",
    "plot(fit$cv_model)\n",
    "fit$cv_model[[lambda]]"
   ]
  },
  {
   "cell_type": "code",
   "execution_count": 10,
   "metadata": {
    "collapsed": false
   },
   "outputs": [
    {
     "data": {
      "text/html": [
       "0.660447401996941"
      ],
      "text/latex": [
       "0.660447401996941"
      ],
      "text/markdown": [
       "0.660447401996941"
      ],
      "text/plain": [
       "[1] 0.6604474"
      ]
     },
     "metadata": {},
     "output_type": "display_data"
    }
   ],
   "source": [
    "# The coefficient for prior_logit should be around 1 for our approach to work well\n",
    "dplyr::filter(fit$coef_df, feature == 'prior_logit')$coef"
   ]
  },
  {
   "cell_type": "code",
   "execution_count": 11,
   "metadata": {
    "collapsed": false
   },
   "outputs": [
    {
     "data": {
      "text/plain": [
       ".\n",
       "-1  1 \n",
       " 4  4 "
      ]
     },
     "metadata": {},
     "output_type": "display_data"
    }
   ],
   "source": [
    "# Number of negative and positive coefficients\n",
    "fit$coef_df %>%\n",
    "  dplyr::filter(feature != 'intercept', zcoef != 0) %>%\n",
    "  .[['zcoef']] %>% sign %>% table"
   ]
  },
  {
   "cell_type": "code",
   "execution_count": 12,
   "metadata": {
    "collapsed": false
   },
   "outputs": [
    {
     "data": {
      "text/html": [
       "615.006678"
      ],
      "text/latex": [
       "615.006678"
      ],
      "text/markdown": [
       "615.006678"
      ],
      "text/plain": [
       "[1] 615.0067"
      ]
     },
     "metadata": {},
     "output_type": "display_data"
    },
    {
     "data": {
      "text/html": [
       "'0.404%'"
      ],
      "text/latex": [
       "'0.404\\%'"
      ],
      "text/markdown": [
       "'0.404%'"
      ],
      "text/plain": [
       "[1] \"0.404%\""
      ]
     },
     "metadata": {},
     "output_type": "display_data"
    }
   ],
   "source": [
    "# Sum of prior (should sum to the number of treatments)\n",
    "sum(feature_df$prior_prob)\n",
    "\n",
    "# Prevalence of positives as percent\n",
    "scales::percent(mean(feature_df$status))"
   ]
  },
  {
   "cell_type": "code",
   "execution_count": 14,
   "metadata": {
    "collapsed": false
   },
   "outputs": [
    {
     "data": {
      "text/html": [
       "'0.373%'"
      ],
      "text/latex": [
       "'0.373\\%'"
      ],
      "text/markdown": [
       "'0.373%'"
      ],
      "text/plain": [
       "[1] \"0.373%\""
      ]
     },
     "metadata": {},
     "output_type": "display_data"
    }
   ],
   "source": [
    "X_all = feature_df %>%\n",
    "  dplyr::mutate(prior_logit = boot::logit(mean(status))) %>%\n",
    "  dplyr::select(dplyr::one_of(colnames(X_train))) %>%\n",
    "  as.matrix()\n",
    "\n",
    "y_predicted = hetior::glmnet_predict(fit$cv_model, X = X_all, s = lambda)\n",
    "y_predicted %>% mean() %>% scales::percent()"
   ]
  },
  {
   "cell_type": "code",
   "execution_count": 16,
   "metadata": {
    "collapsed": false
   },
   "outputs": [
    {
     "name": "stderr",
     "output_type": "stream",
     "text": [
      "Joining, by = c(\"compound_id\", \"disease_id\")\n",
      "Parsed with column specification:\n",
      "cols(\n",
      "  compound_id = col_character(),\n",
      "  compound_name = col_character(),\n",
      "  disease_id = col_character(),\n",
      "  disease_name = col_character(),\n",
      "  n_trials = col_integer(),\n",
      "  status_trials = col_integer(),\n",
      "  status_drugcentral = col_integer()\n",
      ")\n",
      "Joining, by = c(\"compound_id\", \"compound_name\", \"disease_id\", \"disease_name\")\n"
     ]
    }
   ],
   "source": [
    "train_pred_df = train_df %>%\n",
    "  dplyr::select(compound_id, disease_id) %>%\n",
    "  dplyr::bind_cols(dplyr::data_frame(training_prediction = fit$y_pred))\n",
    "\n",
    "predict_df = feature_df %>%\n",
    "  dplyr::select(compound_id:prior_prob, dplyr::starts_with('status')) %>%\n",
    "  dplyr::mutate(prediction = y_predicted) %>%\n",
    "  dplyr::left_join(train_pred_df) %>%\n",
    "  dplyr::group_by(compound_id) %>%\n",
    "  dplyr::mutate(compound_percentile = dplyr::cume_dist(prediction)) %>%\n",
    "  dplyr::ungroup() %>%\n",
    "  dplyr::group_by(disease_id) %>%\n",
    "  dplyr::mutate(disease_percentile = dplyr::cume_dist(prediction)) %>%\n",
    "  dplyr::ungroup() %>%\n",
    "  dplyr::left_join(readr::read_tsv('../validate/validation-statuses.tsv'))"
   ]
  },
  {
   "cell_type": "code",
   "execution_count": 17,
   "metadata": {
    "collapsed": false
   },
   "outputs": [
    {
     "data": {
      "text/html": [
       "<table>\n",
       "<thead><tr><th scope=col>compound_id</th><th scope=col>compound_name</th><th scope=col>disease_id</th><th scope=col>disease_name</th><th scope=col>category</th><th scope=col>status</th><th scope=col>prior_prob</th><th scope=col>prediction</th><th scope=col>training_prediction</th><th scope=col>compound_percentile</th><th scope=col>disease_percentile</th><th scope=col>n_trials</th><th scope=col>status_trials</th><th scope=col>status_drugcentral</th></tr></thead>\n",
       "<tbody>\n",
       "\t<tr><td>DB00630     </td><td>Alendronate </td><td>DOID:11476  </td><td>osteoporosis</td><td>DM          </td><td>1           </td><td>0.03166     </td><td>0.2384161   </td><td>0.5541312   </td><td>1           </td><td>1.0000000   </td><td>NA          </td><td>NA          </td><td>NA          </td></tr>\n",
       "\t<tr><td>DB00884     </td><td>Risedronate </td><td>DOID:11476  </td><td>osteoporosis</td><td>DM          </td><td>1           </td><td>0.03166     </td><td>0.2034343   </td><td>0.5034482   </td><td>1           </td><td>0.9992821   </td><td>NA          </td><td>NA          </td><td>NA          </td></tr>\n",
       "</tbody>\n",
       "</table>\n"
      ],
      "text/latex": [
       "\\begin{tabular}{r|llllllllllllll}\n",
       " compound\\_id & compound\\_name & disease\\_id & disease\\_name & category & status & prior\\_prob & prediction & training\\_prediction & compound\\_percentile & disease\\_percentile & n\\_trials & status\\_trials & status\\_drugcentral\\\\\n",
       "\\hline\n",
       "\t DB00630      & Alendronate  & DOID:11476   & osteoporosis & DM           & 1            & 0.03166      & 0.2384161    & 0.5541312    & 1            & 1.0000000    & NA           & NA           & NA          \\\\\n",
       "\t DB00884      & Risedronate  & DOID:11476   & osteoporosis & DM           & 1            & 0.03166      & 0.2034343    & 0.5034482    & 1            & 0.9992821    & NA           & NA           & NA          \\\\\n",
       "\\end{tabular}\n"
      ],
      "text/plain": [
       "  compound_id compound_name disease_id disease_name category status prior_prob\n",
       "1 DB00630     Alendronate   DOID:11476 osteoporosis DM       1      0.03166   \n",
       "2 DB00884     Risedronate   DOID:11476 osteoporosis DM       1      0.03166   \n",
       "  prediction training_prediction compound_percentile disease_percentile\n",
       "1 0.2384161  0.5541312           1                   1.0000000         \n",
       "2 0.2034343  0.5034482           1                   0.9992821         \n",
       "  n_trials status_trials status_drugcentral\n",
       "1 NA       NA            NA                \n",
       "2 NA       NA            NA                "
      ]
     },
     "metadata": {},
     "output_type": "display_data"
    }
   ],
   "source": [
    "predict_df %>%\n",
    "  dplyr::arrange(desc(prediction)) %>%\n",
    "  head(2)"
   ]
  },
  {
   "cell_type": "markdown",
   "metadata": {},
   "source": [
    "## Calculate performance"
   ]
  },
  {
   "cell_type": "code",
   "execution_count": 18,
   "metadata": {
    "collapsed": false
   },
   "outputs": [
    {
     "data": {
      "text/html": [
       "<table>\n",
       "<thead><tr><th scope=col>y_true_var</th><th scope=col>y_pred_var</th><th scope=col>n_pos</th><th scope=col>n_neg</th><th scope=col>auroc</th><th scope=col>auprc</th><th scope=col>tjur</th></tr></thead>\n",
       "<tbody>\n",
       "\t<tr><td>status             </td><td>compound_percentile</td><td> 754               </td><td>185908             </td><td>0.9162669          </td><td>0.042168613        </td><td>0.416540826        </td></tr>\n",
       "\t<tr><td>status_drugcentral </td><td>compound_percentile</td><td> 198               </td><td>185079             </td><td>0.8207611          </td><td>0.008500988        </td><td>0.321245369        </td></tr>\n",
       "\t<tr><td>status_trials      </td><td>compound_percentile</td><td>5474               </td><td>179803             </td><td>0.6256750          </td><td>0.054862172        </td><td>0.125663304        </td></tr>\n",
       "\t<tr><td>status             </td><td>disease_percentile </td><td> 754               </td><td>185908             </td><td>0.9084145          </td><td>0.050277973        </td><td>0.412492132        </td></tr>\n",
       "\t<tr><td>status_drugcentral </td><td>disease_percentile </td><td> 198               </td><td>185079             </td><td>0.8058033          </td><td>0.005486652        </td><td>0.308076715        </td></tr>\n",
       "\t<tr><td>status_trials      </td><td>disease_percentile </td><td>5474               </td><td>179803             </td><td>0.6126915          </td><td>0.052607834        </td><td>0.113518849        </td></tr>\n",
       "\t<tr><td>status             </td><td>prediction         </td><td> 754               </td><td>185908             </td><td>0.9541007          </td><td>0.244799491        </td><td>0.031326907        </td></tr>\n",
       "\t<tr><td>status_drugcentral </td><td>prediction         </td><td> 198               </td><td>185079             </td><td>0.8574605          </td><td>0.024232075        </td><td>0.015797810        </td></tr>\n",
       "\t<tr><td>status_trials      </td><td>prediction         </td><td>5474               </td><td>179803             </td><td>0.6587728          </td><td>0.097989014        </td><td>0.004591048        </td></tr>\n",
       "\t<tr><td>status             </td><td>prior_prob         </td><td> 754               </td><td>185908             </td><td>0.9405573          </td><td>0.151214648        </td><td>0.087036195        </td></tr>\n",
       "\t<tr><td>status_drugcentral </td><td>prior_prob         </td><td> 198               </td><td>185079             </td><td>0.5429180          </td><td>0.003172844        </td><td>0.014723178        </td></tr>\n",
       "\t<tr><td>status_trials      </td><td>prior_prob         </td><td>5474               </td><td>179803             </td><td>0.6135732          </td><td>0.087428963        </td><td>0.012210609        </td></tr>\n",
       "\t<tr><td>status             </td><td>training_prediction</td><td> 700               </td><td> 23974             </td><td>0.9116644          </td><td>0.367933556        </td><td>0.185626820        </td></tr>\n",
       "\t<tr><td>status_drugcentral </td><td>training_prediction</td><td>  39               </td><td> 23785             </td><td>0.8669599          </td><td>0.017760774        </td><td>0.116444722        </td></tr>\n",
       "\t<tr><td>status_trials      </td><td>training_prediction</td><td>1835               </td><td> 21989             </td><td>0.7193308          </td><td>0.226273688        </td><td>0.047433705        </td></tr>\n",
       "</tbody>\n",
       "</table>\n"
      ],
      "text/latex": [
       "\\begin{tabular}{r|lllllll}\n",
       " y\\_true\\_var & y\\_pred\\_var & n\\_pos & n\\_neg & auroc & auprc & tjur\\\\\n",
       "\\hline\n",
       "\t status                & compound\\_percentile &  754                  & 185908                & 0.9162669             & 0.042168613           & 0.416540826          \\\\\n",
       "\t status\\_drugcentral  & compound\\_percentile &  198                  & 185079                & 0.8207611             & 0.008500988           & 0.321245369          \\\\\n",
       "\t status\\_trials       & compound\\_percentile & 5474                  & 179803                & 0.6256750             & 0.054862172           & 0.125663304          \\\\\n",
       "\t status                & disease\\_percentile  &  754                  & 185908                & 0.9084145             & 0.050277973           & 0.412492132          \\\\\n",
       "\t status\\_drugcentral  & disease\\_percentile  &  198                  & 185079                & 0.8058033             & 0.005486652           & 0.308076715          \\\\\n",
       "\t status\\_trials       & disease\\_percentile  & 5474                  & 179803                & 0.6126915             & 0.052607834           & 0.113518849          \\\\\n",
       "\t status              & prediction          &  754                & 185908              & 0.9541007           & 0.244799491         & 0.031326907        \\\\\n",
       "\t status\\_drugcentral & prediction           &  198                 & 185079               & 0.8574605            & 0.024232075          & 0.015797810         \\\\\n",
       "\t status\\_trials      & prediction           & 5474                 & 179803               & 0.6587728            & 0.097989014          & 0.004591048         \\\\\n",
       "\t status                & prior\\_prob          &  754                  & 185908                & 0.9405573             & 0.151214648           & 0.087036195          \\\\\n",
       "\t status\\_drugcentral  & prior\\_prob          &  198                  & 185079                & 0.5429180             & 0.003172844           & 0.014723178          \\\\\n",
       "\t status\\_trials       & prior\\_prob          & 5474                  & 179803                & 0.6135732             & 0.087428963           & 0.012210609          \\\\\n",
       "\t status                & training\\_prediction &  700                  &  23974                & 0.9116644             & 0.367933556           & 0.185626820          \\\\\n",
       "\t status\\_drugcentral  & training\\_prediction &   39                  &  23785                & 0.8669599             & 0.017760774           & 0.116444722          \\\\\n",
       "\t status\\_trials       & training\\_prediction & 1835                  &  21989                & 0.7193308             & 0.226273688           & 0.047433705          \\\\\n",
       "\\end{tabular}\n"
      ],
      "text/plain": [
       "   y_true_var         y_pred_var          n_pos n_neg  auroc     auprc      \n",
       "1  status             compound_percentile  754  185908 0.9162669 0.042168613\n",
       "2  status_drugcentral compound_percentile  198  185079 0.8207611 0.008500988\n",
       "3  status_trials      compound_percentile 5474  179803 0.6256750 0.054862172\n",
       "4  status             disease_percentile   754  185908 0.9084145 0.050277973\n",
       "5  status_drugcentral disease_percentile   198  185079 0.8058033 0.005486652\n",
       "6  status_trials      disease_percentile  5474  179803 0.6126915 0.052607834\n",
       "7  status             prediction           754  185908 0.9541007 0.244799491\n",
       "8  status_drugcentral prediction           198  185079 0.8574605 0.024232075\n",
       "9  status_trials      prediction          5474  179803 0.6587728 0.097989014\n",
       "10 status             prior_prob           754  185908 0.9405573 0.151214648\n",
       "11 status_drugcentral prior_prob           198  185079 0.5429180 0.003172844\n",
       "12 status_trials      prior_prob          5474  179803 0.6135732 0.087428963\n",
       "13 status             training_prediction  700   23974 0.9116644 0.367933556\n",
       "14 status_drugcentral training_prediction   39   23785 0.8669599 0.017760774\n",
       "15 status_trials      training_prediction 1835   21989 0.7193308 0.226273688\n",
       "   tjur       \n",
       "1  0.416540826\n",
       "2  0.321245369\n",
       "3  0.125663304\n",
       "4  0.412492132\n",
       "5  0.308076715\n",
       "6  0.113518849\n",
       "7  0.031326907\n",
       "8  0.015797810\n",
       "9  0.004591048\n",
       "10 0.087036195\n",
       "11 0.014723178\n",
       "12 0.012210609\n",
       "13 0.185626820\n",
       "14 0.116444722\n",
       "15 0.047433705"
      ]
     },
     "metadata": {},
     "output_type": "display_data"
    }
   ],
   "source": [
    "get_metrics = function(params) {\n",
    "  y_true_var = params$y_true_var\n",
    "  y_pred_var = params$y_pred_var\n",
    "  vtm_df = predict_df[, c(y_true_var, y_pred_var)] %>% na.omit()\n",
    "  y_true = vtm_df[[1]]\n",
    "  vtm = hetior::calc_vtms(y_true = y_true, y_pred = vtm_df[[2]], is_prob = T)\n",
    "  dplyr::data_frame(\n",
    "      y_true_var = y_true_var, y_pred_var = y_pred_var,\n",
    "      n_pos = sum(y_true == 1), n_neg = sum(y_true == 0),\n",
    "      auroc = vtm$auroc, auprc = vtm$auprc, tjur = vtm$tjur\n",
    "  ) %>% return()\n",
    "}\n",
    "\n",
    "perf_df = tidyr::crossing(\n",
    "  y_pred_var = c('prediction', 'compound_percentile', 'disease_percentile', 'training_prediction', 'prior_prob'),\n",
    "  y_true_var = c('status', 'status_drugcentral', 'status_trials')\n",
    ") %>%\n",
    "  dplyr::rowwise() %>%\n",
    "  dplyr::do(get_metrics(.))\n",
    "\n",
    "perf_df"
   ]
  },
  {
   "cell_type": "markdown",
   "metadata": {},
   "source": [
    "## Write results to TSVs"
   ]
  },
  {
   "cell_type": "code",
   "execution_count": 19,
   "metadata": {
    "collapsed": false
   },
   "outputs": [],
   "source": [
    "perf_df %>% readr::write_tsv('predictions/performance.tsv')\n",
    "fit$coef_df %>% readr::write_tsv('model/coefficient.tsv')\n",
    "predict_df %>% readr::write_tsv('predictions/probabilities.tsv', na = '')"
   ]
  },
  {
   "cell_type": "markdown",
   "metadata": {},
   "source": [
    "## Write an xlsx with top predictions"
   ]
  },
  {
   "cell_type": "code",
   "execution_count": 22,
   "metadata": {
    "collapsed": false
   },
   "outputs": [
    {
     "name": "stderr",
     "output_type": "stream",
     "text": [
      "Parsed with column specification:\n",
      "cols(\n",
      "  nct_id = col_character(),\n",
      "  compound_id = col_character(),\n",
      "  compound_name = col_character(),\n",
      "  disease_id = col_character(),\n",
      "  disease_name = col_character()\n",
      ")\n",
      "Joining, by = c(\"compound_id\", \"disease_id\")\n",
      "Warning message:\n",
      "“Overwriting existing cell data.”Warning message:\n",
      "“Overwriting existing cell data.”"
     ]
    }
   ],
   "source": [
    "# Read trials\n",
    "url = 'https://github.com/dhimmel/clintrials/blob/7c65dec7b69322ca2f8ba2b170c1b3dbd92ebff8/data/DrugBank-DO-slim.tsv?raw=true'\n",
    "trial_df = readr::read_tsv(url) %>%\n",
    "  dplyr::group_by(compound_id, disease_id) %>%\n",
    "  dplyr::summarize(n_trials = n()) %>%\n",
    "  dplyr::ungroup()\n",
    "\n",
    "# Extract most pertinent columns and top predictions\n",
    "top_df = predict_df %>%\n",
    "  dplyr::arrange(desc(prediction)) %>%\n",
    "  dplyr::select(compound_id, disease_id, compound_name, disease_name, category, prediction, compound_percentile, disease_percentile, prior_prob) %>%\n",
    "  dplyr::filter((prediction > 0.01)) %>%\n",
    "  dplyr::left_join(trial_df) %>%\n",
    "  dplyr::mutate(n_trials = ifelse(is.na(n_trials), 0, n_trials))\n",
    "\n",
    "compound_hyperlink = setNames(paste0('http://www.drugbank.ca/drugs/', top_df$compound_id), top_df$compound_name)\n",
    "disease_hyperlink = setNames(paste0('http://www.disease-ontology.org/?id=', top_df$disease_id), top_df$disease_name)\n",
    "class(compound_hyperlink) = 'hyperlink'\n",
    "class(disease_hyperlink) = 'hyperlink'\n",
    "top_df %<>% dplyr::select(-dplyr::ends_with('_id'))\n",
    "\n",
    "# Convert columns to percent for pretty formatting\n",
    "percent_cols = c('prediction', 'compound_percentile', 'disease_percentile', 'prior_prob')\n",
    "for (percent_col in percent_cols) {\n",
    "  class(top_df[[percent_col]]) = 'percentage'\n",
    "}\n",
    "\n",
    "# Write to an excel file\n",
    "workbook = openxlsx::createWorkbook('Project Rephetio')\n",
    "sheet = 'Top Predictions'\n",
    "openxlsx::addWorksheet(workbook, sheet)\n",
    "openxlsx::writeDataTable(workbook, sheet, top_df)\n",
    "openxlsx::writeData(workbook, sheet, compound_hyperlink, startCol = 1, startRow = 2)\n",
    "openxlsx::writeData(workbook, sheet, disease_hyperlink, startCol = 2, startRow = 2)\n",
    "openxlsx::freezePane(workbook, sheet, firstRow = T)\n",
    "openxlsx::setColWidths(workbook, sheet, cols=1:7, widths='auto')\n",
    "openxlsx::saveWorkbook(workbook, './predictions/top-predictions.xlsx', overwrite = T)"
   ]
  },
  {
   "cell_type": "code",
   "execution_count": null,
   "metadata": {
    "collapsed": true
   },
   "outputs": [],
   "source": []
  }
 ],
 "metadata": {
  "kernelspec": {
   "display_name": "R",
   "language": "R",
   "name": "ir"
  },
  "language_info": {
   "codemirror_mode": "r",
   "file_extension": ".r",
   "mimetype": "text/x-r-source",
   "name": "R",
   "pygments_lexer": "r",
   "version": "3.3.2"
  }
 },
 "nbformat": 4,
 "nbformat_minor": 0
}
