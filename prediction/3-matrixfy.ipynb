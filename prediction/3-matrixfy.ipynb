{
 "cells": [
  {
   "cell_type": "markdown",
   "metadata": {},
   "source": [
    "# Convert features into a matrix"
   ]
  },
  {
   "cell_type": "code",
   "execution_count": 1,
   "metadata": {
    "collapsed": true
   },
   "outputs": [],
   "source": [
    "import bz2\n",
    "\n",
    "import pandas\n",
    "import numpy\n",
    "from scipy.special import logit"
   ]
  },
  {
   "cell_type": "code",
   "execution_count": 2,
   "metadata": {
    "collapsed": false
   },
   "outputs": [
    {
     "data": {
      "text/html": [
       "<div>\n",
       "<table border=\"1\" class=\"dataframe\">\n",
       "  <thead>\n",
       "    <tr style=\"text-align: right;\">\n",
       "      <th></th>\n",
       "      <th>compound_id</th>\n",
       "      <th>compound_name</th>\n",
       "      <th>disease_id</th>\n",
       "      <th>disease_name</th>\n",
       "      <th>category</th>\n",
       "      <th>status</th>\n",
       "    </tr>\n",
       "  </thead>\n",
       "  <tbody>\n",
       "    <tr>\n",
       "      <th>0</th>\n",
       "      <td>DB01048</td>\n",
       "      <td>Abacavir</td>\n",
       "      <td>DOID:10652</td>\n",
       "      <td>Alzheimer's disease</td>\n",
       "      <td>NaN</td>\n",
       "      <td>0</td>\n",
       "    </tr>\n",
       "    <tr>\n",
       "      <th>1</th>\n",
       "      <td>DB01048</td>\n",
       "      <td>Abacavir</td>\n",
       "      <td>DOID:9206</td>\n",
       "      <td>Barrett's esophagus</td>\n",
       "      <td>NaN</td>\n",
       "      <td>0</td>\n",
       "    </tr>\n",
       "  </tbody>\n",
       "</table>\n",
       "</div>"
      ],
      "text/plain": [
       "  compound_id compound_name  disease_id         disease_name category  status\n",
       "0     DB01048      Abacavir  DOID:10652  Alzheimer's disease      NaN       0\n",
       "1     DB01048      Abacavir   DOID:9206  Barrett's esophagus      NaN       0"
      ]
     },
     "execution_count": 2,
     "metadata": {},
     "output_type": "execute_result"
    }
   ],
   "source": [
    "# Read compound-disease pairs (observations)\n",
    "pair_df = pandas.read_table('features/compound-disease-pairs.tsv.bz2')\n",
    "pair_df.head(2)"
   ]
  },
  {
   "cell_type": "code",
   "execution_count": 3,
   "metadata": {
    "collapsed": false
   },
   "outputs": [
    {
     "data": {
      "text/html": [
       "<div>\n",
       "<table border=\"1\" class=\"dataframe\">\n",
       "  <thead>\n",
       "    <tr style=\"text-align: right;\">\n",
       "      <th></th>\n",
       "      <th>compound_id</th>\n",
       "      <th>disease_id</th>\n",
       "      <th>prior_prob</th>\n",
       "    </tr>\n",
       "  </thead>\n",
       "  <tbody>\n",
       "    <tr>\n",
       "      <th>186660</th>\n",
       "      <td>DB01624</td>\n",
       "      <td>DOID:12306</td>\n",
       "      <td>0</td>\n",
       "    </tr>\n",
       "    <tr>\n",
       "      <th>186661</th>\n",
       "      <td>DB01624</td>\n",
       "      <td>DOID:1245</td>\n",
       "      <td>0</td>\n",
       "    </tr>\n",
       "  </tbody>\n",
       "</table>\n",
       "</div>"
      ],
      "text/plain": [
       "       compound_id  disease_id  prior_prob\n",
       "186660     DB01624  DOID:12306           0\n",
       "186661     DB01624   DOID:1245           0"
      ]
     },
     "execution_count": 3,
     "metadata": {},
     "output_type": "execute_result"
    }
   ],
   "source": [
    "# Read prior probabilities\n",
    "prior_df = pandas.read_table('../all-features/data/matrix/prior.tsv')\n",
    "prior_df.tail(2)"
   ]
  },
  {
   "cell_type": "code",
   "execution_count": 4,
   "metadata": {
    "collapsed": false
   },
   "outputs": [
    {
     "data": {
      "text/html": [
       "<div>\n",
       "<table border=\"1\" class=\"dataframe\">\n",
       "  <thead>\n",
       "    <tr style=\"text-align: right;\">\n",
       "      <th></th>\n",
       "      <th>disease_id</th>\n",
       "      <th>degree_DaG</th>\n",
       "      <th>degree_DtC</th>\n",
       "    </tr>\n",
       "  </thead>\n",
       "  <tbody>\n",
       "    <tr>\n",
       "      <th>0</th>\n",
       "      <td>DOID:0050156</td>\n",
       "      <td>18</td>\n",
       "      <td>0</td>\n",
       "    </tr>\n",
       "    <tr>\n",
       "      <th>1</th>\n",
       "      <td>DOID:0050425</td>\n",
       "      <td>12</td>\n",
       "      <td>0</td>\n",
       "    </tr>\n",
       "  </tbody>\n",
       "</table>\n",
       "</div>"
      ],
      "text/plain": [
       "     disease_id  degree_DaG  degree_DtC\n",
       "0  DOID:0050156          18           0\n",
       "1  DOID:0050425          12           0"
      ]
     },
     "execution_count": 4,
     "metadata": {},
     "output_type": "execute_result"
    }
   ],
   "source": [
    "# Read degree features\n",
    "compound_degree_df = pandas.read_table('../all-features/data/matrix/compound_degree.tsv')\n",
    "disease_degree_df = pandas.read_table('../all-features/data/matrix/disease_degree.tsv')\n",
    "\n",
    "for df in compound_degree_df, disease_degree_df:\n",
    "    df.rename(columns={k: 'degree_' + k for k in df.columns[1:]}, inplace=True)\n",
    "\n",
    "disease_degree_df.head(2)"
   ]
  },
  {
   "cell_type": "code",
   "execution_count": 5,
   "metadata": {
    "collapsed": false
   },
   "outputs": [
    {
     "data": {
      "text/html": [
       "<div>\n",
       "<table border=\"1\" class=\"dataframe\">\n",
       "  <thead>\n",
       "    <tr style=\"text-align: right;\">\n",
       "      <th></th>\n",
       "      <th>hetnet</th>\n",
       "      <th>compound_id</th>\n",
       "      <th>disease_id</th>\n",
       "      <th>metapath</th>\n",
       "      <th>PC</th>\n",
       "      <th>w</th>\n",
       "      <th>DWPC</th>\n",
       "      <th>seconds</th>\n",
       "    </tr>\n",
       "  </thead>\n",
       "  <tbody>\n",
       "    <tr>\n",
       "      <th>0</th>\n",
       "      <td>hetio-ind</td>\n",
       "      <td>DB01048</td>\n",
       "      <td>DOID:9206</td>\n",
       "      <td>CtDtCtD</td>\n",
       "      <td>0</td>\n",
       "      <td>0.4</td>\n",
       "      <td>0</td>\n",
       "      <td>0.01605</td>\n",
       "    </tr>\n",
       "    <tr>\n",
       "      <th>1</th>\n",
       "      <td>hetio-ind</td>\n",
       "      <td>DB01048</td>\n",
       "      <td>DOID:10652</td>\n",
       "      <td>CtDtCtD</td>\n",
       "      <td>0</td>\n",
       "      <td>0.4</td>\n",
       "      <td>0</td>\n",
       "      <td>0.01971</td>\n",
       "    </tr>\n",
       "  </tbody>\n",
       "</table>\n",
       "</div>"
      ],
      "text/plain": [
       "      hetnet compound_id  disease_id metapath  PC    w  DWPC  seconds\n",
       "0  hetio-ind     DB01048   DOID:9206  CtDtCtD   0  0.4     0  0.01605\n",
       "1  hetio-ind     DB01048  DOID:10652  CtDtCtD   0  0.4     0  0.01971"
      ]
     },
     "execution_count": 5,
     "metadata": {},
     "output_type": "execute_result"
    }
   ],
   "source": [
    "# Read DWPCs\n",
    "dwpc_df = pandas.read_table('features/dwpc.tsv.bz2')\n",
    "dwpc_df.head(2)"
   ]
  },
  {
   "cell_type": "code",
   "execution_count": 6,
   "metadata": {
    "collapsed": false
   },
   "outputs": [
    {
     "data": {
      "text/html": [
       "<div>\n",
       "<table border=\"1\" class=\"dataframe\">\n",
       "  <thead>\n",
       "    <tr style=\"text-align: right;\">\n",
       "      <th></th>\n",
       "      <th>compound_id</th>\n",
       "      <th>disease_id</th>\n",
       "      <th>dwpc_CbGaD</th>\n",
       "      <th>dwpc_CbGaDaGaD</th>\n",
       "      <th>dwpc_CbGaDtCtD</th>\n",
       "      <th>dwpc_CbGbCbGaD</th>\n",
       "      <th>dwpc_CbGbCtD</th>\n",
       "      <th>dwpc_CtDtCtD</th>\n",
       "    </tr>\n",
       "  </thead>\n",
       "  <tbody>\n",
       "    <tr>\n",
       "      <th>0</th>\n",
       "      <td>DB00014</td>\n",
       "      <td>DOID:0050156</td>\n",
       "      <td>0</td>\n",
       "      <td>0.002188</td>\n",
       "      <td>0</td>\n",
       "      <td>0</td>\n",
       "      <td>0</td>\n",
       "      <td>0</td>\n",
       "    </tr>\n",
       "    <tr>\n",
       "      <th>1</th>\n",
       "      <td>DB00014</td>\n",
       "      <td>DOID:0050425</td>\n",
       "      <td>0</td>\n",
       "      <td>0.002232</td>\n",
       "      <td>0</td>\n",
       "      <td>0</td>\n",
       "      <td>0</td>\n",
       "      <td>0</td>\n",
       "    </tr>\n",
       "  </tbody>\n",
       "</table>\n",
       "</div>"
      ],
      "text/plain": [
       "  compound_id    disease_id  dwpc_CbGaD  dwpc_CbGaDaGaD  dwpc_CbGaDtCtD  \\\n",
       "0     DB00014  DOID:0050156           0        0.002188               0   \n",
       "1     DB00014  DOID:0050425           0        0.002232               0   \n",
       "\n",
       "   dwpc_CbGbCbGaD  dwpc_CbGbCtD  dwpc_CtDtCtD  \n",
       "0               0             0             0  \n",
       "1               0             0             0  "
      ]
     },
     "execution_count": 6,
     "metadata": {},
     "output_type": "execute_result"
    }
   ],
   "source": [
    "dwpc_mat_df = dwpc_df.pivot_table(values = 'DWPC', index=['compound_id', 'disease_id'], columns = 'metapath')\n",
    "dwpc_mat_df.columns = 'dwpc_' + dwpc_mat_df.columns\n",
    "dwpc_mat_df = dwpc_mat_df.reset_index()\n",
    "dwpc_mat_df.head(2)"
   ]
  },
  {
   "cell_type": "markdown",
   "metadata": {},
   "source": [
    "### Combine all observation-by-feature matrixes"
   ]
  },
  {
   "cell_type": "code",
   "execution_count": 7,
   "metadata": {
    "collapsed": true
   },
   "outputs": [],
   "source": [
    "feature_mat_df = pair_df.merge(prior_df).merge(compound_degree_df).merge(disease_degree_df).merge(dwpc_mat_df)"
   ]
  },
  {
   "cell_type": "code",
   "execution_count": 8,
   "metadata": {
    "collapsed": false
   },
   "outputs": [
    {
     "data": {
      "text/html": [
       "<div>\n",
       "<table border=\"1\" class=\"dataframe\">\n",
       "  <thead>\n",
       "    <tr style=\"text-align: right;\">\n",
       "      <th></th>\n",
       "      <th>compound_id</th>\n",
       "      <th>compound_name</th>\n",
       "      <th>disease_id</th>\n",
       "      <th>disease_name</th>\n",
       "      <th>category</th>\n",
       "      <th>status</th>\n",
       "      <th>prior_prob</th>\n",
       "      <th>degree_CbG</th>\n",
       "      <th>degree_CtD</th>\n",
       "      <th>degree_DaG</th>\n",
       "      <th>degree_DtC</th>\n",
       "      <th>dwpc_CbGaD</th>\n",
       "      <th>dwpc_CbGaDaGaD</th>\n",
       "      <th>dwpc_CbGaDtCtD</th>\n",
       "      <th>dwpc_CbGbCbGaD</th>\n",
       "      <th>dwpc_CbGbCtD</th>\n",
       "      <th>dwpc_CtDtCtD</th>\n",
       "    </tr>\n",
       "  </thead>\n",
       "  <tbody>\n",
       "    <tr>\n",
       "      <th>0</th>\n",
       "      <td>DB01048</td>\n",
       "      <td>Abacavir</td>\n",
       "      <td>DOID:10652</td>\n",
       "      <td>Alzheimer's disease</td>\n",
       "      <td>NaN</td>\n",
       "      <td>0</td>\n",
       "      <td>0.004455</td>\n",
       "      <td>3</td>\n",
       "      <td>1</td>\n",
       "      <td>196</td>\n",
       "      <td>3</td>\n",
       "      <td>0.000000</td>\n",
       "      <td>0.008574</td>\n",
       "      <td>0</td>\n",
       "      <td>0.002532</td>\n",
       "      <td>0.000000</td>\n",
       "      <td>0</td>\n",
       "    </tr>\n",
       "    <tr>\n",
       "      <th>1</th>\n",
       "      <td>DB05812</td>\n",
       "      <td>Abiraterone</td>\n",
       "      <td>DOID:10652</td>\n",
       "      <td>Alzheimer's disease</td>\n",
       "      <td>NaN</td>\n",
       "      <td>0</td>\n",
       "      <td>0.004455</td>\n",
       "      <td>8</td>\n",
       "      <td>1</td>\n",
       "      <td>196</td>\n",
       "      <td>3</td>\n",
       "      <td>0.002654</td>\n",
       "      <td>0.009692</td>\n",
       "      <td>0</td>\n",
       "      <td>0.011804</td>\n",
       "      <td>0.003682</td>\n",
       "      <td>0</td>\n",
       "    </tr>\n",
       "  </tbody>\n",
       "</table>\n",
       "</div>"
      ],
      "text/plain": [
       "  compound_id compound_name  disease_id         disease_name category  status  \\\n",
       "0     DB01048      Abacavir  DOID:10652  Alzheimer's disease      NaN       0   \n",
       "1     DB05812   Abiraterone  DOID:10652  Alzheimer's disease      NaN       0   \n",
       "\n",
       "   prior_prob  degree_CbG  degree_CtD  degree_DaG  degree_DtC  dwpc_CbGaD  \\\n",
       "0    0.004455           3           1         196           3    0.000000   \n",
       "1    0.004455           8           1         196           3    0.002654   \n",
       "\n",
       "   dwpc_CbGaDaGaD  dwpc_CbGaDtCtD  dwpc_CbGbCbGaD  dwpc_CbGbCtD  dwpc_CtDtCtD  \n",
       "0        0.008574               0        0.002532      0.000000             0  \n",
       "1        0.009692               0        0.011804      0.003682             0  "
      ]
     },
     "execution_count": 8,
     "metadata": {},
     "output_type": "execute_result"
    }
   ],
   "source": [
    "feature_mat_df.head(2)"
   ]
  },
  {
   "cell_type": "code",
   "execution_count": 9,
   "metadata": {
    "collapsed": false
   },
   "outputs": [
    {
     "data": {
      "text/plain": [
       "(186662, 17)"
      ]
     },
     "execution_count": 9,
     "metadata": {},
     "output_type": "execute_result"
    }
   ],
   "source": [
    "feature_mat_df.shape"
   ]
  },
  {
   "cell_type": "code",
   "execution_count": 10,
   "metadata": {
    "collapsed": true
   },
   "outputs": [],
   "source": [
    "with bz2.open('features/features.tsv.bz2', 'wt') as write_file:\n",
    "    feature_mat_df.to_csv(write_file, sep='\\t', index=False, float_format='%.4g')"
   ]
  },
  {
   "cell_type": "markdown",
   "metadata": {},
   "source": [
    "## Transform"
   ]
  },
  {
   "cell_type": "code",
   "execution_count": 11,
   "metadata": {
    "collapsed": false
   },
   "outputs": [
    {
     "data": {
      "text/html": [
       "<div>\n",
       "<table border=\"1\" class=\"dataframe\">\n",
       "  <thead>\n",
       "    <tr style=\"text-align: right;\">\n",
       "      <th></th>\n",
       "      <th>compound_id</th>\n",
       "      <th>compound_name</th>\n",
       "      <th>disease_id</th>\n",
       "      <th>disease_name</th>\n",
       "      <th>category</th>\n",
       "      <th>status</th>\n",
       "      <th>prior_prob</th>\n",
       "      <th>prior_logit</th>\n",
       "      <th>degree_CbG</th>\n",
       "      <th>degree_CtD</th>\n",
       "      <th>degree_DaG</th>\n",
       "      <th>degree_DtC</th>\n",
       "      <th>dwpc_CbGaD</th>\n",
       "      <th>dwpc_CbGaDaGaD</th>\n",
       "      <th>dwpc_CbGaDtCtD</th>\n",
       "      <th>dwpc_CbGbCbGaD</th>\n",
       "      <th>dwpc_CbGbCtD</th>\n",
       "      <th>dwpc_CtDtCtD</th>\n",
       "    </tr>\n",
       "  </thead>\n",
       "  <tbody>\n",
       "    <tr>\n",
       "      <th>0</th>\n",
       "      <td>DB01048</td>\n",
       "      <td>Abacavir</td>\n",
       "      <td>DOID:10652</td>\n",
       "      <td>Alzheimer's disease</td>\n",
       "      <td>NaN</td>\n",
       "      <td>0</td>\n",
       "      <td>0.004455</td>\n",
       "      <td>-5.409286</td>\n",
       "      <td>-0.593931</td>\n",
       "      <td>1.049637</td>\n",
       "      <td>1.076089</td>\n",
       "      <td>0.376915</td>\n",
       "      <td>-0.379551</td>\n",
       "      <td>1.186524</td>\n",
       "      <td>-0.555518</td>\n",
       "      <td>-0.050625</td>\n",
       "      <td>-0.522748</td>\n",
       "      <td>-0.168527</td>\n",
       "    </tr>\n",
       "    <tr>\n",
       "      <th>1</th>\n",
       "      <td>DB05812</td>\n",
       "      <td>Abiraterone</td>\n",
       "      <td>DOID:10652</td>\n",
       "      <td>Alzheimer's disease</td>\n",
       "      <td>NaN</td>\n",
       "      <td>0</td>\n",
       "      <td>0.004455</td>\n",
       "      <td>-5.409286</td>\n",
       "      <td>0.423725</td>\n",
       "      <td>1.049637</td>\n",
       "      <td>1.076089</td>\n",
       "      <td>0.376915</td>\n",
       "      <td>1.077829</td>\n",
       "      <td>1.360487</td>\n",
       "      <td>-0.555518</td>\n",
       "      <td>1.544004</td>\n",
       "      <td>0.847445</td>\n",
       "      <td>-0.168527</td>\n",
       "    </tr>\n",
       "    <tr>\n",
       "      <th>2</th>\n",
       "      <td>DB00659</td>\n",
       "      <td>Acamprosate</td>\n",
       "      <td>DOID:10652</td>\n",
       "      <td>Alzheimer's disease</td>\n",
       "      <td>NaN</td>\n",
       "      <td>0</td>\n",
       "      <td>0.004455</td>\n",
       "      <td>-5.409286</td>\n",
       "      <td>0.852142</td>\n",
       "      <td>1.049637</td>\n",
       "      <td>1.076089</td>\n",
       "      <td>0.376915</td>\n",
       "      <td>2.436310</td>\n",
       "      <td>2.602306</td>\n",
       "      <td>-0.555518</td>\n",
       "      <td>1.767558</td>\n",
       "      <td>4.114038</td>\n",
       "      <td>-0.168527</td>\n",
       "    </tr>\n",
       "  </tbody>\n",
       "</table>\n",
       "</div>"
      ],
      "text/plain": [
       "  compound_id compound_name  disease_id         disease_name category  status  \\\n",
       "0     DB01048      Abacavir  DOID:10652  Alzheimer's disease      NaN       0   \n",
       "1     DB05812   Abiraterone  DOID:10652  Alzheimer's disease      NaN       0   \n",
       "2     DB00659   Acamprosate  DOID:10652  Alzheimer's disease      NaN       0   \n",
       "\n",
       "   prior_prob  prior_logit  degree_CbG  degree_CtD  degree_DaG  degree_DtC  \\\n",
       "0    0.004455    -5.409286   -0.593931    1.049637    1.076089    0.376915   \n",
       "1    0.004455    -5.409286    0.423725    1.049637    1.076089    0.376915   \n",
       "2    0.004455    -5.409286    0.852142    1.049637    1.076089    0.376915   \n",
       "\n",
       "   dwpc_CbGaD  dwpc_CbGaDaGaD  dwpc_CbGaDtCtD  dwpc_CbGbCbGaD  dwpc_CbGbCtD  \\\n",
       "0   -0.379551        1.186524       -0.555518       -0.050625     -0.522748   \n",
       "1    1.077829        1.360487       -0.555518        1.544004      0.847445   \n",
       "2    2.436310        2.602306       -0.555518        1.767558      4.114038   \n",
       "\n",
       "   dwpc_CtDtCtD  \n",
       "0     -0.168527  \n",
       "1     -0.168527  \n",
       "2     -0.168527  "
      ]
     },
     "execution_count": 11,
     "metadata": {},
     "output_type": "execute_result"
    }
   ],
   "source": [
    "trans_df = feature_mat_df.copy()\n",
    "degree_features = list(trans_df.columns[trans_df.columns.str.startswith('degree_')])\n",
    "dwpc_features = list(trans_df.columns[trans_df.columns.str.startswith('dwpc_')])\n",
    "\n",
    "# Transform prior\n",
    "trans_df.insert(7, 'prior_logit', logit(trans_df.prior_prob))\n",
    "\n",
    "# Transform degree features\n",
    "for feature in degree_features:\n",
    "    trans_df[feature] = numpy.arcsinh(trans_df[feature])\n",
    "\n",
    "# Transform DWPC features\n",
    "for feature in dwpc_features:\n",
    "    x = trans_df[feature]\n",
    "    trans_df[feature] = numpy.arcsinh(x / x.mean())\n",
    "\n",
    "# Standardize all features besides the prior\n",
    "for feature in degree_features + dwpc_features:\n",
    "    x = trans_df[feature]\n",
    "    trans_df[feature] = (x - x.mean()) / x.std()\n",
    "\n",
    "trans_df.head(3)"
   ]
  },
  {
   "cell_type": "code",
   "execution_count": 12,
   "metadata": {
    "collapsed": false
   },
   "outputs": [],
   "source": [
    "with bz2.open('features/transformed-features.tsv.bz2', 'wt') as write_file:\n",
    "    trans_df.to_csv(write_file, sep='\\t', index=False, float_format='%.4g')"
   ]
  }
 ],
 "metadata": {
  "kernelspec": {
   "display_name": "Python 3",
   "language": "python",
   "name": "python3"
  },
  "language_info": {
   "codemirror_mode": {
    "name": "ipython",
    "version": 3
   },
   "file_extension": ".py",
   "mimetype": "text/x-python",
   "name": "python",
   "nbconvert_exporter": "python",
   "pygments_lexer": "ipython3",
   "version": "3.5.1"
  }
 },
 "nbformat": 4,
 "nbformat_minor": 0
}
