{
 "cells": [
  {
   "cell_type": "markdown",
   "metadata": {},
   "source": [
    "# Extract DWPCs for a select set of metapaths but for all compound-disease pairs"
   ]
  },
  {
   "cell_type": "code",
   "execution_count": 1,
   "metadata": {
    "collapsed": true
   },
   "outputs": [],
   "source": [
    "import json\n",
    "import threading\n",
    "import concurrent.futures\n",
    "import bz2\n",
    "import csv\n",
    "import time\n",
    "\n",
    "import pandas\n",
    "import py2neo"
   ]
  },
  {
   "cell_type": "code",
   "execution_count": 2,
   "metadata": {
    "collapsed": true
   },
   "outputs": [],
   "source": [
    "from tqdm import tqdm"
   ]
  },
  {
   "cell_type": "markdown",
   "metadata": {},
   "source": [
    "## Connect to Neo4j"
   ]
  },
  {
   "cell_type": "code",
   "execution_count": 3,
   "metadata": {
    "collapsed": false
   },
   "outputs": [],
   "source": [
    "# Override the default py2neo timeout\n",
    "py2neo.packages.httpstream.http.socket_timeout = 1e8"
   ]
  },
  {
   "cell_type": "code",
   "execution_count": 4,
   "metadata": {
    "collapsed": false
   },
   "outputs": [
    {
     "data": {
      "text/plain": [
       "<Graph uri='http://localhost:7500/db/data/'>"
      ]
     },
     "execution_count": 4,
     "metadata": {},
     "output_type": "execute_result"
    }
   ],
   "source": [
    "with open('../all-features/servers.json') as read_file:\n",
    "    instances = json.load(read_file)\n",
    "\n",
    "for instance in instances:\n",
    "    if instance['name'] == 'rephetio-v2.0':\n",
    "        uri = 'http://localhost:{}/db/data/'.format(instance['port'])    \n",
    "        neo = py2neo.Graph(uri)\n",
    "        break\n",
    "neo"
   ]
  },
  {
   "cell_type": "markdown",
   "metadata": {},
   "source": [
    "## Read metapaths"
   ]
  },
  {
   "cell_type": "code",
   "execution_count": 5,
   "metadata": {
    "collapsed": false
   },
   "outputs": [
    {
     "data": {
      "text/plain": [
       "6"
      ]
     },
     "execution_count": 5,
     "metadata": {},
     "output_type": "execute_result"
    }
   ],
   "source": [
    "with open('features/metapaths.json') as read_file:\n",
    "    metapaths = json.load(read_file)\n",
    "\n",
    "metapaths.sort(key=lambda x: x['join_complexities'][0])\n",
    "len(metapaths)"
   ]
  },
  {
   "cell_type": "code",
   "execution_count": 6,
   "metadata": {
    "collapsed": false
   },
   "outputs": [],
   "source": [
    "pair_df = pandas.read_table('features/compound-disease-pairs.tsv.bz2')"
   ]
  },
  {
   "cell_type": "code",
   "execution_count": 7,
   "metadata": {
    "collapsed": false
   },
   "outputs": [
    {
     "data": {
      "text/plain": [
       "(55768, 7)"
      ]
     },
     "execution_count": 7,
     "metadata": {},
     "output_type": "execute_result"
    }
   ],
   "source": [
    "pair_df.shape"
   ]
  },
  {
   "cell_type": "code",
   "execution_count": 8,
   "metadata": {
    "collapsed": false
   },
   "outputs": [
    {
     "data": {
      "text/html": [
       "<div>\n",
       "<table border=\"1\" class=\"dataframe\">\n",
       "  <thead>\n",
       "    <tr style=\"text-align: right;\">\n",
       "      <th></th>\n",
       "      <th>compound_id</th>\n",
       "      <th>compound_name</th>\n",
       "      <th>disease_id</th>\n",
       "      <th>disease_name</th>\n",
       "      <th>category</th>\n",
       "      <th>origin</th>\n",
       "      <th>status</th>\n",
       "    </tr>\n",
       "  </thead>\n",
       "  <tbody>\n",
       "    <tr>\n",
       "      <th>0</th>\n",
       "      <td>DB00014</td>\n",
       "      <td>NaN</td>\n",
       "      <td>DOID:0050742</td>\n",
       "      <td>NaN</td>\n",
       "      <td>NaN</td>\n",
       "      <td>train</td>\n",
       "      <td>0</td>\n",
       "    </tr>\n",
       "    <tr>\n",
       "      <th>1</th>\n",
       "      <td>DB00014</td>\n",
       "      <td>NaN</td>\n",
       "      <td>DOID:0060073</td>\n",
       "      <td>NaN</td>\n",
       "      <td>NaN</td>\n",
       "      <td>train</td>\n",
       "      <td>0</td>\n",
       "    </tr>\n",
       "    <tr>\n",
       "      <th>2</th>\n",
       "      <td>DB00014</td>\n",
       "      <td>Goserelin</td>\n",
       "      <td>DOID:10283</td>\n",
       "      <td>prostate cancer</td>\n",
       "      <td>DM</td>\n",
       "      <td>train</td>\n",
       "      <td>1</td>\n",
       "    </tr>\n",
       "    <tr>\n",
       "      <th>3</th>\n",
       "      <td>DB00014</td>\n",
       "      <td>NaN</td>\n",
       "      <td>DOID:11714</td>\n",
       "      <td>NaN</td>\n",
       "      <td>NaN</td>\n",
       "      <td>train</td>\n",
       "      <td>0</td>\n",
       "    </tr>\n",
       "    <tr>\n",
       "      <th>4</th>\n",
       "      <td>DB00014</td>\n",
       "      <td>NaN</td>\n",
       "      <td>DOID:12995</td>\n",
       "      <td>NaN</td>\n",
       "      <td>NaN</td>\n",
       "      <td>train</td>\n",
       "      <td>0</td>\n",
       "    </tr>\n",
       "  </tbody>\n",
       "</table>\n",
       "</div>"
      ],
      "text/plain": [
       "  compound_id compound_name    disease_id     disease_name category origin  \\\n",
       "0     DB00014           NaN  DOID:0050742              NaN      NaN  train   \n",
       "1     DB00014           NaN  DOID:0060073              NaN      NaN  train   \n",
       "2     DB00014     Goserelin    DOID:10283  prostate cancer       DM  train   \n",
       "3     DB00014           NaN    DOID:11714              NaN      NaN  train   \n",
       "4     DB00014           NaN    DOID:12995              NaN      NaN  train   \n",
       "\n",
       "   status  \n",
       "0       0  \n",
       "1       0  \n",
       "2       1  \n",
       "3       0  \n",
       "4       0  "
      ]
     },
     "execution_count": 8,
     "metadata": {},
     "output_type": "execute_result"
    }
   ],
   "source": [
    "pair_df.head()"
   ]
  },
  {
   "cell_type": "code",
   "execution_count": 9,
   "metadata": {
    "collapsed": false
   },
   "outputs": [
    {
     "data": {
      "text/plain": [
       "train      38982\n",
       "holdout    16786\n",
       "Name: origin, dtype: int64"
      ]
     },
     "execution_count": 9,
     "metadata": {},
     "output_type": "execute_result"
    }
   ],
   "source": [
    "pair_df[\"origin\"].value_counts()"
   ]
  },
  {
   "cell_type": "code",
   "execution_count": 10,
   "metadata": {
    "collapsed": false
   },
   "outputs": [
    {
     "name": "stdout",
     "output_type": "stream",
     "text": [
      "334,608 total queries\n"
     ]
    }
   ],
   "source": [
    "# Total number of queries\n",
    "total_queries = len(metapaths) * len(pair_df)\n",
    "print('{:,} total queries'.format(total_queries))"
   ]
  },
  {
   "cell_type": "markdown",
   "metadata": {},
   "source": [
    "## Query setup"
   ]
  },
  {
   "cell_type": "code",
   "execution_count": 11,
   "metadata": {
    "collapsed": false
   },
   "outputs": [],
   "source": [
    "pairs = list(pair_df.itertuples())\n",
    "\n",
    "def generate_parameters(max_elems=None):\n",
    "    \"\"\"Generate compound, disease, metapath combinations\"\"\"\n",
    "    n = 0\n",
    "    for metapath_dict in metapaths:\n",
    "        metapath = metapath_dict['abbreviation']\n",
    "        query = metapath_dict['dwpc_query']\n",
    "        for pair_info in pairs:\n",
    "            if max_elems is not None and n == max_elems:\n",
    "                break\n",
    "            yield {\n",
    "                'neo': neo,\n",
    "                'hetnet': 'hetio-ind',\n",
    "                'compound_id': pair_info.compound_id,\n",
    "                'disease_id': pair_info.disease_id,\n",
    "                'metapath': metapath,\n",
    "                'query': query,\n",
    "                'w': 0.4,\n",
    "            }\n",
    "            n += 1"
   ]
  },
  {
   "cell_type": "code",
   "execution_count": 12,
   "metadata": {
    "collapsed": true
   },
   "outputs": [],
   "source": [
    "def compute_dwpc(neo, hetnet, query, metapath, compound_id, disease_id, w):\n",
    "    \"\"\"Execute the neo4j query and write results to file\"\"\"\n",
    "    start = time.time()\n",
    "    results = neo.cypher.execute(query, source=compound_id, target=disease_id, w=w)\n",
    "    record = results.one\n",
    "    seconds = '{0:.4g}'.format(time.time() - start)\n",
    "    row = hetnet, compound_id, disease_id, metapath, record['PC'], w, '{0:.6g}'.format(record['DWPC']), seconds\n",
    "    with writer_lock:\n",
    "        writer.writerow(row)"
   ]
  },
  {
   "cell_type": "markdown",
   "metadata": {},
   "source": [
    "## Execute queries"
   ]
  },
  {
   "cell_type": "code",
   "execution_count": 13,
   "metadata": {
    "collapsed": false
   },
   "outputs": [
    {
     "name": "stderr",
     "output_type": "stream",
     "text": [
      "100%|██████████| 334608/334608 [22:35<00:00, 246.82it/s]\n"
     ]
    },
    {
     "name": "stdout",
     "output_type": "stream",
     "text": [
      "CPU times: user 5min 44s, sys: 19.9 s, total: 6min 3s\n",
      "Wall time: 24min 26s\n"
     ]
    }
   ],
   "source": [
    "%%time\n",
    "\n",
    "# Parameters\n",
    "workers = 2\n",
    "max_elems = None\n",
    "\n",
    "# Prepare writer\n",
    "path = 'features/dwpc.tsv.bz2'\n",
    "write_file = bz2.open(path, 'wt')\n",
    "writer = csv.writer(write_file, delimiter='\\t')\n",
    "writer.writerow(['hetnet', 'compound_id', 'disease_id', 'metapath', 'PC', 'w', 'DWPC', 'seconds'])\n",
    "\n",
    "# Create ThreadPoolExecutor\n",
    "executor = concurrent.futures.ThreadPoolExecutor(max_workers=workers)\n",
    "writer_lock = threading.Lock()\n",
    "\n",
    "# Submit jobs\n",
    "n_queries = 0\n",
    "for params in tqdm(generate_parameters(max_elems), total = total_queries):\n",
    "    while executor._work_queue.qsize() > 10000:\n",
    "#         print('Submitted queries: {} ({:.4%})'.format(n_queries, n_queries / total_queries), end='\\r')\n",
    "        time.sleep(1)\n",
    "    executor.submit(compute_dwpc, **params)\n",
    "    n_queries += 1\n",
    "\n",
    "# Shutdown and close\n",
    "executor.shutdown()\n",
    "write_file.close()"
   ]
  },
  {
   "cell_type": "code",
   "execution_count": 14,
   "metadata": {
    "collapsed": false
   },
   "outputs": [
    {
     "data": {
      "text/plain": [
       "334608"
      ]
     },
     "execution_count": 14,
     "metadata": {},
     "output_type": "execute_result"
    }
   ],
   "source": [
    "n_queries"
   ]
  }
 ],
 "metadata": {
  "kernelspec": {
   "display_name": "Python 3",
   "language": "python",
   "name": "python3"
  },
  "language_info": {
   "codemirror_mode": {
    "name": "ipython",
    "version": 3
   },
   "file_extension": ".py",
   "mimetype": "text/x-python",
   "name": "python",
   "nbconvert_exporter": "python",
   "pygments_lexer": "ipython3",
   "version": "3.5.1"
  }
 },
 "nbformat": 4,
 "nbformat_minor": 0
}
