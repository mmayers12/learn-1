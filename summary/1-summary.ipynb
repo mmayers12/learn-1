{
 "cells": [
  {
   "cell_type": "markdown",
   "metadata": {},
   "source": [
    "# Create summary files for diseases, compounds, and indications"
   ]
  },
  {
   "cell_type": "code",
   "execution_count": 1,
   "metadata": {
    "collapsed": true
   },
   "outputs": [],
   "source": [
    "import json\n",
    "\n",
    "import py2neo\n",
    "import pandas"
   ]
  },
  {
   "cell_type": "code",
   "execution_count": 2,
   "metadata": {
    "collapsed": false
   },
   "outputs": [
    {
     "data": {
      "text/plain": [
       "<Graph uri='http://localhost:7500/db/data/'>"
      ]
     },
     "execution_count": 2,
     "metadata": {},
     "output_type": "execute_result"
    }
   ],
   "source": [
    "with open('../all-features/servers.json') as read_file:\n",
    "    instances = json.load(read_file)\n",
    "\n",
    "for instance in instances:\n",
    "    if instance['name'] == 'rephetio-v2.0':\n",
    "        uri = 'http://localhost:{}/db/data/'.format(instance['port'])    \n",
    "        neo = py2neo.Graph(uri)\n",
    "        break\n",
    "neo"
   ]
  },
  {
   "cell_type": "code",
   "execution_count": 3,
   "metadata": {
    "collapsed": true
   },
   "outputs": [],
   "source": [
    "def to_df(record_list):\n",
    "    \"\"\"Convert a py2neo RecordList to a dataframe\"\"\"\n",
    "    return pandas.DataFrame(record_list.records, columns = record_list.columns)"
   ]
  },
  {
   "cell_type": "markdown",
   "metadata": {},
   "source": [
    "## Retreive compounds and diseases that are connected"
   ]
  },
  {
   "cell_type": "code",
   "execution_count": 4,
   "metadata": {
    "collapsed": false
   },
   "outputs": [
    {
     "data": {
      "text/html": [
       "<div>\n",
       "<table border=\"1\" class=\"dataframe\">\n",
       "  <thead>\n",
       "    <tr style=\"text-align: right;\">\n",
       "      <th></th>\n",
       "      <th>disease_id</th>\n",
       "      <th>disease_name</th>\n",
       "      <th>treats</th>\n",
       "      <th>palliates</th>\n",
       "      <th>total_edges</th>\n",
       "    </tr>\n",
       "  </thead>\n",
       "  <tbody>\n",
       "    <tr>\n",
       "      <th>0</th>\n",
       "      <td>DOID:10652</td>\n",
       "      <td>Alzheimer's disease</td>\n",
       "      <td>3</td>\n",
       "      <td>0</td>\n",
       "      <td>199</td>\n",
       "    </tr>\n",
       "    <tr>\n",
       "      <th>1</th>\n",
       "      <td>DOID:9206</td>\n",
       "      <td>Barrett's esophagus</td>\n",
       "      <td>0</td>\n",
       "      <td>0</td>\n",
       "      <td>24</td>\n",
       "    </tr>\n",
       "  </tbody>\n",
       "</table>\n",
       "</div>"
      ],
      "text/plain": [
       "   disease_id         disease_name  treats  palliates  total_edges\n",
       "0  DOID:10652  Alzheimer's disease       3          0          199\n",
       "1   DOID:9206  Barrett's esophagus       0          0           24"
      ]
     },
     "execution_count": 4,
     "metadata": {},
     "output_type": "execute_result"
    }
   ],
   "source": [
    "query = '''\n",
    "MATCH (disease:Disease)\n",
    "WHERE exists((disease)-[]-())\n",
    "RETURN\n",
    "  disease.identifier AS disease_id,\n",
    "  disease.name AS disease_name,\n",
    "  size((disease)-[:TREATS_CtD]-()) AS treats,\n",
    "  size((disease)-[:PALLIATES_CpD]-()) AS palliates,\n",
    "  size((disease)-[]-()) AS total_edges\n",
    "ORDER BY disease_name\n",
    "'''\n",
    "\n",
    "disease_df = to_df(neo.cypher.execute(query))\n",
    "disease_df.head(2)"
   ]
  },
  {
   "cell_type": "code",
   "execution_count": 5,
   "metadata": {
    "collapsed": false
   },
   "outputs": [
    {
     "data": {
      "text/html": [
       "<div>\n",
       "<table border=\"1\" class=\"dataframe\">\n",
       "  <thead>\n",
       "    <tr style=\"text-align: right;\">\n",
       "      <th></th>\n",
       "      <th>compound_id</th>\n",
       "      <th>compound_name</th>\n",
       "      <th>treats</th>\n",
       "      <th>palliates</th>\n",
       "      <th>total_edges</th>\n",
       "    </tr>\n",
       "  </thead>\n",
       "  <tbody>\n",
       "    <tr>\n",
       "      <th>0</th>\n",
       "      <td>DB01048</td>\n",
       "      <td>Abacavir</td>\n",
       "      <td>1</td>\n",
       "      <td>0</td>\n",
       "      <td>4</td>\n",
       "    </tr>\n",
       "    <tr>\n",
       "      <th>1</th>\n",
       "      <td>DB05812</td>\n",
       "      <td>Abiraterone</td>\n",
       "      <td>1</td>\n",
       "      <td>0</td>\n",
       "      <td>9</td>\n",
       "    </tr>\n",
       "  </tbody>\n",
       "</table>\n",
       "</div>"
      ],
      "text/plain": [
       "  compound_id compound_name  treats  palliates  total_edges\n",
       "0     DB01048      Abacavir       1          0            4\n",
       "1     DB05812   Abiraterone       1          0            9"
      ]
     },
     "execution_count": 5,
     "metadata": {},
     "output_type": "execute_result"
    }
   ],
   "source": [
    "query = '''\n",
    "MATCH (compound:Compound)\n",
    "WHERE exists((compound)-[]-())\n",
    "RETURN\n",
    "  compound.identifier AS compound_id,\n",
    "  compound.name AS compound_name,\n",
    "  size((compound)-[:TREATS_CtD]-()) AS treats,\n",
    "  size((compound)-[:PALLIATES_CpD]-()) AS palliates,\n",
    "  size((compound)-[]-()) AS total_edges\n",
    "ORDER BY compound_name\n",
    "'''\n",
    "\n",
    "compound_df = to_df(neo.cypher.execute(query))\n",
    "compound_df.head(2)"
   ]
  },
  {
   "cell_type": "code",
   "execution_count": 6,
   "metadata": {
    "collapsed": true
   },
   "outputs": [],
   "source": [
    "compound_df.to_csv('compounds.tsv', sep='\\t', index=False)\n",
    "disease_df.to_csv('diseases.tsv', sep='\\t', index=False)"
   ]
  },
  {
   "cell_type": "markdown",
   "metadata": {},
   "source": [
    "## Retrieve indications from hetnet"
   ]
  },
  {
   "cell_type": "code",
   "execution_count": 7,
   "metadata": {
    "collapsed": false
   },
   "outputs": [
    {
     "data": {
      "text/html": [
       "<div>\n",
       "<table border=\"1\" class=\"dataframe\">\n",
       "  <thead>\n",
       "    <tr style=\"text-align: right;\">\n",
       "      <th></th>\n",
       "      <th>compound_id</th>\n",
       "      <th>compound_name</th>\n",
       "      <th>disease_id</th>\n",
       "      <th>disease_name</th>\n",
       "      <th>rel_type</th>\n",
       "    </tr>\n",
       "  </thead>\n",
       "  <tbody>\n",
       "    <tr>\n",
       "      <th>0</th>\n",
       "      <td>DB01048</td>\n",
       "      <td>Abacavir</td>\n",
       "      <td>DOID:635</td>\n",
       "      <td>acquired immunodeficiency syndrome</td>\n",
       "      <td>TREATS_CtD</td>\n",
       "    </tr>\n",
       "    <tr>\n",
       "      <th>1</th>\n",
       "      <td>DB05812</td>\n",
       "      <td>Abiraterone</td>\n",
       "      <td>DOID:10283</td>\n",
       "      <td>prostate cancer</td>\n",
       "      <td>TREATS_CtD</td>\n",
       "    </tr>\n",
       "  </tbody>\n",
       "</table>\n",
       "</div>"
      ],
      "text/plain": [
       "  compound_id compound_name  disease_id                        disease_name  \\\n",
       "0     DB01048      Abacavir    DOID:635  acquired immunodeficiency syndrome   \n",
       "1     DB05812   Abiraterone  DOID:10283                     prostate cancer   \n",
       "\n",
       "     rel_type  \n",
       "0  TREATS_CtD  \n",
       "1  TREATS_CtD  "
      ]
     },
     "execution_count": 7,
     "metadata": {},
     "output_type": "execute_result"
    }
   ],
   "source": [
    "indication_query = '''\n",
    "MATCH (compound:Compound)-[rel]->(disease:Disease)\n",
    "RETURN\n",
    "  compound.identifier AS compound_id,\n",
    "  compound.name AS compound_name,\n",
    "  disease.identifier AS disease_id,\n",
    "  disease.name AS disease_name,\n",
    "  type(rel) AS rel_type\n",
    "ORDER BY\n",
    "  compound_name, rel_type DESC, disease_name\n",
    "'''\n",
    "indication_df = to_df(neo.cypher.execute(indication_query))\n",
    "indication_df.head(2)"
   ]
  },
  {
   "cell_type": "code",
   "execution_count": 8,
   "metadata": {
    "collapsed": true
   },
   "outputs": [],
   "source": [
    "indication_df.to_csv('indications.tsv', sep='\\t', index=False)"
   ]
  }
 ],
 "metadata": {
  "kernelspec": {
   "display_name": "Python 3",
   "language": "python",
   "name": "python3"
  },
  "language_info": {
   "codemirror_mode": {
    "name": "ipython",
    "version": 3
   },
   "file_extension": ".py",
   "mimetype": "text/x-python",
   "name": "python",
   "nbconvert_exporter": "python",
   "pygments_lexer": "ipython3",
   "version": "3.5.1"
  }
 },
 "nbformat": 4,
 "nbformat_minor": 0
}
